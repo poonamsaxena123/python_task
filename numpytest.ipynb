{
 "cells": [
  {
   "cell_type": "code",
   "execution_count": 90,
   "id": "3d95d5c2-2481-4af0-a8fa-48cb55119fbf",
   "metadata": {},
   "outputs": [
    {
     "data": {
      "text/plain": [
       "array([[4, 5, 6, 7],\n",
       "       [3, 5, 6, 7]])"
      ]
     },
     "execution_count": 90,
     "metadata": {},
     "output_type": "execute_result"
    }
   ],
   "source": [
    "# reshaping numpy array\n",
    "\n",
    "import numpy as np\n",
    "\n",
    "arr4 = np.array([[4,5,6,7],[3,5,6,7]])\n",
    "ar= np.arange(5)\n",
    "\n",
    "arr4.ndim\n",
    "arr4.ravel()\n",
    "np.ravel(arr4)\n",
    "arr4"
   ]
  },
  {
   "cell_type": "code",
   "execution_count": 12,
   "id": "da37589f-adf6-40ce-af96-8359a9281c55",
   "metadata": {},
   "outputs": [
    {
     "data": {
      "text/plain": [
       "array([[4, 5, 6, 7, 4, 5, 6, 2],\n",
       "       [3, 5, 6, 7, 1, 1, 1, 1]])"
      ]
     },
     "execution_count": 12,
     "metadata": {},
     "output_type": "execute_result"
    }
   ],
   "source": [
    "arr5 = np.array([[4,5,6,2],[1,1,1,1]])  # horisntal add\n",
    "np.hstack((arr4,arr5))"
   ]
  },
  {
   "cell_type": "code",
   "execution_count": 18,
   "id": "5d2b0e39-0775-477a-ac38-966b3ab6ffa6",
   "metadata": {},
   "outputs": [
    {
     "data": {
      "text/plain": [
       "[array([[4],\n",
       "        [1]]),\n",
       " array([[5],\n",
       "        [1]]),\n",
       " array([[6],\n",
       "        [1]]),\n",
       " array([[2],\n",
       "        [1]])]"
      ]
     },
     "execution_count": 18,
     "metadata": {},
     "output_type": "execute_result"
    }
   ],
   "source": [
    "np.vstack((arr4,arr5))  # vertically add\n",
    "\n",
    "np.hsplit(arr5,4)  # horigently split"
   ]
  },
  {
   "cell_type": "code",
   "execution_count": 17,
   "id": "96b78a44-72d6-4a08-bd1a-3a1ff5657925",
   "metadata": {},
   "outputs": [
    {
     "data": {
      "text/plain": [
       "[array([[4, 5, 6, 2]]), array([[1, 1, 1, 1]])]"
      ]
     },
     "execution_count": 17,
     "metadata": {},
     "output_type": "execute_result"
    }
   ],
   "source": [
    "np.vsplit(arr5,2)"
   ]
  },
  {
   "cell_type": "code",
   "execution_count": 27,
   "id": "d8af5145-4872-45be-a316-c26029ccc884",
   "metadata": {},
   "outputs": [
    {
     "data": {
      "text/plain": [
       "array([[ 0,  1,  2,  3],\n",
       "       [ 4,  5,  6,  7],\n",
       "       [ 8,  9, 10, 11],\n",
       "       [12, 13, 14, 15],\n",
       "       [16, 17, 18, 19],\n",
       "       [20, 21, 22, 23]])"
      ]
     },
     "execution_count": 27,
     "metadata": {},
     "output_type": "execute_result"
    }
   ],
   "source": [
    "a2= np.arange(24).reshape(6,4)\n",
    "a2\n"
   ]
  },
  {
   "cell_type": "code",
   "execution_count": 31,
   "id": "5bca8c59-6369-4743-be44-19bf1bf96811",
   "metadata": {},
   "outputs": [
    {
     "data": {
      "text/plain": [
       "array([16, 17, 18, 19, 20, 21, 22, 23])"
      ]
     },
     "execution_count": 31,
     "metadata": {},
     "output_type": "execute_result"
    }
   ],
   "source": [
    "a2[[0,2,4]] # fancy indexing \n",
    "\n",
    "a2[a2>15 ]  #in dexing using oolean array also filter"
   ]
  },
  {
   "cell_type": "code",
   "execution_count": 37,
   "id": "90469bf9-bb00-4a1f-9dd9-9061ef8a2584",
   "metadata": {},
   "outputs": [
    {
     "data": {
      "text/plain": [
       "array([16, 18, 20, 22])"
      ]
     },
     "execution_count": 37,
     "metadata": {},
     "output_type": "execute_result"
    }
   ],
   "source": [
    "a2[(a2>15) & (a2%2==0)]  # only value that satisfy condition"
   ]
  },
  {
   "cell_type": "code",
   "execution_count": 41,
   "id": "a9537807-96f7-4293-884f-13512eec82d0",
   "metadata": {},
   "outputs": [
    {
     "data": {
      "text/plain": [
       "array([[ 0,  1,  2,  3],\n",
       "       [ 4,  5,  6,  7],\n",
       "       [ 8,  9, 10, 11],\n",
       "       [12, 13, 14, 15],\n",
       "       [ 0, 17,  0, 19],\n",
       "       [ 0, 21,  0, 23]])"
      ]
     },
     "execution_count": 41,
     "metadata": {},
     "output_type": "execute_result"
    }
   ],
   "source": [
    "a2[(a2>15) & (a2%2==0)]=0\n",
    "a2"
   ]
  },
  {
   "cell_type": "code",
   "execution_count": 49,
   "id": "576294ce-0d05-4b87-902d-d0b885c83860",
   "metadata": {},
   "outputs": [
    {
     "data": {
      "text/plain": [
       "array([[ 4,  5,  6,  7],\n",
       "       [ 8,  9, 10, 11],\n",
       "       [12, 13, 14, 15],\n",
       "       [16, 17, 18, 19],\n",
       "       [ 4, 21,  4, 23],\n",
       "       [ 4, 25,  4, 27]])"
      ]
     },
     "execution_count": 49,
     "metadata": {},
     "output_type": "execute_result"
    }
   ],
   "source": [
    "a3 =np.array([4])\n",
    "a2 + a3 "
   ]
  },
  {
   "cell_type": "code",
   "execution_count": 51,
   "id": "64cb48d0-6d80-4858-b3da-9a3dd56b5e4d",
   "metadata": {},
   "outputs": [
    {
     "data": {
      "text/plain": [
       "array([[2.0e-323, 2.5e-323, 4.0e-323],\n",
       "       [4.4e-323, 0.0e+000, 4.0e-323]])"
      ]
     },
     "execution_count": 51,
     "metadata": {},
     "output_type": "execute_result"
    }
   ],
   "source": [
    "a1=np.empty((2,3))\n",
    "a1"
   ]
  },
  {
   "cell_type": "code",
   "execution_count": 57,
   "id": "233cbd0e-c516-4b98-b647-f9ee4a5ec206",
   "metadata": {},
   "outputs": [
    {
     "data": {
      "text/plain": [
       "560"
      ]
     },
     "execution_count": 57,
     "metadata": {},
     "output_type": "execute_result"
    }
   ],
   "source": [
    "A=np.array([3,4,5,1,10])\n",
    "C=np.array([30,40,50,60,0])\n",
    "A @ C\n",
    "A = np.array([[1, 1],\n",
    "              [0, 1]])\n",
    "B = np.array([[2, 0],\n",
    "              [3, 4]])\n",
    "A @ B"
   ]
  },
  {
   "cell_type": "code",
   "execution_count": 85,
   "id": "4895fd8e-d477-452d-ad86-8c52163ff478",
   "metadata": {},
   "outputs": [
    {
     "data": {
      "text/plain": [
       "array([[0.08421878, 0.48755659, 0.71950582],\n",
       "       [0.3783436 , 0.59489875, 0.59522381]])"
      ]
     },
     "execution_count": 85,
     "metadata": {},
     "output_type": "execute_result"
    }
   ],
   "source": [
    "ar= np.random.uniform(0,1,6).reshape(2,3)\n",
    "ar\n",
    "ar2= np.ones((2,3), dtype=int)\n",
    "ar2*3"
   ]
  },
  {
   "cell_type": "code",
   "execution_count": 83,
   "id": "bdd98961-d2ce-4367-aab0-59b6b1956f39",
   "metadata": {},
   "outputs": [
    {
     "data": {
      "text/plain": [
       "array([[1, 1, 1],\n",
       "       [1, 1, 1]])"
      ]
     },
     "execution_count": 83,
     "metadata": {},
     "output_type": "execute_result"
    }
   ],
   "source": [
    "import numpy as np\n",
    "\n",
    "rg = np.random.default_rng(1)  # Create instance of default random number generator\n"
   ]
  },
  {
   "cell_type": "code",
   "execution_count": 80,
   "id": "ba233b0f-0aac-4907-aaca-01afdf3c3d1f",
   "metadata": {},
   "outputs": [
    {
     "data": {
      "text/plain": [
       "array([[3.53470257, 3.5758982 , 3.10976753],\n",
       "       [3.01978224, 3.81614505, 3.51793342]])"
      ]
     },
     "execution_count": 80,
     "metadata": {},
     "output_type": "execute_result"
    }
   ],
   "source": [
    "ar += ar2\n",
    "ar"
   ]
  },
  {
   "cell_type": "code",
   "execution_count": 89,
   "id": "118c0986-5dde-482b-b26c-7c74edd0d3e6",
   "metadata": {},
   "outputs": [
    {
     "name": "stdout",
     "output_type": "stream",
     "text": [
      "[0.         0.10833078 0.21666156 0.32499234 0.43332312 0.54165391\n",
      " 0.64998469 0.75831547 0.86664625 0.97497703 1.08330781 1.19163859\n",
      " 1.29996937 1.40830016 1.51663094 1.62496172 1.7332925  1.84162328\n",
      " 1.94995406 2.05828484 2.16661562 2.2749464  2.38327719 2.49160797\n",
      " 2.59993875 2.70826953 2.81660031 2.92493109 3.03326187 3.14159265]\n"
     ]
    }
   ],
   "source": [
    "import numpy as np\n",
    "\n",
    "# Define the value of pi\n",
    "pi = np.pi\n",
    "\n",
    "# Generate an array with 3 values evenly spaced between 0 and pi\n",
    "b = np.linspace(0, pi, 30)\n",
    "\n",
    "# Print the array\n",
    "print(b)\n"
   ]
  },
  {
   "cell_type": "code",
   "execution_count": null,
   "id": "fda2bfd2-df77-46e8-b729-c8e5943ecc78",
   "metadata": {},
   "outputs": [],
   "source": []
  }
 ],
 "metadata": {
  "kernelspec": {
   "display_name": "Python 3 (ipykernel)",
   "language": "python",
   "name": "python3"
  },
  "language_info": {
   "codemirror_mode": {
    "name": "ipython",
    "version": 3
   },
   "file_extension": ".py",
   "mimetype": "text/x-python",
   "name": "python",
   "nbconvert_exporter": "python",
   "pygments_lexer": "ipython3",
   "version": "3.8.10"
  }
 },
 "nbformat": 4,
 "nbformat_minor": 5
}
