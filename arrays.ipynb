{
 "cells": [
  {
   "cell_type": "code",
   "execution_count": 1,
   "id": "b0c932fa-232d-4c7a-8984-e947f3ff02a6",
   "metadata": {},
   "outputs": [
    {
     "name": "stdout",
     "output_type": "stream",
     "text": [
      "[1 2 3 4]\n"
     ]
    }
   ],
   "source": [
    "import numpy as np\n",
    "array1D=np.array([1,2,3,4])\n",
    "print(array1D)\n"
   ]
  },
  {
   "cell_type": "code",
   "execution_count": 2,
   "id": "e0427c6b-768b-457b-aa43-b827049e510d",
   "metadata": {},
   "outputs": [
    {
     "name": "stdout",
     "output_type": "stream",
     "text": [
      "2D Array:\n",
      " [[1 2 3]\n",
      " [4 5 6]]\n",
      "\n",
      " object\n",
      "\n",
      " [1 'two' list([3, 1, 9]) {1: 'mango'} 8]\n",
      "two\n",
      "[3, 1, 9]\n"
     ]
    }
   ],
   "source": [
    "# Creating a 2D array\n",
    "import numpy as np\n",
    "array_2d = np.array([[1, 2, 3], [4, 5, 6]])\n",
    "print(\"2D Array:\\n\", array_2d)\n",
    "\n",
    "\n",
    "arr_oje=np.array([1,\"two\",[3,1,9],{1:\"mango\"},8], dtype=object)\n",
    "print(\"\\n\",arr_oje.dtype)\n",
    "print(\"\\n\",arr_oje)\n",
    "\n",
    "print(arr_oje[1])\n",
    "print(arr_oje[2])\n",
    "\n",
    "\n",
    "\n"
   ]
  },
  {
   "cell_type": "code",
   "execution_count": 3,
   "id": "db3f91db-ff31-4e57-8da0-9eb77fe665c5",
   "metadata": {},
   "outputs": [
    {
     "name": "stdout",
     "output_type": "stream",
     "text": [
      "[ 7 10 13  8]\n",
      "[12 24 40 12]\n",
      "scalar opreation :  [5 6 7 8]\n"
     ]
    }
   ],
   "source": [
    "# Creating a 2D array\n",
    "import numpy as np\n",
    "\n",
    "arr1 = np.array([3,4,5,6])\n",
    "arr2 = np.array([4,6,8,2])\n",
    "arr3 = arr1 + arr2  # element wise addition vectorized\n",
    "print(arr3)\n",
    "\n",
    "arr4 = arr1 * arr2  # elemnt wise multiplucation of vetorized\n",
    "print(arr4)\n",
    "\n",
    "arr4 = arr1 + 2   # scalar opreation vactorized\n",
    "print(\"scalar opreation : \",arr4)\n",
    "  "
   ]
  },
  {
   "cell_type": "code",
   "execution_count": 22,
   "id": "1f0f4399-bda6-4b94-8544-a5f0ea5ec2ca",
   "metadata": {},
   "outputs": [
    {
     "name": "stdout",
     "output_type": "stream",
     "text": [
      "[ 7 10 13  8]\n",
      "[12 24 40 12]\n",
      "scalar opreation :  [5 6 7 8]\n"
     ]
    }
   ],
   "source": [
    "# Creating a 2D array\n",
    "import numpy as np\n",
    "\n",
    "arr1 = np.array([3,4,5,6])\n",
    "arr2 = np.array([4,6,8,2])\n",
    "arr3 = arr1 + arr2  # element wise addition vectorized\n",
    "print(arr3)\n",
    "\n",
    "arr4 = arr1 * arr2  # elemnt wise multiplucation of vetorized\n",
    "print(arr4)\n",
    "\n",
    "arr4 = arr1 + 2   # scalar opreation vactorized\n",
    "print(\"scalar opreation : \",arr4)\n",
    "  "
   ]
  },
  {
   "cell_type": "code",
   "execution_count": 2,
   "id": "ecaa58eb-5073-405b-81f5-0d128957042d",
   "metadata": {},
   "outputs": [
    {
     "name": "stdout",
     "output_type": "stream",
     "text": [
      "[6 7 8 9]\n"
     ]
    }
   ],
   "source": [
    "# performing opretion on scalar and array roadcasting\n",
    "import numpy as np\n",
    "arr1 = np.array([3,4,5,6])\n",
    "scalar = 3\n",
    "result = arr1 + scalar\n",
    "print(result)\n",
    "\n",
    "\n",
    "  "
   ]
  },
  {
   "cell_type": "code",
   "execution_count": 3,
   "id": "4582bb1c-be1b-4aae-8b70-b67d206cf5d7",
   "metadata": {},
   "outputs": [],
   "source": [
    "import numpy as np\n"
   ]
  },
  {
   "cell_type": "code",
   "execution_count": 4,
   "id": "39878254-5e59-4a8a-826a-c203e509e89a",
   "metadata": {},
   "outputs": [
    {
     "name": "stdout",
     "output_type": "stream",
     "text": [
      "[2 3 4 5]\n"
     ]
    }
   ],
   "source": [
    "arr=np.array([2,3,4,5])\n",
    "print(arr)"
   ]
  },
  {
   "cell_type": "code",
   "execution_count": 5,
   "id": "1fcc7c0f-39de-4ef9-b02e-b155e1289f66",
   "metadata": {},
   "outputs": [
    {
     "data": {
      "text/plain": [
       "numpy.ndarray"
      ]
     },
     "execution_count": 5,
     "metadata": {},
     "output_type": "execute_result"
    }
   ],
   "source": [
    "type(arr)"
   ]
  },
  {
   "cell_type": "code",
   "execution_count": 7,
   "id": "e4d2b431-771c-495b-a42e-ff4347f820c2",
   "metadata": {},
   "outputs": [
    {
     "name": "stdout",
     "output_type": "stream",
     "text": [
      "[[1 3 4]\n",
      " [3 4 5]]\n"
     ]
    },
    {
     "data": {
      "text/plain": [
       "array([[1, 3, 4],\n",
       "       [3, 4, 5]])"
      ]
     },
     "execution_count": 7,
     "metadata": {},
     "output_type": "execute_result"
    }
   ],
   "source": [
    "arr_2d= np.array([[1,3,4],[3,4,5]])\n",
    "print(arr_2d)\n",
    "arr_2d"
   ]
  },
  {
   "cell_type": "code",
   "execution_count": 15,
   "id": "9aa7a2d7-6532-4b87-be0c-dba129a9fb6e",
   "metadata": {},
   "outputs": [
    {
     "data": {
      "text/plain": [
       "array([[0., 0., 0.],\n",
       "       [0., 0., 0.]])"
      ]
     },
     "execution_count": 15,
     "metadata": {},
     "output_type": "execute_result"
    }
   ],
   "source": [
    "arr3 = np.zeros((2,3))\n",
    "arr3\n"
   ]
  },
  {
   "cell_type": "code",
   "execution_count": 17,
   "id": "32de1f86-010c-4593-87f3-494d7df74992",
   "metadata": {},
   "outputs": [
    {
     "data": {
      "text/plain": [
       "array([[1., 1., 1.],\n",
       "       [1., 1., 1.]])"
      ]
     },
     "execution_count": 17,
     "metadata": {},
     "output_type": "execute_result"
    }
   ],
   "source": [
    "arr=np.ones([2,3])\n",
    "arr"
   ]
  },
  {
   "cell_type": "code",
   "execution_count": 165,
   "id": "3fe3f37f-4bf5-4d22-b02e-f794d3c3c1a8",
   "metadata": {},
   "outputs": [
    {
     "data": {
      "text/plain": [
       "array([[1., 0., 0., 0.],\n",
       "       [0., 1., 0., 0.],\n",
       "       [0., 0., 1., 0.],\n",
       "       [0., 0., 0., 1.]])"
      ]
     },
     "execution_count": 165,
     "metadata": {},
     "output_type": "execute_result"
    }
   ],
   "source": [
    "arr=np.identity(4)\n",
    "arr"
   ]
  },
  {
   "cell_type": "code",
   "execution_count": 25,
   "id": "dcb1681b-01dc-415f-86d8-3b8c190ec527",
   "metadata": {},
   "outputs": [
    {
     "data": {
      "text/plain": [
       "array([ 6,  8, 10, 12, 14])"
      ]
     },
     "execution_count": 25,
     "metadata": {},
     "output_type": "execute_result"
    }
   ],
   "source": [
    "arr=np.arange(6,16,2)\n",
    "arr"
   ]
  },
  {
   "cell_type": "code",
   "execution_count": 31,
   "id": "9852b065-52bd-4acf-ba58-ee2230ae8202",
   "metadata": {},
   "outputs": [
    {
     "name": "stdout",
     "output_type": "stream",
     "text": [
      "[3.  4.5 6.  7.5 9. ]\n"
     ]
    }
   ],
   "source": [
    "arr=np.linspace(3,9,5)\n",
    "print(arr)"
   ]
  },
  {
   "cell_type": "code",
   "execution_count": 32,
   "id": "090e28b4-0347-4b62-8491-54d031bb1378",
   "metadata": {},
   "outputs": [
    {
     "data": {
      "text/plain": [
       "array([3. , 4.5, 6. , 7.5, 9. ])"
      ]
     },
     "execution_count": 32,
     "metadata": {},
     "output_type": "execute_result"
    }
   ],
   "source": [
    "a2=arr.copy()\n",
    "a2"
   ]
  },
  {
   "cell_type": "code",
   "execution_count": 39,
   "id": "a9d6836a-4c27-451f-aa67-485e3e08a55b",
   "metadata": {},
   "outputs": [
    {
     "data": {
      "text/plain": [
       "3"
      ]
     },
     "execution_count": 39,
     "metadata": {},
     "output_type": "execute_result"
    }
   ],
   "source": [
    "arr4=np.array([[[1,2],[3,4],[5,6],[2,4]]])\n",
    "arr4.shape\n",
    "arr4.ndim\n",
    "# print(arr4)"
   ]
  },
  {
   "cell_type": "code",
   "execution_count": 41,
   "id": "3c405cfc-6b85-43f9-ae57-d51c1a5b46d1",
   "metadata": {},
   "outputs": [
    {
     "data": {
      "text/plain": [
       "range(0, 100)"
      ]
     },
     "execution_count": 41,
     "metadata": {},
     "output_type": "execute_result"
    }
   ],
   "source": [
    "li=range(100)\n",
    "arr1=np.arange(100)\n",
    "li\n"
   ]
  },
  {
   "cell_type": "code",
   "execution_count": 42,
   "id": "be3d00c2-cff8-4220-a5be-6d416a02b6ef",
   "metadata": {},
   "outputs": [
    {
     "name": "stdout",
     "output_type": "stream",
     "text": [
      "2800\n"
     ]
    }
   ],
   "source": [
    "import sys \n",
    "print(sys.getsizeof(87)* len(li))"
   ]
  },
  {
   "cell_type": "code",
   "execution_count": 44,
   "id": "7fe319ec-33e7-4a2e-9c4d-2007762c72d9",
   "metadata": {},
   "outputs": [
    {
     "name": "stdout",
     "output_type": "stream",
     "text": [
      "32\n"
     ]
    }
   ],
   "source": [
    "print(arr1.itemsize *arr1.size)"
   ]
  },
  {
   "cell_type": "code",
   "execution_count": 47,
   "id": "7b1cb2c4-760d-4e97-8736-98e8a644eb44",
   "metadata": {},
   "outputs": [
    {
     "name": "stdout",
     "output_type": "stream",
     "text": [
      "1.2622761726379395\n"
     ]
    }
   ],
   "source": [
    "import time \n",
    "\n",
    "x=range(10000000)\n",
    "y=range(10000000,20000000)\n",
    "start_time=time.time()\n",
    "\n",
    "c=[(x,y) for x,y in zip(x,y)]\n",
    "print(time.time() -start_time)"
   ]
  },
  {
   "cell_type": "code",
   "execution_count": 48,
   "id": "54fcc516-95a8-497d-a908-2cc7c68ba6cd",
   "metadata": {},
   "outputs": [
    {
     "name": "stdout",
     "output_type": "stream",
     "text": [
      "0.36186838150024414\n"
     ]
    }
   ],
   "source": [
    "a2=np.arange(10000000)\n",
    "a3=np.arange(10000000)\n",
    "start_time=time.time()\n",
    "c= a2+a3\n",
    "print(time.time()-start_time)"
   ]
  },
  {
   "cell_type": "code",
   "execution_count": 57,
   "id": "791f3df8-9283-4d18-b518-92feec25702e",
   "metadata": {},
   "outputs": [
    {
     "data": {
      "text/plain": [
       "array([[ 0,  1,  2,  3],\n",
       "       [ 4,  5,  6,  7],\n",
       "       [ 8,  9, 10, 11],\n",
       "       [12, 13, 14, 15],\n",
       "       [16, 17, 18, 19],\n",
       "       [20, 21, 22, 23]])"
      ]
     },
     "execution_count": 57,
     "metadata": {},
     "output_type": "execute_result"
    }
   ],
   "source": [
    "arr=np.arange(24).reshape(6,4)\n",
    "arr\n"
   ]
  },
  {
   "cell_type": "code",
   "execution_count": 75,
   "id": "83b00d42-eefe-4e72-8bcb-9ff22e03ead1",
   "metadata": {},
   "outputs": [
    {
     "data": {
      "text/plain": [
       "array([[18, 19],\n",
       "       [22, 23]])"
      ]
     },
     "execution_count": 75,
     "metadata": {},
     "output_type": "execute_result"
    }
   ],
   "source": [
    "arr[4:6:,2:4]   # slicing"
   ]
  },
  {
   "cell_type": "code",
   "execution_count": 76,
   "id": "3e57d804-002d-4478-87f4-e12c1e778bdf",
   "metadata": {},
   "outputs": [
    {
     "name": "stdout",
     "output_type": "stream",
     "text": [
      "[0 1 2 3]\n",
      "[4 5 6 7]\n",
      "[ 8  9 10 11]\n",
      "[12 13 14 15]\n",
      "[16 17 18 19]\n",
      "[20 21 22 23]\n"
     ]
    }
   ],
   "source": [
    "# iteration\n",
    "for i in arr:\n",
    "    print(i)"
   ]
  },
  {
   "cell_type": "code",
   "execution_count": 78,
   "id": "ceb5311d-c359-42b4-aabe-65a1e8cc3849",
   "metadata": {},
   "outputs": [
    {
     "name": "stdout",
     "output_type": "stream",
     "text": [
      "0\n",
      "1\n",
      "2\n",
      "3\n",
      "4\n",
      "5\n",
      "6\n",
      "7\n",
      "8\n",
      "9\n",
      "10\n",
      "11\n",
      "12\n",
      "13\n",
      "14\n",
      "15\n",
      "16\n",
      "17\n",
      "18\n",
      "19\n",
      "20\n",
      "21\n",
      "22\n",
      "23\n"
     ]
    }
   ],
   "source": [
    "for i in np.nditer(arr):\n",
    "    print(i)"
   ]
  },
  {
   "cell_type": "code",
   "execution_count": 81,
   "id": "0f258378-0cdd-4f74-baca-ad9da26a25c5",
   "metadata": {},
   "outputs": [
    {
     "data": {
      "text/plain": [
       "array([-5, -5,  5,  2,  4])"
      ]
     },
     "execution_count": 81,
     "metadata": {},
     "output_type": "execute_result"
    }
   ],
   "source": [
    "ar1=np.array([3,4,5,5,6])\n",
    "ar2=np.array([8,9,0,3,2])\n",
    "ar1-ar2"
   ]
  },
  {
   "cell_type": "code",
   "execution_count": 84,
   "id": "94872f0c-5f5b-460c-ab7c-58cf5fabdf17",
   "metadata": {},
   "outputs": [
    {
     "data": {
      "text/plain": [
       "array([ 6,  8, 10, 10, 12])"
      ]
     },
     "execution_count": 84,
     "metadata": {},
     "output_type": "execute_result"
    }
   ],
   "source": [
    "ar1 * 2  # scalar multiplication"
   ]
  },
  {
   "cell_type": "code",
   "execution_count": null,
   "id": "efb92e77-222d-4060-942d-81df39111091",
   "metadata": {},
   "outputs": [],
   "source": [
    "ar1 * ar2 # vectore multiplication"
   ]
  },
  {
   "cell_type": "code",
   "execution_count": 85,
   "id": "8ba9e85f-55bb-4955-8653-b64e2e095f09",
   "metadata": {},
   "outputs": [
    {
     "data": {
      "text/plain": [
       "array([ True,  True,  True,  True,  True])"
      ]
     },
     "execution_count": 85,
     "metadata": {},
     "output_type": "execute_result"
    }
   ],
   "source": [
    "ar1 > 2"
   ]
  },
  {
   "cell_type": "code",
   "execution_count": 93,
   "id": "65775372-ecc8-470e-be0b-90b5f875c196",
   "metadata": {},
   "outputs": [
    {
     "data": {
      "text/plain": [
       "array([[0, 1],\n",
       "       [2, 3],\n",
       "       [4, 5]])"
      ]
     },
     "execution_count": 93,
     "metadata": {},
     "output_type": "execute_result"
    }
   ],
   "source": [
    "a =np.arange(6).reshape(2,3)\n",
    "c= np.arange(6).reshape(3,2)\n",
    "\n",
    "a.dot(c)\n",
    "c"
   ]
  },
  {
   "cell_type": "code",
   "execution_count": 99,
   "id": "0b74b987-8d26-4c1b-9577-7a9cd77f4670",
   "metadata": {},
   "outputs": [
    {
     "data": {
      "text/plain": [
       "array([1, 3, 5])"
      ]
     },
     "execution_count": 99,
     "metadata": {},
     "output_type": "execute_result"
    }
   ],
   "source": [
    "c.max(axis =1)"
   ]
  },
  {
   "cell_type": "code",
   "execution_count": 104,
   "id": "829a8ddb-598a-4e48-981d-9953253a823b",
   "metadata": {},
   "outputs": [
    {
     "data": {
      "text/plain": [
       "2.5"
      ]
     },
     "execution_count": 104,
     "metadata": {},
     "output_type": "execute_result"
    }
   ],
   "source": [
    "c.sum(axis=1)\n",
    "c.mean()"
   ]
  },
  {
   "cell_type": "code",
   "execution_count": 108,
   "id": "15f7773b-c190-4979-943d-4820edf3cd5b",
   "metadata": {},
   "outputs": [
    {
     "data": {
      "text/plain": [
       "array([[  1.        ,   2.71828183],\n",
       "       [  7.3890561 ,  20.08553692],\n",
       "       [ 54.59815003, 148.4131591 ]])"
      ]
     },
     "execution_count": 108,
     "metadata": {},
     "output_type": "execute_result"
    }
   ],
   "source": [
    "np.sin(a)\n",
    "np.std(c)\n",
    "np.exp(c)"
   ]
  },
  {
   "cell_type": "code",
   "execution_count": 128,
   "id": "eec17628-ad64-4174-aca2-d2f793b20132",
   "metadata": {},
   "outputs": [
    {
     "data": {
      "text/plain": [
       "0.7203244934421581"
      ]
     },
     "execution_count": 128,
     "metadata": {},
     "output_type": "execute_result"
    }
   ],
   "source": [
    "np.random.random()\n"
   ]
  },
  {
   "cell_type": "code",
   "execution_count": 129,
   "id": "b216ef80-9aee-47e6-bfd0-b5ce7df91215",
   "metadata": {},
   "outputs": [
    {
     "data": {
      "text/plain": [
       "0.417022004702574"
      ]
     },
     "execution_count": 129,
     "metadata": {},
     "output_type": "execute_result"
    }
   ],
   "source": [
    "np.random.seed(1)\n",
    "np.random.random()"
   ]
  },
  {
   "cell_type": "code",
   "execution_count": 134,
   "id": "1957106a-4a7a-496e-a69d-c0739dc6aaad",
   "metadata": {},
   "outputs": [
    {
     "data": {
      "text/plain": [
       "array([ 3.71137173, 67.37628351, 42.31317543, 56.31029302, 14.89830692,\n",
       "       20.61204742, 80.2737123 , 96.857896  , 32.02899364, 69.53993895,\n",
       "       87.76252608])"
      ]
     },
     "execution_count": 134,
     "metadata": {},
     "output_type": "execute_result"
    }
   ],
   "source": [
    "np.random.uniform(1,100, 11)  # random value "
   ]
  },
  {
   "cell_type": "code",
   "execution_count": 135,
   "id": "681d97e9-6e75-41d5-81a5-fe8fa6d74f85",
   "metadata": {},
   "outputs": [
    {
     "data": {
      "text/plain": [
       "array([[89.56605969,  9.41937693,  4.86642354, 17.81321154, 87.93610784],\n",
       "       [10.73633655, 42.68965488, 95.83106348, 53.78336321, 69.49583428]])"
      ]
     },
     "execution_count": 135,
     "metadata": {},
     "output_type": "execute_result"
    }
   ],
   "source": [
    "np.random.uniform(1,100,10).reshape(2,5)"
   ]
  },
  {
   "cell_type": "code",
   "execution_count": 143,
   "id": "44d42503-e3ef-46d6-9b79-6d38baadbe0f",
   "metadata": {},
   "outputs": [
    {
     "data": {
      "text/plain": [
       "array([[9, 5, 1, 2, 9],\n",
       "       [3, 4, 2, 3, 8],\n",
       "       [3, 7, 1, 3, 7]])"
      ]
     },
     "execution_count": 143,
     "metadata": {},
     "output_type": "execute_result"
    }
   ],
   "source": [
    "np.random.randint(1,10,15).reshape(3,5)    # 2D array using random "
   ]
  },
  {
   "cell_type": "code",
   "execution_count": 161,
   "id": "ba5849a8-566c-4525-93a6-cdbb4df111f3",
   "metadata": {},
   "outputs": [
    {
     "data": {
      "text/plain": [
       "array([-1, -1, -1, -1,  4,  4])"
      ]
     },
     "execution_count": 161,
     "metadata": {},
     "output_type": "execute_result"
    }
   ],
   "source": [
    "ar=np.random.randint(1,10,6)\n",
    "np.where(ar%2==1,-1, ar)\n"
   ]
  },
  {
   "cell_type": "code",
   "execution_count": 164,
   "id": "1a9ad69d-5133-4ec0-8a70-21a67505f803",
   "metadata": {},
   "outputs": [
    {
     "data": {
      "text/plain": [
       "array([3, 4, 5, 5, 6, 9])"
      ]
     },
     "execution_count": 164,
     "metadata": {},
     "output_type": "execute_result"
    }
   ],
   "source": [
    "ar1=np.array([9,3,4,5,5,6])\n",
    "ar1.sort()\n",
    "ar1"
   ]
  },
  {
   "cell_type": "code",
   "execution_count": 170,
   "id": "8923b57d-e4c8-4a87-8f50-cf6c36db7179",
   "metadata": {},
   "outputs": [
    {
     "data": {
      "text/plain": [
       "array([[0, 1, 2],\n",
       "       [3, 4, 5]])"
      ]
     },
     "execution_count": 170,
     "metadata": {},
     "output_type": "execute_result"
    }
   ],
   "source": [
    "arr= np.arange(6)\n",
    "arr\n",
    "arr.reshape(2,3)"
   ]
  },
  {
   "cell_type": "code",
   "execution_count": null,
   "id": "d24d4db5-e9a3-40b2-b966-46fb2bad40b8",
   "metadata": {},
   "outputs": [],
   "source": []
  }
 ],
 "metadata": {
  "kernelspec": {
   "display_name": "Python 3 (ipykernel)",
   "language": "python",
   "name": "python3"
  },
  "language_info": {
   "codemirror_mode": {
    "name": "ipython",
    "version": 3
   },
   "file_extension": ".py",
   "mimetype": "text/x-python",
   "name": "python",
   "nbconvert_exporter": "python",
   "pygments_lexer": "ipython3",
   "version": "3.8.10"
  }
 },
 "nbformat": 4,
 "nbformat_minor": 5
}
