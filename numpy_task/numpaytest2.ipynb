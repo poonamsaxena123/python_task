{
 "cells": [
  {
   "cell_type": "code",
   "execution_count": 1,
   "id": "cb65fc00-48f0-4ccb-851e-73a123658255",
   "metadata": {},
   "outputs": [
    {
     "data": {
      "text/plain": [
       "array([0, 1, 2, 3, 4, 5, 6, 7, 8, 9])"
      ]
     },
     "execution_count": 1,
     "metadata": {},
     "output_type": "execute_result"
    }
   ],
   "source": [
    "# creating 1D \n",
    "import numpy as np\n",
    "arr=np.arange(0,10)\n",
    "arr"
   ]
  },
  {
   "cell_type": "code",
   "execution_count": 7,
   "id": "524c2b54-e96f-4b77-8e56-8d56c843967c",
   "metadata": {},
   "outputs": [
    {
     "data": {
      "text/plain": [
       "3"
      ]
     },
     "execution_count": 7,
     "metadata": {},
     "output_type": "execute_result"
    }
   ],
   "source": [
    "# creating 3 X 3 matrix with zeros\n",
    "\n",
    "arr =np.zeros([2,3,3])\n",
    "arr.ndim"
   ]
  },
  {
   "cell_type": "code",
   "execution_count": 9,
   "id": "99c0bb87-efd8-49d8-a85f-67746994776f",
   "metadata": {},
   "outputs": [
    {
     "data": {
      "text/plain": [
       "array([[[1., 1., 1.],\n",
       "        [1., 1., 1.],\n",
       "        [1., 1., 1.]],\n",
       "\n",
       "       [[1., 1., 1.],\n",
       "        [1., 1., 1.],\n",
       "        [1., 1., 1.]]])"
      ]
     },
     "execution_count": 9,
     "metadata": {},
     "output_type": "execute_result"
    }
   ],
   "source": [
    "#  cerating array ones 3X3\n",
    "arr =np.ones([2,3,3])\n",
    "arr"
   ]
  },
  {
   "cell_type": "code",
   "execution_count": 30,
   "id": "44ebb2a2-5d7f-478f-8be8-d4b922990acb",
   "metadata": {},
   "outputs": [
    {
     "data": {
      "text/plain": [
       "array([[0.28538278, 0.24122959, 0.45296124],\n",
       "       [0.95277678, 0.67199655, 0.46731745],\n",
       "       [0.04212501, 0.23130639, 0.4696355 ]])"
      ]
     },
     "execution_count": 30,
     "metadata": {},
     "output_type": "execute_result"
    }
   ],
   "source": [
    "# cerated array y random 3X3\n",
    "arr4 = np.random.random((3,3))\n",
    "arr4"
   ]
  },
  {
   "cell_type": "code",
   "execution_count": 34,
   "id": "bf42a9ea-2f88-4344-a9fb-1db3394f8d5c",
   "metadata": {},
   "outputs": [
    {
     "name": "stdout",
     "output_type": "stream",
     "text": [
      "[2 3 4]\n"
     ]
    }
   ],
   "source": [
    "#  slicing\n",
    "arr5=np.arange(10)\n",
    "arr5\n",
    "print(arr5[2:5])"
   ]
  },
  {
   "cell_type": "code",
   "execution_count": 35,
   "id": "343e5aff-50af-4395-8c40-a7193f7e2daa",
   "metadata": {},
   "outputs": [
    {
     "data": {
      "text/plain": [
       "array([[ 1,  2],\n",
       "       [10, 11]])"
      ]
     },
     "execution_count": 35,
     "metadata": {},
     "output_type": "execute_result"
    }
   ],
   "source": [
    "#  2D array\n",
    "arr6= np.array([[3,4,4],[1,2,3],[10,11,18]])\n",
    "arr6[1:3,0:2]"
   ]
  },
  {
   "cell_type": "code",
   "execution_count": 149,
   "id": "fcaa3731-b992-4382-b4a6-b2e9e0201806",
   "metadata": {},
   "outputs": [
    {
     "data": {
      "text/plain": [
       "array([381, 384, 387])"
      ]
     },
     "execution_count": 149,
     "metadata": {},
     "output_type": "execute_result"
    }
   ],
   "source": [
    "a = np.array([127, 128,129])\n",
    "c = np.array([4, 5, 6])\n",
    "a *3"
   ]
  },
  {
   "cell_type": "code",
   "execution_count": 38,
   "id": "9617f920-4033-442f-a2e7-6fd0e44a4cc5",
   "metadata": {},
   "outputs": [
    {
     "data": {
      "text/plain": [
       "32"
      ]
     },
     "execution_count": 38,
     "metadata": {},
     "output_type": "execute_result"
    }
   ],
   "source": [
    "# dot product\n",
    "a .dot(c)"
   ]
  },
  {
   "cell_type": "code",
   "execution_count": 39,
   "id": "5c74acc6-ab95-4f62-b3d7-751b7956a59f",
   "metadata": {},
   "outputs": [
    {
     "data": {
      "text/plain": [
       "array([5, 7, 9])"
      ]
     },
     "execution_count": 39,
     "metadata": {},
     "output_type": "execute_result"
    }
   ],
   "source": [
    "a +c "
   ]
  },
  {
   "cell_type": "code",
   "execution_count": 65,
   "id": "d97f2720-822b-41c0-a2dd-3a2ee6e46306",
   "metadata": {},
   "outputs": [
    {
     "name": "stdout",
     "output_type": "stream",
     "text": [
      "0.5151517760759873 0.5287026165456117 0.26950994643478027\n"
     ]
    }
   ],
   "source": [
    "arr5=np.random.rand(100)\n",
    "arr5\n",
    "#  find mean\n",
    "n=np.mean(arr5) \n",
    "m=np.median(arr5)   # median \n",
    "d=np.std(arr5)\n",
    "print(n,m,d)"
   ]
  },
  {
   "cell_type": "code",
   "execution_count": 68,
   "id": "0bedb1ca-a332-40b0-9244-f78974f25fe2",
   "metadata": {},
   "outputs": [
    {
     "name": "stdout",
     "output_type": "stream",
     "text": [
      "0.010987583770289633 0.9698362142943433\n",
      "79 96\n"
     ]
    }
   ],
   "source": [
    "arr6= np.random.random(100)\n",
    "min_v=np.min(arr6)   # min value \n",
    "max_v=np.max(arr6)  #max value\n",
    "\n",
    "print(min_v, max_v)\n",
    "imax=np.argmax(arr6)\n",
    "imin=np.argmin(arr6)\n",
    "\n",
    "print(imax,imin)"
   ]
  },
  {
   "cell_type": "code",
   "execution_count": 98,
   "id": "6f1eef3e-a536-4894-9b72-9d27722629dd",
   "metadata": {},
   "outputs": [
    {
     "data": {
      "text/plain": [
       "array([[1., 0., 0.],\n",
       "       [0., 1., 0.],\n",
       "       [0., 0., 1.]])"
      ]
     },
     "execution_count": 98,
     "metadata": {},
     "output_type": "execute_result"
    }
   ],
   "source": [
    "# identity matrix\n",
    "arr7= np.identity(3)\n",
    "arr7"
   ]
  },
  {
   "cell_type": "code",
   "execution_count": 81,
   "id": "7d8049ef-0b1a-40ad-ba62-2b20e945da1f",
   "metadata": {},
   "outputs": [
    {
     "data": {
      "text/plain": [
       "array([[ 4, 69,  9]])"
      ]
     },
     "execution_count": 81,
     "metadata": {},
     "output_type": "execute_result"
    }
   ],
   "source": [
    "# inverse of matrix\n",
    "\n",
    "inarr= np.array([[2,3,4],[4,69,9]])\n",
    "at=inarr[-1::]\n",
    "at"
   ]
  },
  {
   "cell_type": "code",
   "execution_count": 91,
   "id": "5eaddbca-d807-4fbb-96d3-daefcc14245d",
   "metadata": {},
   "outputs": [
    {
     "data": {
      "text/plain": [
       "array([0, 1, 2, 3, 4, 5, 6, 7, 8, 9])"
      ]
     },
     "execution_count": 91,
     "metadata": {},
     "output_type": "execute_result"
    }
   ],
   "source": [
    "#  extract all even numer\n",
    "even=np.arange(10)\n",
    "ar=even[even % 2==0]\n",
    "ar\n"
   ]
  },
  {
   "cell_type": "code",
   "execution_count": 96,
   "id": "3ce4cd1b-c64a-434f-8e63-73d049c534d7",
   "metadata": {},
   "outputs": [
    {
     "data": {
      "text/plain": [
       "array([[3, 4],\n",
       "       [5, 6],\n",
       "       [7, 3]])"
      ]
     },
     "execution_count": 96,
     "metadata": {},
     "output_type": "execute_result"
    }
   ],
   "source": [
    "#  add operation in 1D and 2D\n",
    "a = np.array([1, 2, 3])  \n",
    "c= np.array([[2,3,4],[3,4,0]])\n",
    "ar=a +c\n",
    "ar.T"
   ]
  },
  {
   "cell_type": "code",
   "execution_count": 99,
   "id": "393c60b7-7f37-4e9e-b59e-18053dd568cc",
   "metadata": {},
   "outputs": [
    {
     "data": {
      "text/plain": [
       "array([0, 1, 2, 3, 4, 5, 6, 7, 8, 9])"
      ]
     },
     "execution_count": 99,
     "metadata": {},
     "output_type": "execute_result"
    }
   ],
   "source": [
    "arr=np.arange(10)\n",
    "arr"
   ]
  },
  {
   "cell_type": "code",
   "execution_count": 100,
   "id": "6ce2943a-9c8a-4353-b253-0459c2d752bd",
   "metadata": {},
   "outputs": [
    {
     "data": {
      "text/plain": [
       "45"
      ]
     },
     "execution_count": 100,
     "metadata": {},
     "output_type": "execute_result"
    }
   ],
   "source": [
    "np.sum(arr)"
   ]
  },
  {
   "cell_type": "code",
   "execution_count": 108,
   "id": "adac7a2b-0724-4214-9def-593bcead0afc",
   "metadata": {},
   "outputs": [
    {
     "name": "stdout",
     "output_type": "stream",
     "text": [
      "24\n"
     ]
    }
   ],
   "source": [
    "#  null vectore\n",
    "ar=np.array([1,2,3])\n",
    "ar\n",
    "# memory size of array\n",
    "print(ar.size*ar.itemsize)"
   ]
  },
  {
   "cell_type": "markdown",
   "id": "2c328dec-c365-4e80-b5de-1d664a93b071",
   "metadata": {},
   "source": [
    "arr2=np.arange(20)\n",
    "arr2"
   ]
  },
  {
   "cell_type": "code",
   "execution_count": 118,
   "id": "3c0409ae-c65a-4eaa-b5da-527486915ae0",
   "metadata": {},
   "outputs": [
    {
     "data": {
      "text/plain": [
       "array([0., 0., 0., 0., 1., 0., 0., 0., 0., 0.])"
      ]
     },
     "execution_count": 118,
     "metadata": {},
     "output_type": "execute_result"
    }
   ],
   "source": [
    "arr=np.zeros(10)\n",
    "arr[4]=1\n",
    "arr"
   ]
  },
  {
   "cell_type": "code",
   "execution_count": 124,
   "id": "bc1cd44f-da54-4b87-8d80-ce4624cffb90",
   "metadata": {},
   "outputs": [
    {
     "data": {
      "text/plain": [
       "array([19, 18, 17, 16, 15, 14, 13, 12, 11, 10,  9,  8,  7,  6,  5,  4,  3,\n",
       "        2,  1,  0])"
      ]
     },
     "execution_count": 124,
     "metadata": {},
     "output_type": "execute_result"
    }
   ],
   "source": [
    "arr2 =np.arange(20)\n",
    "arr2\n",
    "arr2[::-1]"
   ]
  },
  {
   "cell_type": "code",
   "execution_count": 126,
   "id": "19a06476-2f0e-4731-b2cd-dfb3c31e4b8b",
   "metadata": {},
   "outputs": [
    {
     "data": {
      "text/plain": [
       "(array([0, 1, 3, 4, 5]),)"
      ]
     },
     "execution_count": 126,
     "metadata": {},
     "output_type": "execute_result"
    }
   ],
   "source": [
    "arr2 =np.array([1,3,0,5,19,9,0])\n",
    "arr= np.nonzero(arr2)\n",
    "arr"
   ]
  },
  {
   "cell_type": "code",
   "execution_count": 128,
   "id": "aafed90c-ab0d-4a80-bd94-bd77aaf5ad05",
   "metadata": {},
   "outputs": [
    {
     "data": {
      "text/plain": [
       "array([[1., 0., 0.],\n",
       "       [0., 1., 0.],\n",
       "       [0., 0., 1.]])"
      ]
     },
     "execution_count": 128,
     "metadata": {},
     "output_type": "execute_result"
    }
   ],
   "source": [
    "arr2 =np.identity(3)\n",
    "arr2"
   ]
  },
  {
   "cell_type": "code",
   "execution_count": 130,
   "id": "65261ea8-b1ff-4241-99ce-688f74c21524",
   "metadata": {},
   "outputs": [
    {
     "data": {
      "text/plain": [
       "array([[[0.40404494, 0.05425766, 0.82498307],\n",
       "        [0.81359467, 0.78328012, 0.39155095],\n",
       "        [0.69066385, 0.95161554, 0.72351118]],\n",
       "\n",
       "       [[0.21478847, 0.72742969, 0.03731149],\n",
       "        [0.9612144 , 0.22810173, 0.79953677],\n",
       "        [0.51564847, 0.42470969, 0.97794768]],\n",
       "\n",
       "       [[0.84164062, 0.85809935, 0.62164967],\n",
       "        [0.93929123, 0.76368622, 0.51058944],\n",
       "        [0.53236162, 0.01896888, 0.82241415]]])"
      ]
     },
     "execution_count": 130,
     "metadata": {},
     "output_type": "execute_result"
    }
   ],
   "source": [
    "# 3x3x3  random matrix\n",
    "ar3=np.random.random((3,3,3))\n",
    "ar3"
   ]
  },
  {
   "cell_type": "code",
   "execution_count": 132,
   "id": "1aef90fa-26b6-4782-8e83-3eebefd2e155",
   "metadata": {},
   "outputs": [
    {
     "data": {
      "text/plain": [
       "array([[0.72065004, 0.5933965 , 0.26718001, 0.019666  , 0.58784253,\n",
       "        0.59863605, 0.13476051, 0.77756634, 0.98463509, 0.29542532],\n",
       "       [0.83087529, 0.28309558, 0.95731507, 0.7623085 , 0.48138757,\n",
       "        0.65680556, 0.66532785, 0.0334352 , 0.45435368, 0.0539554 ],\n",
       "       [0.43706316, 0.06968625, 0.61711123, 0.86441379, 0.45177595,\n",
       "        0.17655142, 0.63859034, 0.28010648, 0.36393172, 0.98577071],\n",
       "       [0.8968214 , 0.35442564, 0.86197164, 0.90329055, 0.05339518,\n",
       "        0.95476533, 0.04164377, 0.38783447, 0.26594446, 0.57320474],\n",
       "       [0.97621508, 0.39209134, 0.72798065, 0.56611637, 0.4038145 ,\n",
       "        0.69492134, 0.39606919, 0.99626287, 0.49519715, 0.78928297],\n",
       "       [0.46598683, 0.42238042, 0.84884131, 0.57184986, 0.61162653,\n",
       "        0.27501038, 0.1190081 , 0.67841966, 0.36762061, 0.24725892],\n",
       "       [0.18208658, 0.99545232, 0.62183855, 0.42379753, 0.95352012,\n",
       "        0.61499165, 0.26921385, 0.67777289, 0.05983089, 0.84110016],\n",
       "       [0.34930072, 0.78315755, 0.597681  , 0.87967453, 0.66089258,\n",
       "        0.29300247, 0.0488121 , 0.05930045, 0.44814711, 0.70082744],\n",
       "       [0.50734606, 0.6428828 , 0.32279645, 0.51884789, 0.08549727,\n",
       "        0.19902899, 0.87545114, 0.46043114, 0.41177467, 0.82514803],\n",
       "       [0.02402464, 0.37264027, 0.41667883, 0.24457438, 0.08638962,\n",
       "        0.91515466, 0.14416345, 0.32063773, 0.13646268, 0.00265002]])"
      ]
     },
     "execution_count": 132,
     "metadata": {},
     "output_type": "execute_result"
    }
   ],
   "source": [
    "#10 X10 metrix\n",
    "ar10=np.random.random((10,10))\n",
    "ar10"
   ]
  },
  {
   "cell_type": "code",
   "execution_count": 135,
   "id": "cb063fd6-d4b6-45b5-a85d-989b5173f413",
   "metadata": {},
   "outputs": [
    {
     "data": {
      "text/plain": [
       "0.5640184064718238"
      ]
     },
     "execution_count": 135,
     "metadata": {},
     "output_type": "execute_result"
    }
   ],
   "source": [
    "#random vector\n",
    "av=np.random.random(30)\n",
    "av.mean()"
   ]
  },
  {
   "cell_type": "code",
   "execution_count": 142,
   "id": "2cf6fc7c-486c-4b10-8f57-a02785eb3ab7",
   "metadata": {},
   "outputs": [
    {
     "data": {
      "text/plain": [
       "array([[1., 1., 1., 1., 1., 1., 1., 1., 1., 1.],\n",
       "       [1., 0., 0., 0., 0., 0., 0., 0., 0., 1.],\n",
       "       [1., 0., 0., 0., 0., 0., 0., 0., 0., 1.],\n",
       "       [1., 0., 0., 0., 0., 0., 0., 0., 0., 1.],\n",
       "       [1., 0., 0., 0., 0., 0., 0., 0., 0., 1.],\n",
       "       [1., 0., 0., 0., 0., 0., 0., 0., 0., 1.],\n",
       "       [1., 0., 0., 0., 0., 0., 0., 0., 0., 1.],\n",
       "       [1., 0., 0., 0., 0., 0., 0., 0., 0., 1.],\n",
       "       [1., 0., 0., 0., 0., 0., 0., 0., 0., 1.],\n",
       "       [1., 1., 1., 1., 1., 1., 1., 1., 1., 1.]])"
      ]
     },
     "execution_count": 142,
     "metadata": {},
     "output_type": "execute_result"
    }
   ],
   "source": [
    "#  2Darray \n",
    "ar2D= np.ones((10,10))\n",
    "ar2D\n",
    "ar2D[1:-1,1:-1]=0\n",
    "ar2D"
   ]
  },
  {
   "cell_type": "code",
   "execution_count": 141,
   "id": "d258c3ca-4f59-4172-8fdf-e46032886b13",
   "metadata": {},
   "outputs": [
    {
     "name": "stdout",
     "output_type": "stream",
     "text": [
      "[[1. 1. 1. 1. 1. 1. 1. 1. 1. 1.]\n",
      " [1. 0. 0. 0. 0. 0. 0. 0. 0. 1.]\n",
      " [1. 0. 0. 0. 0. 0. 0. 0. 0. 1.]\n",
      " [1. 0. 0. 0. 0. 0. 0. 0. 0. 1.]\n",
      " [1. 0. 0. 0. 0. 0. 0. 0. 0. 1.]\n",
      " [1. 0. 0. 0. 0. 0. 0. 0. 0. 1.]\n",
      " [1. 0. 0. 0. 0. 0. 0. 0. 0. 1.]\n",
      " [1. 0. 0. 0. 0. 0. 0. 0. 0. 1.]\n",
      " [1. 0. 0. 0. 0. 0. 0. 0. 0. 1.]\n",
      " [1. 1. 1. 1. 1. 1. 1. 1. 1. 1.]]\n"
     ]
    }
   ],
   "source": [
    "Z = np.ones((10,10))\n",
    "Z[1:-1,1:-1] = 0\n",
    "print(Z)"
   ]
  },
  {
   "cell_type": "code",
   "execution_count": 148,
   "id": "3e3e0cba-9068-402e-b1fc-7a58f9cb4eeb",
   "metadata": {},
   "outputs": [
    {
     "ename": "TypeError",
     "evalue": "default_rng() takes at most 1 positional argument (2 given)",
     "output_type": "error",
     "traceback": [
      "\u001b[0;31m---------------------------------------------------------------------------\u001b[0m",
      "\u001b[0;31mTypeError\u001b[0m                                 Traceback (most recent call last)",
      "Cell \u001b[0;32mIn[148], line 2\u001b[0m\n\u001b[1;32m      1\u001b[0m \u001b[38;5;66;03m#  5x 5 metrix \u001b[39;00m\n\u001b[0;32m----> 2\u001b[0m ar\u001b[38;5;241m=\u001b[39m \u001b[43mnp\u001b[49m\u001b[38;5;241;43m.\u001b[39;49m\u001b[43mrandom\u001b[49m\u001b[38;5;241;43m.\u001b[39;49m\u001b[43mdefault_rng\u001b[49m\u001b[43m(\u001b[49m\u001b[38;5;241;43m0\u001b[39;49m\u001b[43m,\u001b[49m\u001b[38;5;241;43m6\u001b[39;49m\u001b[43m)\u001b[49m\u001b[38;5;241m.\u001b[39mreshape(\u001b[38;5;241m5\u001b[39m,\u001b[38;5;241m5\u001b[39m)\n\u001b[1;32m      3\u001b[0m ar\n",
      "File \u001b[0;32m_generator.pyx:4783\u001b[0m, in \u001b[0;36mnumpy.random._generator.default_rng\u001b[0;34m()\u001b[0m\n",
      "\u001b[0;31mTypeError\u001b[0m: default_rng() takes at most 1 positional argument (2 given)"
     ]
    }
   ],
   "source": [
    "#  5x 5 metrix \n",
    "ar= np.random.default_rng(0,6).reshape(5,5)\n",
    "ar"
   ]
  },
  {
   "cell_type": "code",
   "execution_count": 150,
   "id": "bd47c37f-22ac-4f5c-9425-17036476ec7e",
   "metadata": {},
   "outputs": [
    {
     "data": {
      "text/plain": [
       "array([[1., 0., 0.],\n",
       "       [0., 1., 0.],\n",
       "       [0., 0., 1.]])"
      ]
     },
     "execution_count": 150,
     "metadata": {},
     "output_type": "execute_result"
    }
   ],
   "source": [
    "np.eye(3)"
   ]
  },
  {
   "cell_type": "code",
   "execution_count": 151,
   "id": "52111f6a-0fe5-4906-bbb4-0b28a28f4016",
   "metadata": {},
   "outputs": [
    {
     "data": {
      "text/plain": [
       "array([1. , 1.6, 2.2, 2.8, 3.4, 4. ])"
      ]
     },
     "execution_count": 151,
     "metadata": {},
     "output_type": "execute_result"
    }
   ],
   "source": [
    "np.linspace(1,4,6)"
   ]
  },
  {
   "cell_type": "code",
   "execution_count": 152,
   "id": "84ccad80-83f8-4e55-beb5-3d401e7b9886",
   "metadata": {},
   "outputs": [
    {
     "data": {
      "text/plain": [
       "array([[1., 1.],\n",
       "       [1., 1.]])"
      ]
     },
     "execution_count": 152,
     "metadata": {},
     "output_type": "execute_result"
    }
   ],
   "source": [
    "a1=np.ones((2,2))\n",
    "a1"
   ]
  },
  {
   "cell_type": "code",
   "execution_count": 163,
   "id": "d1c7b42f-7b02-43f2-be2b-96c9e986032c",
   "metadata": {},
   "outputs": [
    {
     "data": {
      "text/plain": [
       "<function matplotlib.pyplot.show(close=None, block=None)>"
      ]
     },
     "execution_count": 163,
     "metadata": {},
     "output_type": "execute_result"
    },
    {
     "data": {
      "image/png": "[encoded data removed]",
      "text/plain": [
       "<Figure size 640x480 with 1 Axes>"
      ]
     },
     "metadata": {},
     "output_type": "display_data"
    }
   ],
   "source": [
    "import matplotlib.pyplot as plt\n",
    "price=[200,300,340,1200,8000,1000]\n",
    "year=[2015,2016,2018,2020,2024,2025]\n",
    "plt.plot(price,year)\n",
    "plt.title(\"comparing year and price of product\")\n",
    "plt.xlabel(\"price\")\n",
    "plt.ylabel(\"year\")\n",
    "plt.show"
   ]
  },
  {
   "cell_type": "raw",
   "id": "18926338-f4e6-4b6c-8792-8c9ece768676",
   "metadata": {},
   "source": [
    "\n",
    "\n"
   ]
  },
  {
   "cell_type": "code",
   "execution_count": 167,
   "id": "56c95b3d-84c4-4c44-905b-1537e4860244",
   "metadata": {},
   "outputs": [
    {
     "data": {
      "text/plain": [
       "array([[[1., 1.],\n",
       "        [1., 1.],\n",
       "        [1., 1.]],\n",
       "\n",
       "       [[1., 1.],\n",
       "        [1., 1.],\n",
       "        [1., 1.]]])"
      ]
     },
     "execution_count": 167,
     "metadata": {},
     "output_type": "execute_result"
    }
   ],
   "source": [
    "array_2d_ones = np.ones((2,3,2))\n",
    "array_2d_ones"
   ]
  },
  {
   "cell_type": "code",
   "execution_count": 181,
   "id": "accad4e9-a920-4310-ac03-e910a4d51985",
   "metadata": {},
   "outputs": [
    {
     "data": {
      "text/plain": [
       "array([-10,  -8,  -6,  -4,  -2,   1,   3,   5,   7,  10])"
      ]
     },
     "execution_count": 181,
     "metadata": {},
     "output_type": "execute_result"
    }
   ],
   "source": [
    "arr=np.linspace(-10,10,10,dtype=int)\n",
    "arr"
   ]
  },
  {
   "cell_type": "code",
   "execution_count": 183,
   "id": "332b915c-6a48-40f0-9f22-174b2ff19740",
   "metadata": {},
   "outputs": [
    {
     "data": {
      "text/plain": [
       "array([0.82343513, 0.25172565])"
      ]
     },
     "execution_count": 183,
     "metadata": {},
     "output_type": "execute_result"
    }
   ],
   "source": [
    "arr=np.random.random(2)\n",
    "arr"
   ]
  },
  {
   "cell_type": "code",
   "execution_count": 184,
   "id": "a55cf3bf-0ae9-4429-a32a-314887e5b303",
   "metadata": {},
   "outputs": [
    {
     "data": {
      "text/plain": [
       "array([0, 0], dtype=int32)"
      ]
     },
     "execution_count": 184,
     "metadata": {},
     "output_type": "execute_result"
    }
   ],
   "source": [
    "arr.astype(np.int32)"
   ]
  },
  {
   "cell_type": "code",
   "execution_count": 192,
   "id": "a85431ec-9f18-4feb-aaaf-dee7949cc44f",
   "metadata": {},
   "outputs": [
    {
     "data": {
      "text/plain": [
       "array([ 9, 16, 25, 36])"
      ]
     },
     "execution_count": 192,
     "metadata": {},
     "output_type": "execute_result"
    }
   ],
   "source": [
    "# scalar operation  and aritmatic opreation\n",
    "a1=np.array([3,4,5,6])\n",
    "a1 * 40\n",
    "a2=np.array([3,400,8,60])\n",
    "a1 ** 2"
   ]
  },
  {
   "cell_type": "code",
   "execution_count": 188,
   "id": "f21a02f8-2d4f-4d69-bb87-ec6c057d8c23",
   "metadata": {},
   "outputs": [
    {
     "data": {
      "text/plain": [
       "array([6])"
      ]
     },
     "execution_count": 188,
     "metadata": {},
     "output_type": "execute_result"
    }
   ],
   "source": [
    "# relation opreator\n",
    "a1 >5"
   ]
  },
  {
   "cell_type": "code",
   "execution_count": 205,
   "id": "ef44b606-4ac0-4020-9c7a-6dc7740308d1",
   "metadata": {},
   "outputs": [
    {
     "data": {
      "text/plain": [
       "array([[19.,  9., 14.],\n",
       "       [33., 26., 92.],\n",
       "       [22., 96., 86.]])"
      ]
     },
     "execution_count": 205,
     "metadata": {},
     "output_type": "execute_result"
    }
   ],
   "source": [
    "arr=np.random.random((3,3))\n",
    "arr=np.round(arr*100)\n",
    "arr"
   ]
  },
  {
   "cell_type": "code",
   "execution_count": null,
   "id": "134a22b1-f447-4d6d-b9f9-66acb040d5f3",
   "metadata": {},
   "outputs": [],
   "source": []
  },
  {
   "cell_type": "code",
   "execution_count": 204,
   "id": "7e9afb56-c039-46a7-8cbd-9eaffeedd974",
   "metadata": {},
   "outputs": [
    {
     "name": "stdout",
     "output_type": "stream",
     "text": [
      "[[30 10 39]\n",
      " [36 67 74]\n",
      " [37 58 25]]\n"
     ]
    }
   ],
   "source": [
    "arr = np.random.random((3,3))  # Generatesk random floats between 0 and 1\n",
    "arr = (arr * 100).astype(int)  # Converts to integers between 0 and 99\n",
    "print(arr)\n"
   ]
  },
  {
   "cell_type": "code",
   "execution_count": 211,
   "id": "7ce06aea-8086-4014-b133-528975b6832f",
   "metadata": {},
   "outputs": [
    {
     "data": {
      "text/plain": [
       "400"
      ]
     },
     "execution_count": 211,
     "metadata": {},
     "output_type": "execute_result"
    }
   ],
   "source": [
    "np.max(a2,axis=0)"
   ]
  },
  {
   "cell_type": "code",
   "execution_count": 212,
   "id": "9302b924-62c7-4892-a5ff-6a3c9a484034",
   "metadata": {},
   "outputs": [
    {
     "data": {
      "text/plain": [
       "4.5"
      ]
     },
     "execution_count": 212,
     "metadata": {},
     "output_type": "execute_result"
    }
   ],
   "source": [
    "# statical function\n",
    "np.mean(a1)"
   ]
  },
  {
   "cell_type": "code",
   "execution_count": 213,
   "id": "4982e7d5-3cf7-4920-aef0-03382a6a1736",
   "metadata": {},
   "outputs": [
    {
     "ename": "ValueError",
     "evalue": "shapes (4,) and (3,3) not aligned: 4 (dim 0) != 3 (dim 0)",
     "output_type": "error",
     "traceback": [
      "\u001b[0;31m---------------------------------------------------------------------------\u001b[0m",
      "\u001b[0;31mValueError\u001b[0m                                Traceback (most recent call last)",
      "Cell \u001b[0;32mIn[213], line 1\u001b[0m\n\u001b[0;32m----> 1\u001b[0m \u001b[43ma1\u001b[49m\u001b[38;5;241;43m.\u001b[39;49m\u001b[43mdot\u001b[49m\u001b[43m(\u001b[49m\u001b[43marr\u001b[49m\u001b[43m)\u001b[49m\n",
      "\u001b[0;31mValueError\u001b[0m: shapes (4,) and (3,3) not aligned: 4 (dim 0) != 3 (dim 0)"
     ]
    }
   ],
   "source": [
    "a1.dot(arr)"
   ]
  },
  {
   "cell_type": "code",
   "execution_count": 214,
   "id": "cf29b856-182b-4bf1-a22e-439843a48e99",
   "metadata": {},
   "outputs": [],
   "source": [
    "arr=np.arange(12).reshape(3,4)"
   ]
  },
  {
   "cell_type": "code",
   "execution_count": 215,
   "id": "1ddc046f-138b-40b3-a3fa-775027e3a227",
   "metadata": {},
   "outputs": [
    {
     "data": {
      "text/plain": [
       "array([[ 0,  1,  2,  3],\n",
       "       [ 4,  5,  6,  7],\n",
       "       [ 8,  9, 10, 11]])"
      ]
     },
     "execution_count": 215,
     "metadata": {},
     "output_type": "execute_result"
    }
   ],
   "source": [
    "arr"
   ]
  },
  {
   "cell_type": "code",
   "execution_count": 217,
   "id": "b958740f-9c66-4cca-97d2-14e230ef2872",
   "metadata": {},
   "outputs": [
    {
     "data": {
      "text/plain": [
       "11"
      ]
     },
     "execution_count": 217,
     "metadata": {},
     "output_type": "execute_result"
    }
   ],
   "source": [
    "arr[2,3]"
   ]
  },
  {
   "cell_type": "code",
   "execution_count": 6,
   "id": "9c479ccb-95a5-40ec-9bae-2d61dddbe716",
   "metadata": {},
   "outputs": [
    {
     "name": "stdout",
     "output_type": "stream",
     "text": [
      "2.0.3\n"
     ]
    }
   ],
   "source": [
    "import pandas as pd\n",
    "print(pd.__version__)\n",
    "\n",
    "\n"
   ]
  },
  {
   "cell_type": "code",
   "execution_count": null,
   "id": "6b613c70",
   "metadata": {},
   "outputs": [],
   "source": [
    "\n"
   ]
  },
  {
   "cell_type": "code",
   "execution_count": null,
   "id": "96dbad9f",
   "metadata": {},
   "outputs": [],
   "source": []
  }
 ],
 "metadata": {
  "kernelspec": {
   "display_name": "Python 3 (ipykernel)",
   "language": "python",
   "name": "python3"
  },
  "language_info": {
   "codemirror_mode": {
    "name": "ipython",
    "version": 3
   },
   "file_extension": ".py",
   "mimetype": "text/x-python",
   "name": "python",
   "nbconvert_exporter": "python",
   "pygments_lexer": "ipython3",
   "version": "3.8.10"
  }
 },
 "nbformat": 4,
 "nbformat_minor": 5
}
