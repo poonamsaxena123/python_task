{
 "cells": [
  {
   "cell_type": "code",
   "execution_count": 16,
   "id": "2a554ee6-50dc-408f-b98d-339d2ca5c8f7",
   "metadata": {},
   "outputs": [],
   "source": [
    "import pandas as pd\n",
    "import numpy as np"
   ]
  },
  {
   "cell_type": "code",
   "execution_count": 45,
   "id": "e1e23d20-b5e3-4480-a96b-531ce08300a2",
   "metadata": {},
   "outputs": [
    {
     "name": "stdout",
     "output_type": "stream",
     "text": [
      "0    2\n",
      "1    3\n",
      "2    4\n",
      "3    5\n",
      "dtype: int64\n"
     ]
    },
    {
     "data": {
      "text/plain": [
       "pandas.core.indexes.range.RangeIndex"
      ]
     },
     "execution_count": 45,
     "metadata": {},
     "output_type": "execute_result"
    }
   ],
   "source": [
    "s=pd.Series([2,3,4,5]) #   using series \n",
    "print(s)\n",
    "type(s.index)"
   ]
  },
  {
   "cell_type": "code",
   "execution_count": 19,
   "id": "0ad3fbd8-0835-4548-b738-553e97574434",
   "metadata": {},
   "outputs": [
    {
     "name": "stdout",
     "output_type": "stream",
     "text": [
      "     name  age     city\n",
      "0  kashvi   34  newyork\n",
      "1     vij   12   canada\n",
      "2     jon   30      USA\n"
     ]
    }
   ],
   "source": [
    "data={ 'name':['kashvi','vij','jon'],\n",
    "       'age' :[34,12,30],\n",
    "       'city':['newyork','canada','USA']\n",
    "     }\n",
    "df=pd.DataFrame(data)\n",
    "print(df)"
   ]
  },
  {
   "cell_type": "code",
   "execution_count": 22,
   "id": "cd929e13-6fbd-4302-8774-11f897ddf262",
   "metadata": {},
   "outputs": [
    {
     "data": {
      "text/plain": [
       "0     nuo\n",
       "1    nall\n",
       "2    pici\n",
       "dtype: object"
      ]
     },
     "execution_count": 22,
     "metadata": {},
     "output_type": "execute_result"
    }
   ],
   "source": [
    "s1=pd.Series([\"nuo\",\"nall\",\"pici\"])\n",
    "s1"
   ]
  },
  {
   "cell_type": "code",
   "execution_count": 33,
   "id": "c98d9090-fd8a-45f7-a24f-8887408ba52d",
   "metadata": {},
   "outputs": [],
   "source": [
    "marks=[45,67,100,54,59]\n",
    "suject=['hindi','english','maths','science','IP']  # opretion on series\n",
    "marks=pd.Series(marks,index=suject,name=\"jon marks\")"
   ]
  },
  {
   "cell_type": "code",
   "execution_count": 34,
   "id": "0e8f04f2-18f3-41f7-88d1-554786278fac",
   "metadata": {},
   "outputs": [
    {
     "data": {
      "text/plain": [
       "hindi       45\n",
       "english     67\n",
       "maths      100\n",
       "science     54\n",
       "IP          59\n",
       "Name: jon marks, dtype: int64"
      ]
     },
     "execution_count": 34,
     "metadata": {},
     "output_type": "execute_result"
    }
   ],
   "source": [
    "marks"
   ]
  },
  {
   "cell_type": "code",
   "execution_count": 40,
   "id": "25bb4b89-c9fc-4bf1-89ee-aa2dbcc04ac0",
   "metadata": {},
   "outputs": [
    {
     "data": {
      "text/plain": [
       "maths      43\n",
       "english    90\n",
       "science    67\n",
       "hindi      92\n",
       "Name: ahi marks, dtype: int64"
      ]
     },
     "execution_count": 40,
     "metadata": {},
     "output_type": "execute_result"
    }
   ],
   "source": [
    "# using Dictionary make series\n",
    "d_marks={\n",
    "        'maths':43,\n",
    "        \"english\":90,\n",
    "        \"science\":67,\n",
    "        \"hindi\":92\n",
    "}\n",
    "marks_series=pd.Series(d_marks,name=\"ahi marks\")\n",
    "marks_series"
   ]
  },
  {
   "cell_type": "code",
   "execution_count": 66,
   "id": "3217484e-2742-4f3a-8a8d-3e10ad07ae99",
   "metadata": {},
   "outputs": [
    {
     "data": {
      "text/plain": [
       "pandas.core.series.Series"
      ]
     },
     "execution_count": 66,
     "metadata": {},
     "output_type": "execute_result"
    }
   ],
   "source": [
    "type(marks_series)"
   ]
  },
  {
   "cell_type": "code",
   "execution_count": 51,
   "id": "a1faff96-5796-46a7-b4ab-ac761a6378a7",
   "metadata": {},
   "outputs": [
    {
     "data": {
      "text/plain": [
       "numpy.ndarray"
      ]
     },
     "execution_count": 51,
     "metadata": {},
     "output_type": "execute_result"
    }
   ],
   "source": [
    "# perform attriute on  series\n",
    "\n",
    "#  size\n",
    "marks_series.size\n",
    "marks_series.dtype\n",
    "marks_series.is_unique\n",
    "marks_series.index\n",
    "marks_series.values\n",
    "type(marks_series.values)"
   ]
  },
  {
   "cell_type": "code",
   "execution_count": 59,
   "id": "10e611f6-77a4-4b77-a69c-5e71b5fbd75c",
   "metadata": {},
   "outputs": [
    {
     "data": {
      "text/plain": [
       "pandas.core.frame.DataFrame"
      ]
     },
     "execution_count": 59,
     "metadata": {},
     "output_type": "execute_result"
    }
   ],
   "source": [
    "# series data is in datafreme \n",
    "\n",
    "succ=pd.read_csv('/home/developer/Downloads/datasets-session-16-20240627T085615Z-001/datasets-session-16/subs.csv')\n",
    "type(succ)"
   ]
  },
  {
   "cell_type": "code",
   "execution_count": 71,
   "id": "e5223b4b-4890-4c74-9c90-c5f63da59341",
   "metadata": {},
   "outputs": [
    {
     "data": {
      "text/plain": [
       "pandas.core.series.Series"
      ]
     },
     "execution_count": 71,
     "metadata": {},
     "output_type": "execute_result"
    }
   ],
   "source": [
    "# if we want to store data in series then use squeeze =True\n",
    "\n",
    "suc=pd.read_excel('/home/developer/Downloads/datasets-session-16-20240627T085615Z-001/datasets-session-16/subs.xlsx')\n",
    "defe = suc.squeeze() \n",
    "type(defe)"
   ]
  },
  {
   "cell_type": "code",
   "execution_count": 101,
   "id": "be3d32f8-4c84-4e35-aa8c-3588efa54111",
   "metadata": {},
   "outputs": [
    {
     "data": {
      "text/plain": [
       "match_no\n",
       "1       1\n",
       "2      23\n",
       "3      13\n",
       "4      12\n",
       "5       1\n",
       "       ..\n",
       "211     0\n",
       "212    20\n",
       "213    73\n",
       "214    25\n",
       "215     7\n",
       "Name: runs, Length: 215, dtype: int64"
      ]
     },
     "execution_count": 101,
     "metadata": {},
     "output_type": "execute_result"
    }
   ],
   "source": [
    "ser2=pd.read_csv(\"/home/developer/Downloads/datasets-session-16-20240627T085615Z-001/datasets-session-16/kohli_ipl.csv\",index_col='match_no')\n",
    "# seriesdata=ser2['runs']\n",
    "# seriesdata\n",
    "s = ser2.squeeze()\n",
    "s\n"
   ]
  },
  {
   "cell_type": "code",
   "execution_count": 122,
   "id": "9bce7042-ac34-4d50-ae6c-31a216d98c28",
   "metadata": {},
   "outputs": [
    {
     "data": {
      "text/plain": [
       "pandas.core.series.Series"
      ]
     },
     "execution_count": 122,
     "metadata": {},
     "output_type": "execute_result"
    }
   ],
   "source": [
    "# import data from file\n",
    "\n",
    "wd=pd.read_csv(\"/home/developer/Downloads/datasets-session-16-20240627T085615Z-001/datasets-session-16/bollywood.csv\",index_col=\"movie\")\n",
    "wdd=wd.squeeze()\n",
    "type(wdd)\n",
    "# type(wd)\n",
    "# wdd\n",
    "\n"
   ]
  },
  {
   "cell_type": "code",
   "execution_count": 98,
   "id": "384e0e13-9259-4f34-b44f-392a1be69acd",
   "metadata": {},
   "outputs": [
    {
     "data": {
      "text/plain": [
       "movie\n",
       "Hum Tumhare Hain Sanam      Shah Rukh Khan\n",
       "Aankhen (2002 film)       Amitabh Bachchan\n",
       "Saathiya (film)               Vivek Oberoi\n",
       "Company (film)                  Ajay Devgn\n",
       "Awara Paagal Deewana          Akshay Kumar\n",
       "Name: lead, dtype: object"
      ]
     },
     "execution_count": 98,
     "metadata": {},
     "output_type": "execute_result"
    }
   ],
   "source": [
    "#  series methods \n",
    "\n",
    "wdd.head(100)   # head give y default 5 rows\n",
    "\n",
    "wdd.tail()    # tail give y default 5 rows from ottom"
   ]
  },
  {
   "cell_type": "code",
   "execution_count": 109,
   "id": "53b5e234-02eb-41ff-b365-07b19f142ad9",
   "metadata": {},
   "outputs": [
    {
     "data": {
      "text/plain": [
       "lead\n",
       "Akshay Kumar        48\n",
       "Amitabh Bachchan    45\n",
       "Ajay Devgn          38\n",
       "Salman Khan         31\n",
       "Sanjay Dutt         26\n",
       "                    ..\n",
       "Diganth              1\n",
       "Parveen Kaur         1\n",
       "Seema Azmi           1\n",
       "Akanksha Puri        1\n",
       "Edwin Fernandes      1\n",
       "Name: count, Length: 566, dtype: int64"
      ]
     },
     "execution_count": 109,
     "metadata": {},
     "output_type": "execute_result"
    }
   ],
   "source": [
    "wdd.sample(10)  # give the 10 random rows\n",
    "wdd.value_counts() # count frequency of value  "
   ]
  },
  {
   "cell_type": "code",
   "execution_count": 118,
   "id": "6e01894d-e560-4f24-a465-29f956692674",
   "metadata": {},
   "outputs": [
    {
     "data": {
      "text/plain": [
       "113"
      ]
     },
     "execution_count": 118,
     "metadata": {},
     "output_type": "execute_result"
    }
   ],
   "source": [
    "# gives highest record of virat \n",
    "\n",
    "s.sort_values(ascending=False).head(1).values[0]-0"
   ]
  },
  {
   "cell_type": "code",
   "execution_count": 125,
   "id": "f7fac00e-49c2-47ef-be92-ac9f931227ce",
   "metadata": {},
   "outputs": [],
   "source": [
    "# sort movies alpha\n",
    "wdd.sort_index(ascending=False,inplace=True)"
   ]
  },
  {
   "cell_type": "code",
   "execution_count": 126,
   "id": "1993ebdd-f0f0-431d-9fce-dd1e18eb46e8",
   "metadata": {},
   "outputs": [
    {
     "data": {
      "text/plain": [
       "movie\n",
       "Zor Lagaa Ke...Haiya!            Meghan Jadhav\n",
       "Zokkomon                       Darsheel Safary\n",
       "Zindagi Tere Naam           Mithun Chakraborty\n",
       "Zindagi Na Milegi Dobara        Hrithik Roshan\n",
       "Zindagi 50-50                      Veena Malik\n",
       "                                   ...        \n",
       "2 States (2014 film)              Arjun Kapoor\n",
       "1971 (2007 film)                Manoj Bajpayee\n",
       "1920: The Evil Returns             Vicky Ahuja\n",
       "1920: London                     Sharman Joshi\n",
       "1920 (film)                   Rajniesh Duggall\n",
       "Name: lead, Length: 1500, dtype: object"
      ]
     },
     "execution_count": 126,
     "metadata": {},
     "output_type": "execute_result"
    }
   ],
   "source": [
    "wdd"
   ]
  },
  {
   "cell_type": "code",
   "execution_count": 130,
   "id": "49bec06f-d882-480e-b297-0abda8137733",
   "metadata": {},
   "outputs": [
    {
     "data": {
      "text/plain": [
       "215"
      ]
     },
     "execution_count": 130,
     "metadata": {},
     "output_type": "execute_result"
    }
   ],
   "source": [
    "# count the items in file\n",
    "s.count()   # this methoad does not count null value\n",
    "s.size      # it is count nan values also"
   ]
  },
  {
   "cell_type": "code",
   "execution_count": 134,
   "id": "6d4e4f37-9e67-4bdd-897a-82e5248c4cc0",
   "metadata": {},
   "outputs": [
    {
     "data": {
      "text/plain": [
       "Subscribers gained    0\n",
       "dtype: int64"
      ]
     },
     "execution_count": 134,
     "metadata": {},
     "output_type": "execute_result"
    }
   ],
   "source": [
    "# sum of value using sum method\n",
    "suc.sum()\n",
    "\n",
    "# find product\n",
    "suc.product()"
   ]
  },
  {
   "cell_type": "code",
   "execution_count": 135,
   "id": "adc0e2f9-0fe0-4189-83d3-5e33bc3cdced",
   "metadata": {},
   "outputs": [
    {
     "data": {
      "text/plain": [
       "Subscribers gained    135.643836\n",
       "dtype: float64"
      ]
     },
     "execution_count": 135,
     "metadata": {},
     "output_type": "execute_result"
    }
   ],
   "source": [
    "# find mean\n",
    "suc.mean()"
   ]
  },
  {
   "cell_type": "code",
   "execution_count": 138,
   "id": "c0602fa6-a31f-4967-97c6-a32b010ddb4f",
   "metadata": {},
   "outputs": [
    {
     "data": {
      "text/plain": [
       "Subscribers gained    123.0\n",
       "dtype: float64"
      ]
     },
     "execution_count": 138,
     "metadata": {},
     "output_type": "execute_result"
    }
   ],
   "source": [
    "# find medium \n",
    "suc.median()"
   ]
  },
  {
   "cell_type": "code",
   "execution_count": 144,
   "id": "5ffe43de-36c8-48dd-a2b2-b9731474ece5",
   "metadata": {},
   "outputs": [
    {
     "data": {
      "text/plain": [
       "Subscribers gained    3928.158513\n",
       "dtype: float64"
      ]
     },
     "execution_count": 144,
     "metadata": {},
     "output_type": "execute_result"
    }
   ],
   "source": [
    "#find mode\n",
    "wdd.mode()\n",
    "suc.std()\n",
    "suc.var()"
   ]
  },
  {
   "cell_type": "code",
   "execution_count": 145,
   "id": "04fa0f4c-9598-4dcd-a557-64064ea9c532",
   "metadata": {},
   "outputs": [
    {
     "data": {
      "text/plain": [
       "Subscribers gained    396\n",
       "dtype: int64"
      ]
     },
     "execution_count": 145,
     "metadata": {},
     "output_type": "execute_result"
    }
   ],
   "source": [
    "suc.max()"
   ]
  },
  {
   "cell_type": "code",
   "execution_count": 146,
   "id": "cce3d4a7-f740-44d5-8f6d-feb388422bc5",
   "metadata": {},
   "outputs": [
    {
     "data": {
      "text/plain": [
       "Subscribers gained    33\n",
       "dtype: int64"
      ]
     },
     "execution_count": 146,
     "metadata": {},
     "output_type": "execute_result"
    }
   ],
   "source": [
    "suc.min()"
   ]
  },
  {
   "cell_type": "code",
   "execution_count": 147,
   "id": "d72ba184-7dcb-4fef-8d5d-a679fa453801",
   "metadata": {},
   "outputs": [
    {
     "data": {
      "text/html": [
       "<div>\n",
       "<style scoped>\n",
       "    .dataframe tbody tr th:only-of-type {\n",
       "        vertical-align: middle;\n",
       "    }\n",
       "\n",
       "    .dataframe tbody tr th {\n",
       "        vertical-align: top;\n",
       "    }\n",
       "\n",
       "    .dataframe thead th {\n",
       "        text-align: right;\n",
       "    }\n",
       "</style>\n",
       "<table border=\"1\" class=\"dataframe\">\n",
       "  <thead>\n",
       "    <tr style=\"text-align: right;\">\n",
       "      <th></th>\n",
       "      <th>Subscribers gained</th>\n",
       "    </tr>\n",
       "  </thead>\n",
       "  <tbody>\n",
       "    <tr>\n",
       "      <th>count</th>\n",
       "      <td>365.000000</td>\n",
       "    </tr>\n",
       "    <tr>\n",
       "      <th>mean</th>\n",
       "      <td>135.643836</td>\n",
       "    </tr>\n",
       "    <tr>\n",
       "      <th>std</th>\n",
       "      <td>62.675023</td>\n",
       "    </tr>\n",
       "    <tr>\n",
       "      <th>min</th>\n",
       "      <td>33.000000</td>\n",
       "    </tr>\n",
       "    <tr>\n",
       "      <th>25%</th>\n",
       "      <td>88.000000</td>\n",
       "    </tr>\n",
       "    <tr>\n",
       "      <th>50%</th>\n",
       "      <td>123.000000</td>\n",
       "    </tr>\n",
       "    <tr>\n",
       "      <th>75%</th>\n",
       "      <td>177.000000</td>\n",
       "    </tr>\n",
       "    <tr>\n",
       "      <th>max</th>\n",
       "      <td>396.000000</td>\n",
       "    </tr>\n",
       "  </tbody>\n",
       "</table>\n",
       "</div>"
      ],
      "text/plain": [
       "       Subscribers gained\n",
       "count          365.000000\n",
       "mean           135.643836\n",
       "std             62.675023\n",
       "min             33.000000\n",
       "25%             88.000000\n",
       "50%            123.000000\n",
       "75%            177.000000\n",
       "max            396.000000"
      ]
     },
     "execution_count": 147,
     "metadata": {},
     "output_type": "execute_result"
    }
   ],
   "source": [
    "suc.describe()"
   ]
  },
  {
   "cell_type": "code",
   "execution_count": 148,
   "id": "addc4689-f22f-41f1-a655-584e2b74c170",
   "metadata": {},
   "outputs": [
    {
     "data": {
      "text/plain": [
       "3"
      ]
     },
     "execution_count": 148,
     "metadata": {},
     "output_type": "execute_result"
    }
   ],
   "source": [
    "# indexing\n",
    "s1=pd.Series([3,4,5,6,6,1])\n",
    "s1[0]"
   ]
  },
  {
   "cell_type": "code",
   "execution_count": 149,
   "id": "4ef069a1-aee2-4e4b-b141-926764770ba9",
   "metadata": {},
   "outputs": [
    {
     "data": {
      "text/plain": [
       "'Darsheel Safary'"
      ]
     },
     "execution_count": 149,
     "metadata": {},
     "output_type": "execute_result"
    }
   ],
   "source": [
    "wdd[1]"
   ]
  },
  {
   "cell_type": "code",
   "execution_count": 157,
   "id": "d870a3fa-bce1-42bd-8a3f-ee44b6e66e3c",
   "metadata": {},
   "outputs": [
    {
     "data": {
      "text/plain": [
       "match_no\n",
       "1     1\n",
       "3    13\n",
       "6     9\n",
       "Name: runs, dtype: int64"
      ]
     },
     "execution_count": 157,
     "metadata": {},
     "output_type": "execute_result"
    }
   ],
   "source": [
    "# slicing \n",
    "s\n",
    "s[5:15]\n",
    "s[-5:]\n",
    "wdd[::2]\n",
    "# fancy indexing\n",
    "s[[1,3,6]]"
   ]
  },
  {
   "cell_type": "code",
   "execution_count": 158,
   "id": "5fda6102-3e77-434b-8cfa-f41166ac9c45",
   "metadata": {},
   "outputs": [
    {
     "data": {
      "text/plain": [
       "hindi       45\n",
       "english     67\n",
       "maths      100\n",
       "science     54\n",
       "IP          59\n",
       "Name: jon marks, dtype: int64"
      ]
     },
     "execution_count": 158,
     "metadata": {},
     "output_type": "execute_result"
    }
   ],
   "source": [
    "marks"
   ]
  },
  {
   "cell_type": "code",
   "execution_count": 164,
   "id": "73e0527e-603d-40d6-998f-a4cd38019457",
   "metadata": {},
   "outputs": [],
   "source": [
    "marks['EVS']=100"
   ]
  },
  {
   "cell_type": "code",
   "execution_count": 165,
   "id": "f376b248-8b82-46cf-b3dd-89c09eee5d6d",
   "metadata": {},
   "outputs": [
    {
     "data": {
      "text/plain": [
       "hindi       45\n",
       "english    100\n",
       "maths      100\n",
       "science     54\n",
       "IP          59\n",
       "EVS        100\n",
       "Name: jon marks, dtype: int64"
      ]
     },
     "execution_count": 165,
     "metadata": {},
     "output_type": "execute_result"
    }
   ],
   "source": [
    "marks"
   ]
  },
  {
   "cell_type": "code",
   "execution_count": 166,
   "id": "14544838-71ea-4c87-8af5-f6b734df5152",
   "metadata": {},
   "outputs": [],
   "source": [
    "s[2:4]=[100,300]"
   ]
  },
  {
   "cell_type": "code",
   "execution_count": 167,
   "id": "bad8bc4f-ca7b-4f53-bb51-711841d22d91",
   "metadata": {},
   "outputs": [
    {
     "data": {
      "text/plain": [
       "match_no\n",
       "1        1\n",
       "2       23\n",
       "3      100\n",
       "4      300\n",
       "5        1\n",
       "      ... \n",
       "211      0\n",
       "212     20\n",
       "213     73\n",
       "214     25\n",
       "215      7\n",
       "Name: runs, Length: 215, dtype: int64"
      ]
     },
     "execution_count": 167,
     "metadata": {},
     "output_type": "execute_result"
    }
   ],
   "source": [
    "s"
   ]
  },
  {
   "cell_type": "code",
   "execution_count": 168,
   "id": "d38f2244-6a55-4afb-ae28-dd2bcf36c7ba",
   "metadata": {},
   "outputs": [
    {
     "data": {
      "text/plain": [
       "match_no\n",
       "1       1\n",
       "2      23\n",
       "3     100\n",
       "4     300\n",
       "5       1\n",
       "6       9\n",
       "7      34\n",
       "8       0\n",
       "9      21\n",
       "10      3\n",
       "Name: runs, dtype: int64"
      ]
     },
     "execution_count": 168,
     "metadata": {},
     "output_type": "execute_result"
    }
   ],
   "source": [
    "s.head(10)"
   ]
  },
  {
   "cell_type": "code",
   "execution_count": 172,
   "id": "22c42234-84eb-4b93-9ded-bfc96604f643",
   "metadata": {},
   "outputs": [
    {
     "data": {
      "text/plain": [
       "match_no\n",
       "1        0\n",
       "2        0\n",
       "3        0\n",
       "4      300\n",
       "5        1\n",
       "      ... \n",
       "211      0\n",
       "212     20\n",
       "213     73\n",
       "214     25\n",
       "215      7\n",
       "Name: runs, Length: 215, dtype: int64"
      ]
     },
     "execution_count": 172,
     "metadata": {},
     "output_type": "execute_result"
    }
   ],
   "source": [
    "s[[1,3,2]]=[0,0,0]\n",
    "s"
   ]
  },
  {
   "cell_type": "code",
   "execution_count": 173,
   "id": "d24c0f9e-b9a7-46c8-bda0-ef4d454e99a6",
   "metadata": {},
   "outputs": [
    {
     "data": {
      "text/plain": [
       "215"
      ]
     },
     "execution_count": 173,
     "metadata": {},
     "output_type": "execute_result"
    }
   ],
   "source": [
    "len(s)"
   ]
  },
  {
   "cell_type": "code",
   "execution_count": 175,
   "id": "8c156c5f-15f8-494e-a856-316083166d90",
   "metadata": {},
   "outputs": [
    {
     "name": "stdout",
     "output_type": "stream",
     "text": [
      "['T', '_AXIS_LEN', '_AXIS_ORDERS', '_AXIS_TO_AXIS_NUMBER', '_HANDLED_TYPES', '__abs__', '__add__', '__and__', '__annotations__', '__array__', '__array_priority__', '__array_ufunc__', '__bool__', '__class__', '__contains__', '__copy__', '__deepcopy__', '__delattr__', '__delitem__', '__dict__', '__dir__', '__divmod__', '__doc__', '__eq__', '__finalize__', '__float__', '__floordiv__', '__format__', '__ge__', '__getattr__', '__getattribute__', '__getitem__', '__getstate__', '__gt__', '__hash__', '__iadd__', '__iand__', '__ifloordiv__', '__imod__', '__imul__', '__init__', '__init_subclass__', '__int__', '__invert__', '__ior__', '__ipow__', '__isub__', '__iter__', '__itruediv__', '__ixor__', '__le__', '__len__', '__lt__', '__matmul__', '__mod__', '__module__', '__mul__', '__ne__', '__neg__', '__new__', '__nonzero__', '__or__', '__pos__', '__pow__', '__radd__', '__rand__', '__rdivmod__', '__reduce__', '__reduce_ex__', '__repr__', '__rfloordiv__', '__rmatmul__', '__rmod__', '__rmul__', '__ror__', '__round__', '__rpow__', '__rsub__', '__rtruediv__', '__rxor__', '__setattr__', '__setitem__', '__setstate__', '__sizeof__', '__str__', '__sub__', '__subclasshook__', '__truediv__', '__weakref__', '__xor__', '_accessors', '_accum_func', '_add_numeric_operations', '_agg_examples_doc', '_agg_see_also_doc', '_align_frame', '_align_series', '_append', '_arith_method', '_as_manager', '_attrs', '_binop', '_cacher', '_can_hold_na', '_check_inplace_and_allows_duplicate_labels', '_check_inplace_setting', '_check_is_chained_assignment_possible', '_check_label_or_level_ambiguity', '_check_setitem_copy', '_clear_item_cache', '_clip_with_one_bound', '_clip_with_scalar', '_cmp_method', '_consolidate', '_consolidate_inplace', '_construct_axes_dict', '_construct_result', '_constructor', '_constructor_expanddim', '_convert_dtypes', '_data', '_dir_additions', '_dir_deletions', '_drop_axis', '_drop_labels_or_levels', '_duplicated', '_find_valid_index', '_flags', '_get_axis', '_get_axis_name', '_get_axis_number', '_get_axis_resolvers', '_get_block_manager_axis', '_get_bool_data', '_get_cacher', '_get_cleaned_column_resolvers', '_get_index_resolvers', '_get_label_or_level_values', '_get_numeric_data', '_get_value', '_get_values', '_get_values_tuple', '_get_with', '_gotitem', '_hidden_attrs', '_indexed_same', '_info_axis', '_info_axis_name', '_info_axis_number', '_init_dict', '_init_mgr', '_inplace_method', '_internal_names', '_internal_names_set', '_is_cached', '_is_copy', '_is_label_or_level_reference', '_is_label_reference', '_is_level_reference', '_is_mixed_type', '_is_view', '_item_cache', '_ixs', '_logical_func', '_logical_method', '_map_values', '_maybe_update_cacher', '_memory_usage', '_metadata', '_mgr', '_min_count_stat_function', '_name', '_needs_reindex_multi', '_protect_consolidate', '_reduce', '_references', '_reindex_axes', '_reindex_indexer', '_reindex_multi', '_reindex_with_indexers', '_rename', '_replace_single', '_repr_data_resource_', '_repr_latex_', '_reset_cache', '_reset_cacher', '_set_as_cached', '_set_axis', '_set_axis_name', '_set_axis_nocheck', '_set_is_copy', '_set_labels', '_set_name', '_set_value', '_set_values', '_set_with', '_set_with_engine', '_slice', '_stat_axis', '_stat_axis_name', '_stat_axis_number', '_stat_function', '_stat_function_ddof', '_take', '_take_with_is_copy', '_to_latex_via_styler', '_typ', '_update_inplace', '_validate_dtype', '_values', '_where', 'abs', 'add', 'add_prefix', 'add_suffix', 'agg', 'aggregate', 'align', 'all', 'any', 'apply', 'argmax', 'argmin', 'argsort', 'array', 'asfreq', 'asof', 'astype', 'at', 'at_time', 'attrs', 'autocorr', 'axes', 'backfill', 'between', 'between_time', 'bfill', 'bool', 'clip', 'combine', 'combine_first', 'compare', 'convert_dtypes', 'copy', 'corr', 'count', 'cov', 'cummax', 'cummin', 'cumprod', 'cumsum', 'describe', 'diff', 'div', 'divide', 'divmod', 'dot', 'drop', 'drop_duplicates', 'droplevel', 'dropna', 'dtype', 'dtypes', 'duplicated', 'empty', 'eq', 'equals', 'ewm', 'expanding', 'explode', 'factorize', 'ffill', 'fillna', 'filter', 'first', 'first_valid_index', 'flags', 'floordiv', 'ge', 'get', 'groupby', 'gt', 'hasnans', 'head', 'hist', 'iat', 'idxmax', 'idxmin', 'iloc', 'index', 'infer_objects', 'info', 'interpolate', 'is_monotonic_decreasing', 'is_monotonic_increasing', 'is_unique', 'isin', 'isna', 'isnull', 'item', 'items', 'keys', 'kurt', 'kurtosis', 'last', 'last_valid_index', 'le', 'loc', 'lt', 'map', 'mask', 'max', 'mean', 'median', 'memory_usage', 'min', 'mod', 'mode', 'mul', 'multiply', 'name', 'nbytes', 'ndim', 'ne', 'nlargest', 'notna', 'notnull', 'nsmallest', 'nunique', 'pad', 'pct_change', 'pipe', 'plot', 'pop', 'pow', 'prod', 'product', 'quantile', 'radd', 'rank', 'ravel', 'rdiv', 'rdivmod', 'reindex', 'reindex_like', 'rename', 'rename_axis', 'reorder_levels', 'repeat', 'replace', 'resample', 'reset_index', 'rfloordiv', 'rmod', 'rmul', 'rolling', 'round', 'rpow', 'rsub', 'rtruediv', 'sample', 'searchsorted', 'sem', 'set_axis', 'set_flags', 'shape', 'shift', 'size', 'skew', 'sort_index', 'sort_values', 'squeeze', 'std', 'sub', 'subtract', 'sum', 'swapaxes', 'swaplevel', 'tail', 'take', 'to_clipboard', 'to_csv', 'to_dict', 'to_excel', 'to_frame', 'to_hdf', 'to_json', 'to_latex', 'to_list', 'to_markdown', 'to_numpy', 'to_period', 'to_pickle', 'to_sql', 'to_string', 'to_timestamp', 'to_xarray', 'transform', 'transpose', 'truediv', 'truncate', 'tz_convert', 'tz_localize', 'unique', 'unstack', 'update', 'value_counts', 'values', 'var', 'view', 'where', 'xs']\n"
     ]
    }
   ],
   "source": [
    "print(dir(s))"
   ]
  },
  {
   "cell_type": "code",
   "execution_count": null,
   "id": "20256e0a-18a5-4d1e-b9b5-4507c1ae8c79",
   "metadata": {},
   "outputs": [],
   "source": []
  }
 ],
 "metadata": {
  "kernelspec": {
   "display_name": "Python 3 (ipykernel)",
   "language": "python",
   "name": "python3"
  },
  "language_info": {
   "codemirror_mode": {
    "name": "ipython",
    "version": 3
   },
   "file_extension": ".py",
   "mimetype": "text/x-python",
   "name": "python",
   "nbconvert_exporter": "python",
   "pygments_lexer": "ipython3",
   "version": "3.8.10"
  }
 },
 "nbformat": 4,
 "nbformat_minor": 5
}
