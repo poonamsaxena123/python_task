{
 "cells": [
  {
   "cell_type": "code",
   "execution_count": 3,
   "id": "064300f4-a577-4188-8074-ee5a1b3f52c2",
   "metadata": {},
   "outputs": [
    {
     "data": {
      "text/plain": [
       "0     2\n",
       "1     3\n",
       "2    45\n",
       "3     5\n",
       "4    55\n",
       "5    10\n",
       "6    20\n",
       "dtype: int64"
      ]
     },
     "execution_count": 3,
     "metadata": {},
     "output_type": "execute_result"
    }
   ],
   "source": [
    "import pandas as pd\n",
    "import numpy as np\n",
    "\n",
    "s1=pd.Series([2,3,45,5,55,10,20])\n",
    "s1"
   ]
  },
  {
   "cell_type": "code",
   "execution_count": 6,
   "id": "ae5c90ff-0cd9-4244-b9e9-96dd8d1e4dff",
   "metadata": {},
   "outputs": [
    {
     "data": {
      "text/plain": [
       "True"
      ]
     },
     "execution_count": 6,
     "metadata": {},
     "output_type": "execute_result"
    }
   ],
   "source": [
    "# in operator\n",
    "10 in s1.values"
   ]
  },
  {
   "cell_type": "code",
   "execution_count": 10,
   "id": "67fbd07a-e804-43c5-8228-afa547e0c7d4",
   "metadata": {},
   "outputs": [
    {
     "name": "stdout",
     "output_type": "stream",
     "text": [
      "2\n",
      "3\n",
      "45\n",
      "5\n",
      "55\n",
      "10\n",
      "20\n",
      "0\n",
      "1\n",
      "2\n",
      "3\n",
      "4\n",
      "5\n",
      "6\n"
     ]
    }
   ],
   "source": [
    "#looping\n",
    "for i in s1:\n",
    "    print(i)\n",
    "\n",
    "# if we want to fetch index then use index\n",
    "\n",
    "for ind in s1.index:\n",
    "    print(ind)"
   ]
  },
  {
   "cell_type": "code",
   "execution_count": 21,
   "id": "38d2342e-6a71-4abd-94df-9977d5e92e08",
   "metadata": {},
   "outputs": [
    {
     "data": {
      "text/plain": [
       "hindi      38\n",
       "english    89\n",
       "maths      67\n",
       "Evs        50\n",
       "physic     99\n",
       "Name: jon_marks, dtype: int64"
      ]
     },
     "execution_count": 21,
     "metadata": {},
     "output_type": "execute_result"
    }
   ],
   "source": [
    "marks ={\n",
    "    'hindi':38,\n",
    "    \"english\":89,\n",
    "    \"maths\":67,\n",
    "    \"Evs\":50,\n",
    "    \"physic\":99\n",
    "}\n",
    "marks1=pd.Series(marks,name='jon_marks')\n",
    "marks1"
   ]
  },
  {
   "cell_type": "code",
   "execution_count": 14,
   "id": "a94b07b2-ea3d-4097-992e-afbad08f6634",
   "metadata": {},
   "outputs": [
    {
     "data": {
      "text/plain": [
       "hindi      62\n",
       "english    11\n",
       "maths      33\n",
       "Evs        50\n",
       "physic      1\n",
       "Name: jon_marks, dtype: int64"
      ]
     },
     "execution_count": 14,
     "metadata": {},
     "output_type": "execute_result"
    }
   ],
   "source": [
    "# ordcasting\n",
    "\n",
    "100- marks1"
   ]
  },
  {
   "cell_type": "code",
   "execution_count": 15,
   "id": "46c875dd-a90e-4ffa-9940-d1c4822f8995",
   "metadata": {},
   "outputs": [
    {
     "data": {
      "text/plain": [
       "hindi      False\n",
       "english     True\n",
       "maths       True\n",
       "Evs        False\n",
       "physic      True\n",
       "Name: jon_marks, dtype: bool"
      ]
     },
     "execution_count": 15,
     "metadata": {},
     "output_type": "execute_result"
    }
   ],
   "source": [
    "# relantional operatore\n",
    "marks1 > 50"
   ]
  },
  {
   "cell_type": "code",
   "execution_count": 17,
   "id": "140c5493-e307-493a-ae3b-fe41164e0e0b",
   "metadata": {},
   "outputs": [
    {
     "data": {
      "text/plain": [
       "<Axes: >"
      ]
     },
     "execution_count": 17,
     "metadata": {},
     "output_type": "execute_result"
    },
    {
     "data": {
      "image/png": "[encoded data removed]",
      "text/plain": [
       "<Figure size 640x480 with 1 Axes>"
      ]
     },
     "metadata": {},
     "output_type": "display_data"
    }
   ],
   "source": [
    "s1.plot()"
   ]
  },
  {
   "cell_type": "code",
   "execution_count": 22,
   "id": "5d0049e9-9dc5-4f27-923d-03d5b4a1f3bb",
   "metadata": {},
   "outputs": [
    {
     "data": {
      "text/html": [
       "<div>\n",
       "<style scoped>\n",
       "    .dataframe tbody tr th:only-of-type {\n",
       "        vertical-align: middle;\n",
       "    }\n",
       "\n",
       "    .dataframe tbody tr th {\n",
       "        vertical-align: top;\n",
       "    }\n",
       "\n",
       "    .dataframe thead th {\n",
       "        text-align: right;\n",
       "    }\n",
       "</style>\n",
       "<table border=\"1\" class=\"dataframe\">\n",
       "  <thead>\n",
       "    <tr style=\"text-align: right;\">\n",
       "      <th></th>\n",
       "      <th>name</th>\n",
       "      <th>age</th>\n",
       "      <th>gender</th>\n",
       "    </tr>\n",
       "  </thead>\n",
       "  <tbody>\n",
       "    <tr>\n",
       "      <th>0</th>\n",
       "      <td>nin</td>\n",
       "      <td>23</td>\n",
       "      <td>F</td>\n",
       "    </tr>\n",
       "    <tr>\n",
       "      <th>1</th>\n",
       "      <td>salo</td>\n",
       "      <td>56</td>\n",
       "      <td>m</td>\n",
       "    </tr>\n",
       "    <tr>\n",
       "      <th>2</th>\n",
       "      <td>uop</td>\n",
       "      <td>78</td>\n",
       "      <td>F</td>\n",
       "    </tr>\n",
       "  </tbody>\n",
       "</table>\n",
       "</div>"
      ],
      "text/plain": [
       "   name  age gender\n",
       "0   nin   23      F\n",
       "1  salo   56      m\n",
       "2   uop   78      F"
      ]
     },
     "execution_count": 22,
     "metadata": {},
     "output_type": "execute_result"
    }
   ],
   "source": [
    "df=pd.DataFrame({\n",
    "    \"name\":[\"nin\",\"salo\",\"uop\"],\n",
    "    \"age\":[23,56,78],\n",
    "    \"gender\":[\"F\",\"m\",\"F\"]\n",
    "})\n",
    "df"
   ]
  },
  {
   "cell_type": "code",
   "execution_count": 23,
   "id": "15659510-6d0d-45fe-937c-32402938f399",
   "metadata": {},
   "outputs": [
    {
     "data": {
      "text/plain": [
       "0    23\n",
       "1    56\n",
       "2    78\n",
       "Name: age, dtype: int64"
      ]
     },
     "execution_count": 23,
     "metadata": {},
     "output_type": "execute_result"
    }
   ],
   "source": [
    "df[\"age\"]"
   ]
  },
  {
   "cell_type": "code",
   "execution_count": 26,
   "id": "8b69ffce-8891-43ca-a4e5-3e87314b1dab",
   "metadata": {},
   "outputs": [
    {
     "data": {
      "text/plain": [
       "0    23\n",
       "1    56\n",
       "2    78\n",
       "Name: age, dtype: int64"
      ]
     },
     "execution_count": 26,
     "metadata": {},
     "output_type": "execute_result"
    }
   ],
   "source": [
    "# fetch single  column\n",
    "ages=pd.Series([23,56,78],name='age')\n",
    "ages"
   ]
  },
  {
   "cell_type": "code",
   "execution_count": 30,
   "id": "c757e29e-590a-4478-bf5b-382d40ce4e52",
   "metadata": {},
   "outputs": [
    {
     "data": {
      "text/html": [
       "<div>\n",
       "<style scoped>\n",
       "    .dataframe tbody tr th:only-of-type {\n",
       "        vertical-align: middle;\n",
       "    }\n",
       "\n",
       "    .dataframe tbody tr th {\n",
       "        vertical-align: top;\n",
       "    }\n",
       "\n",
       "    .dataframe thead th {\n",
       "        text-align: right;\n",
       "    }\n",
       "</style>\n",
       "<table border=\"1\" class=\"dataframe\">\n",
       "  <thead>\n",
       "    <tr style=\"text-align: right;\">\n",
       "      <th></th>\n",
       "      <th>match_no</th>\n",
       "      <th>runs</th>\n",
       "    </tr>\n",
       "  </thead>\n",
       "  <tbody>\n",
       "    <tr>\n",
       "      <th>0</th>\n",
       "      <td>1</td>\n",
       "      <td>1</td>\n",
       "    </tr>\n",
       "    <tr>\n",
       "      <th>1</th>\n",
       "      <td>2</td>\n",
       "      <td>23</td>\n",
       "    </tr>\n",
       "    <tr>\n",
       "      <th>2</th>\n",
       "      <td>3</td>\n",
       "      <td>13</td>\n",
       "    </tr>\n",
       "    <tr>\n",
       "      <th>3</th>\n",
       "      <td>4</td>\n",
       "      <td>12</td>\n",
       "    </tr>\n",
       "    <tr>\n",
       "      <th>4</th>\n",
       "      <td>5</td>\n",
       "      <td>1</td>\n",
       "    </tr>\n",
       "    <tr>\n",
       "      <th>...</th>\n",
       "      <td>...</td>\n",
       "      <td>...</td>\n",
       "    </tr>\n",
       "    <tr>\n",
       "      <th>210</th>\n",
       "      <td>211</td>\n",
       "      <td>0</td>\n",
       "    </tr>\n",
       "    <tr>\n",
       "      <th>211</th>\n",
       "      <td>212</td>\n",
       "      <td>20</td>\n",
       "    </tr>\n",
       "    <tr>\n",
       "      <th>212</th>\n",
       "      <td>213</td>\n",
       "      <td>73</td>\n",
       "    </tr>\n",
       "    <tr>\n",
       "      <th>213</th>\n",
       "      <td>214</td>\n",
       "      <td>25</td>\n",
       "    </tr>\n",
       "    <tr>\n",
       "      <th>214</th>\n",
       "      <td>215</td>\n",
       "      <td>7</td>\n",
       "    </tr>\n",
       "  </tbody>\n",
       "</table>\n",
       "<p>215 rows × 2 columns</p>\n",
       "</div>"
      ],
      "text/plain": [
       "     match_no  runs\n",
       "0           1     1\n",
       "1           2    23\n",
       "2           3    13\n",
       "3           4    12\n",
       "4           5     1\n",
       "..        ...   ...\n",
       "210       211     0\n",
       "211       212    20\n",
       "212       213    73\n",
       "213       214    25\n",
       "214       215     7\n",
       "\n",
       "[215 rows x 2 columns]"
      ]
     },
     "execution_count": 30,
     "metadata": {},
     "output_type": "execute_result"
    }
   ],
   "source": [
    "vk=pd.read_csv(\"kohli_ipl.csv\")\n",
    "vk"
   ]
  },
  {
   "cell_type": "code",
   "execution_count": 63,
   "id": "014408a1-07fc-4b34-bde4-b1d3b67351a3",
   "metadata": {},
   "outputs": [],
   "source": [
    "#Calculate the total number of matches played.\n",
    "\n",
    "v=vk[\"match_no\"].count()"
   ]
  },
  {
   "cell_type": "code",
   "execution_count": 64,
   "id": "654fdfa6-b064-4d53-ba43-cb288df17ec7",
   "metadata": {},
   "outputs": [],
   "source": [
    "# Calculate the total runs scored.\n",
    "r=vk[\"runs\"].sum()"
   ]
  },
  {
   "cell_type": "code",
   "execution_count": 61,
   "id": "78393277-15ba-49ac-9dab-62b32218a7a0",
   "metadata": {},
   "outputs": [
    {
     "data": {
      "text/plain": [
       "Index([127], dtype='int64')"
      ]
     },
     "execution_count": 61,
     "metadata": {},
     "output_type": "execute_result"
    }
   ],
   "source": [
    "# Find the match in which Virat Kohli scored the maximum runs.\n",
    "\n",
    "maxx=vk[\"runs\"]\n",
    "maxx.sort_values(ascending=False).head(1).index\n"
   ]
  },
  {
   "cell_type": "code",
   "execution_count": 62,
   "id": "f277998c-e076-454d-9f5c-57ea2399e29c",
   "metadata": {},
   "outputs": [
    {
     "data": {
      "text/plain": [
       "match_no    108.000000\n",
       "runs         30.855814\n",
       "dtype: float64"
      ]
     },
     "execution_count": 62,
     "metadata": {},
     "output_type": "execute_result"
    }
   ],
   "source": [
    "# Calculate the average runs scored per match.\n",
    "\n",
    "vk.mean()"
   ]
  },
  {
   "cell_type": "code",
   "execution_count": 80,
   "id": "d78e5db7-a657-41ff-b420-3b2aeeb984e3",
   "metadata": {},
   "outputs": [
    {
     "data": {
      "text/plain": [
       "[48]"
      ]
     },
     "execution_count": 80,
     "metadata": {},
     "output_type": "execute_result"
    }
   ],
   "source": [
    "# find how many matches he scored more than 50 runs\n",
    "\n",
    "score=vk[\"runs\"]>50\n",
    "li=[score[score==True].count()]\n",
    "li"
   ]
  },
  {
   "cell_type": "code",
   "execution_count": 84,
   "id": "d070f1d8-3a9b-4c81-9034-199270301365",
   "metadata": {},
   "outputs": [
    {
     "data": {
      "text/plain": [
       "<Axes: xlabel='match_no'>"
      ]
     },
     "execution_count": 84,
     "metadata": {},
     "output_type": "execute_result"
    },
    {
     "data": {
      "image/png": "[encoded data removed]",
      "text/plain": [
       "<Figure size 640x480 with 1 Axes>"
      ]
     },
     "metadata": {},
     "output_type": "display_data"
    }
   ],
   "source": [
    "# Plot a graph of runs scored in each match \n",
    "\n",
    "vk.plot(\"match_no\",\"runs\")"
   ]
  },
  {
   "cell_type": "code",
   "execution_count": 117,
   "id": "44f5af4b-3835-48fe-93b9-2963c88f4915",
   "metadata": {},
   "outputs": [
    {
     "data": {
      "text/plain": [
       "match_no    93\n",
       "runs        93\n",
       "dtype: int64"
      ]
     },
     "execution_count": 117,
     "metadata": {},
     "output_type": "execute_result"
    }
   ],
   "source": [
    "# Filter matches where runs scored are greater than the average runs  \n",
    "avg=vk[\"runs\"].mean()\n",
    "scored=vk[\"runs\"]\n",
    "scored[scored > avg].count()\n"
   ]
  },
  {
   "cell_type": "code",
   "execution_count": 177,
   "id": "34d8938b-cf3c-4213-9cc9-b7d09e721ffa",
   "metadata": {},
   "outputs": [
    {
     "data": {
      "text/html": [
       "<div>\n",
       "<style scoped>\n",
       "    .dataframe tbody tr th:only-of-type {\n",
       "        vertical-align: middle;\n",
       "    }\n",
       "\n",
       "    .dataframe tbody tr th {\n",
       "        vertical-align: top;\n",
       "    }\n",
       "\n",
       "    .dataframe thead th {\n",
       "        text-align: right;\n",
       "    }\n",
       "</style>\n",
       "<table border=\"1\" class=\"dataframe\">\n",
       "  <thead>\n",
       "    <tr style=\"text-align: right;\">\n",
       "      <th></th>\n",
       "      <th>Movie Name</th>\n",
       "      <th>Actore</th>\n",
       "    </tr>\n",
       "  </thead>\n",
       "  <tbody>\n",
       "    <tr>\n",
       "      <th>0</th>\n",
       "      <td>The Matrix</td>\n",
       "      <td>Keanu Reeves</td>\n",
       "    </tr>\n",
       "    <tr>\n",
       "      <th>1</th>\n",
       "      <td>John Wick</td>\n",
       "      <td>Keanu Reeves</td>\n",
       "    </tr>\n",
       "    <tr>\n",
       "      <th>2</th>\n",
       "      <td>Inception</td>\n",
       "      <td>Leonardo DiCaprio</td>\n",
       "    </tr>\n",
       "    <tr>\n",
       "      <th>3</th>\n",
       "      <td>Titanic</td>\n",
       "      <td>Leonardo DiCaprio</td>\n",
       "    </tr>\n",
       "    <tr>\n",
       "      <th>4</th>\n",
       "      <td>Iron Man</td>\n",
       "      <td>Robert Downey Jr</td>\n",
       "    </tr>\n",
       "    <tr>\n",
       "      <th>5</th>\n",
       "      <td>Sherlock Holmes</td>\n",
       "      <td>Robert Downey Jr</td>\n",
       "    </tr>\n",
       "  </tbody>\n",
       "</table>\n",
       "</div>"
      ],
      "text/plain": [
       "        Movie Name             Actore\n",
       "0       The Matrix       Keanu Reeves\n",
       "1        John Wick       Keanu Reeves\n",
       "2        Inception  Leonardo DiCaprio\n",
       "3          Titanic  Leonardo DiCaprio\n",
       "4         Iron Man   Robert Downey Jr\n",
       "5  Sherlock Holmes   Robert Downey Jr"
      ]
     },
     "execution_count": 177,
     "metadata": {},
     "output_type": "execute_result"
    }
   ],
   "source": [
    "movie =pd.DataFrame({\n",
    "    \"Movie Name\"   :[\"The Matrix\" , \n",
    "\"John Wick\" ,\n",
    "\"Inception\", \n",
    "\"Titanic\" ,\n",
    "\"Iron Man\"  ,       \n",
    "\"Sherlock Holmes\"],\n",
    "\"Actore\" :[\"Keanu Reeves\",\"Keanu Reeves\",\"Leonardo DiCaprio\",\"Leonardo DiCaprio\",\"Robert Downey Jr\",\"Robert Downey Jr\"]\n",
    "\n",
    "})\n",
    "movie\n"
   ]
  },
  {
   "cell_type": "code",
   "execution_count": 154,
   "id": "0b3a5e46-0d70-498a-9ec6-2cd5674b8b47",
   "metadata": {},
   "outputs": [
    {
     "data": {
      "text/plain": [
       "pandas.core.frame.DataFrame"
      ]
     },
     "execution_count": 154,
     "metadata": {},
     "output_type": "execute_result"
    }
   ],
   "source": [
    "# Find All Movies by a Specific Actor\n",
    "\n",
    "# Find all movies starring Leonardo DiCaprio.\n",
    "movies = movie[\"Movie Name\"]\n",
    "movies\n",
    "Leonardo DiCaprio"
   ]
  },
  {
   "cell_type": "code",
   "execution_count": 174,
   "id": "ec1c19c5-8b8d-4141-8868-4d7d4756d4d3",
   "metadata": {},
   "outputs": [
    {
     "data": {
      "text/plain": [
       "0    False\n",
       "1    False\n",
       "2     True\n",
       "3     True\n",
       "4    False\n",
       "5    False\n",
       "Name: Actore, dtype: bool"
      ]
     },
     "execution_count": 174,
     "metadata": {},
     "output_type": "execute_result"
    }
   ],
   "source": [
    "act = movie['Actore']\n",
    "act ==  \"Leonardo DiCaprio\"\n",
    "\n",
    "#"
   ]
  },
  {
   "cell_type": "code",
   "execution_count": 175,
   "id": "80910b69-c203-4bda-ad9d-23e56d8adcc3",
   "metadata": {},
   "outputs": [
    {
     "name": "stdout",
     "output_type": "stream",
     "text": [
      "Leonardo DiCaprio Movies:\n",
      "   Movie Name             Actore\n",
      "2  Inception  Leonardo DiCaprio\n",
      "3    Titanic  Leonardo DiCaprio\n"
     ]
    }
   ],
   "source": [
    "\n",
    "\n",
    "leonardo_movies = movie[movie['Actore'] == 'Leonardo DiCaprio']\n",
    "print(\"Leonardo DiCaprio Movies:\\n\", leonardo_movies)"
   ]
  },
  {
   "cell_type": "code",
   "execution_count": 187,
   "id": "0188f02e-6bce-43c9-8bd2-f72fc344340a",
   "metadata": {},
   "outputs": [
    {
     "data": {
      "text/plain": [
       "Actore\n",
       "Keanu Reeves         2\n",
       "Leonardo DiCaprio    2\n",
       "Robert Downey Jr     2\n",
       "Name: count, dtype: int64"
      ]
     },
     "execution_count": 187,
     "metadata": {},
     "output_type": "execute_result"
    }
   ],
   "source": [
    "# Count the Number of Movies per Actor \n",
    "\n",
    "act=movie[\"Actore\"].value_counts()\n",
    "act"
   ]
  },
  {
   "cell_type": "code",
   "execution_count": 243,
   "id": "b3161972-f527-48eb-8523-c80bc9a64848",
   "metadata": {},
   "outputs": [
    {
     "data": {
      "text/html": [
       "<div>\n",
       "<style scoped>\n",
       "    .dataframe tbody tr th:only-of-type {\n",
       "        vertical-align: middle;\n",
       "    }\n",
       "\n",
       "    .dataframe tbody tr th {\n",
       "        vertical-align: top;\n",
       "    }\n",
       "\n",
       "    .dataframe thead th {\n",
       "        text-align: right;\n",
       "    }\n",
       "</style>\n",
       "<table border=\"1\" class=\"dataframe\">\n",
       "  <thead>\n",
       "    <tr style=\"text-align: right;\">\n",
       "      <th></th>\n",
       "      <th>iQ</th>\n",
       "      <th>marks</th>\n",
       "      <th>package</th>\n",
       "    </tr>\n",
       "  </thead>\n",
       "  <tbody>\n",
       "    <tr>\n",
       "      <th>0</th>\n",
       "      <td>80</td>\n",
       "      <td>50</td>\n",
       "      <td>9</td>\n",
       "    </tr>\n",
       "    <tr>\n",
       "      <th>1</th>\n",
       "      <td>56</td>\n",
       "      <td>40</td>\n",
       "      <td>89</td>\n",
       "    </tr>\n",
       "    <tr>\n",
       "      <th>2</th>\n",
       "      <td>45</td>\n",
       "      <td>67</td>\n",
       "      <td>99</td>\n",
       "    </tr>\n",
       "    <tr>\n",
       "      <th>3</th>\n",
       "      <td>67</td>\n",
       "      <td>77</td>\n",
       "      <td>2</td>\n",
       "    </tr>\n",
       "  </tbody>\n",
       "</table>\n",
       "</div>"
      ],
      "text/plain": [
       "   iQ  marks  package\n",
       "0  80     50        9\n",
       "1  56     40       89\n",
       "2  45     67       99\n",
       "3  67     77        2"
      ]
     },
     "execution_count": 243,
     "metadata": {},
     "output_type": "execute_result"
    }
   ],
   "source": [
    "# create data framam using list\n",
    "\n",
    "student_data=[[80,50,9],\n",
    "              [56,40,89],\n",
    "              [45,67,99],\n",
    "              [67,77,2]\n",
    "             ]\n",
    "data=pd.DataFrame(student_data,columns=[\"iQ\",\"marks\",\"package\"])\n",
    "data"
   ]
  },
  {
   "cell_type": "code",
   "execution_count": 251,
   "id": "e3bf5bfd-dc55-4e60-b2c7-f647229d4b74",
   "metadata": {},
   "outputs": [],
   "source": [
    "# create data using dict\n",
    "dict_stu={\n",
    "    \"name\":[\"na\",\"li\",\"kok\"],\n",
    "    \"id\":[100,101,102],\n",
    "    \"marks\":[99,56,78],\n",
    "    \"package\":[3,5,8]\n",
    "}\n",
    "d=pd.DataFrame(dict_stu)"
   ]
  },
  {
   "cell_type": "code",
   "execution_count": 252,
   "id": "0359cec9-f6fe-4ff0-af1f-6d0254602987",
   "metadata": {},
   "outputs": [
    {
     "data": {
      "text/html": [
       "<div>\n",
       "<style scoped>\n",
       "    .dataframe tbody tr th:only-of-type {\n",
       "        vertical-align: middle;\n",
       "    }\n",
       "\n",
       "    .dataframe tbody tr th {\n",
       "        vertical-align: top;\n",
       "    }\n",
       "\n",
       "    .dataframe thead th {\n",
       "        text-align: right;\n",
       "    }\n",
       "</style>\n",
       "<table border=\"1\" class=\"dataframe\">\n",
       "  <thead>\n",
       "    <tr style=\"text-align: right;\">\n",
       "      <th></th>\n",
       "      <th>title_x</th>\n",
       "      <th>imdb_id</th>\n",
       "      <th>poster_path</th>\n",
       "      <th>wiki_link</th>\n",
       "      <th>title_y</th>\n",
       "      <th>original_title</th>\n",
       "      <th>is_adult</th>\n",
       "      <th>year_of_release</th>\n",
       "      <th>runtime</th>\n",
       "      <th>genres</th>\n",
       "      <th>imdb_rating</th>\n",
       "      <th>imdb_votes</th>\n",
       "      <th>story</th>\n",
       "      <th>summary</th>\n",
       "      <th>tagline</th>\n",
       "      <th>actors</th>\n",
       "      <th>wins_nominations</th>\n",
       "      <th>release_date</th>\n",
       "    </tr>\n",
       "  </thead>\n",
       "  <tbody>\n",
       "    <tr>\n",
       "      <th>0</th>\n",
       "      <td>Uri: The Surgical Strike</td>\n",
       "      <td>tt8291224</td>\n",
       "      <td>https://upload.wikimedia.org/wikipedia/en/thum...</td>\n",
       "      <td>https://en.wikipedia.org/wiki/Uri:_The_Surgica...</td>\n",
       "      <td>Uri: The Surgical Strike</td>\n",
       "      <td>Uri: The Surgical Strike</td>\n",
       "      <td>0</td>\n",
       "      <td>2019</td>\n",
       "      <td>138</td>\n",
       "      <td>Action|Drama|War</td>\n",
       "      <td>8.4</td>\n",
       "      <td>35112</td>\n",
       "      <td>Divided over five chapters  the film chronicle...</td>\n",
       "      <td>Indian army special forces execute a covert op...</td>\n",
       "      <td>NaN</td>\n",
       "      <td>Vicky Kaushal|Paresh Rawal|Mohit Raina|Yami Ga...</td>\n",
       "      <td>4 wins</td>\n",
       "      <td>11 January 2019 (USA)</td>\n",
       "    </tr>\n",
       "    <tr>\n",
       "      <th>1</th>\n",
       "      <td>Battalion 609</td>\n",
       "      <td>tt9472208</td>\n",
       "      <td>NaN</td>\n",
       "      <td>https://en.wikipedia.org/wiki/Battalion_609</td>\n",
       "      <td>Battalion 609</td>\n",
       "      <td>Battalion 609</td>\n",
       "      <td>0</td>\n",
       "      <td>2019</td>\n",
       "      <td>131</td>\n",
       "      <td>War</td>\n",
       "      <td>4.1</td>\n",
       "      <td>73</td>\n",
       "      <td>The story revolves around a cricket match betw...</td>\n",
       "      <td>The story of Battalion 609 revolves around a c...</td>\n",
       "      <td>NaN</td>\n",
       "      <td>Vicky Ahuja|Shoaib Ibrahim|Shrikant Kamat|Elen...</td>\n",
       "      <td>NaN</td>\n",
       "      <td>11 January 2019 (India)</td>\n",
       "    </tr>\n",
       "    <tr>\n",
       "      <th>2</th>\n",
       "      <td>The Accidental Prime Minister (film)</td>\n",
       "      <td>tt6986710</td>\n",
       "      <td>https://upload.wikimedia.org/wikipedia/en/thum...</td>\n",
       "      <td>https://en.wikipedia.org/wiki/The_Accidental_P...</td>\n",
       "      <td>The Accidental Prime Minister</td>\n",
       "      <td>The Accidental Prime Minister</td>\n",
       "      <td>0</td>\n",
       "      <td>2019</td>\n",
       "      <td>112</td>\n",
       "      <td>Biography|Drama</td>\n",
       "      <td>6.1</td>\n",
       "      <td>5549</td>\n",
       "      <td>Based on the memoir by Indian policy analyst S...</td>\n",
       "      <td>Explores Manmohan Singh's tenure as the Prime ...</td>\n",
       "      <td>NaN</td>\n",
       "      <td>Anupam Kher|Akshaye Khanna|Aahana Kumra|Atul S...</td>\n",
       "      <td>NaN</td>\n",
       "      <td>11 January 2019 (USA)</td>\n",
       "    </tr>\n",
       "    <tr>\n",
       "      <th>3</th>\n",
       "      <td>Why Cheat India</td>\n",
       "      <td>tt8108208</td>\n",
       "      <td>https://upload.wikimedia.org/wikipedia/en/thum...</td>\n",
       "      <td>https://en.wikipedia.org/wiki/Why_Cheat_India</td>\n",
       "      <td>Why Cheat India</td>\n",
       "      <td>Why Cheat India</td>\n",
       "      <td>0</td>\n",
       "      <td>2019</td>\n",
       "      <td>121</td>\n",
       "      <td>Crime|Drama</td>\n",
       "      <td>6.0</td>\n",
       "      <td>1891</td>\n",
       "      <td>The movie focuses on existing malpractices in ...</td>\n",
       "      <td>The movie focuses on existing malpractices in ...</td>\n",
       "      <td>NaN</td>\n",
       "      <td>Emraan Hashmi|Shreya Dhanwanthary|Snighdadeep ...</td>\n",
       "      <td>NaN</td>\n",
       "      <td>18 January 2019 (USA)</td>\n",
       "    </tr>\n",
       "    <tr>\n",
       "      <th>4</th>\n",
       "      <td>Evening Shadows</td>\n",
       "      <td>tt6028796</td>\n",
       "      <td>NaN</td>\n",
       "      <td>https://en.wikipedia.org/wiki/Evening_Shadows</td>\n",
       "      <td>Evening Shadows</td>\n",
       "      <td>Evening Shadows</td>\n",
       "      <td>0</td>\n",
       "      <td>2018</td>\n",
       "      <td>102</td>\n",
       "      <td>Drama</td>\n",
       "      <td>7.3</td>\n",
       "      <td>280</td>\n",
       "      <td>While gay rights and marriage equality has bee...</td>\n",
       "      <td>Under the 'Evening Shadows'  truth often plays...</td>\n",
       "      <td>NaN</td>\n",
       "      <td>Mona Ambegaonkar|Ananth Narayan Mahadevan|Deva...</td>\n",
       "      <td>17 wins &amp; 1 nomination</td>\n",
       "      <td>11 January 2019 (India)</td>\n",
       "    </tr>\n",
       "    <tr>\n",
       "      <th>...</th>\n",
       "      <td>...</td>\n",
       "      <td>...</td>\n",
       "      <td>...</td>\n",
       "      <td>...</td>\n",
       "      <td>...</td>\n",
       "      <td>...</td>\n",
       "      <td>...</td>\n",
       "      <td>...</td>\n",
       "      <td>...</td>\n",
       "      <td>...</td>\n",
       "      <td>...</td>\n",
       "      <td>...</td>\n",
       "      <td>...</td>\n",
       "      <td>...</td>\n",
       "      <td>...</td>\n",
       "      <td>...</td>\n",
       "      <td>...</td>\n",
       "      <td>...</td>\n",
       "    </tr>\n",
       "    <tr>\n",
       "      <th>1624</th>\n",
       "      <td>Tera Mera Saath Rahen</td>\n",
       "      <td>tt0301250</td>\n",
       "      <td>https://upload.wikimedia.org/wikipedia/en/2/2b...</td>\n",
       "      <td>https://en.wikipedia.org/wiki/Tera_Mera_Saath_...</td>\n",
       "      <td>Tera Mera Saath Rahen</td>\n",
       "      <td>Tera Mera Saath Rahen</td>\n",
       "      <td>0</td>\n",
       "      <td>2001</td>\n",
       "      <td>148</td>\n",
       "      <td>Drama</td>\n",
       "      <td>4.9</td>\n",
       "      <td>278</td>\n",
       "      <td>Raj Dixit lives with his younger brother  Rahu...</td>\n",
       "      <td>A man is torn between his handicapped brother ...</td>\n",
       "      <td>NaN</td>\n",
       "      <td>Ajay Devgn|Sonali Bendre|Namrata Shirodkar|Pre...</td>\n",
       "      <td>NaN</td>\n",
       "      <td>7 November 2001 (India)</td>\n",
       "    </tr>\n",
       "    <tr>\n",
       "      <th>1625</th>\n",
       "      <td>Yeh Zindagi Ka Safar</td>\n",
       "      <td>tt0298607</td>\n",
       "      <td>https://upload.wikimedia.org/wikipedia/en/thum...</td>\n",
       "      <td>https://en.wikipedia.org/wiki/Yeh_Zindagi_Ka_S...</td>\n",
       "      <td>Yeh Zindagi Ka Safar</td>\n",
       "      <td>Yeh Zindagi Ka Safar</td>\n",
       "      <td>0</td>\n",
       "      <td>2001</td>\n",
       "      <td>146</td>\n",
       "      <td>Drama</td>\n",
       "      <td>3.0</td>\n",
       "      <td>133</td>\n",
       "      <td>Hindi pop-star  Sarina Devan  lives a wealthy ...</td>\n",
       "      <td>A singer finds out she was adopted when the ed...</td>\n",
       "      <td>NaN</td>\n",
       "      <td>Ameesha Patel|Jimmy Sheirgill|Nafisa Ali|Gulsh...</td>\n",
       "      <td>NaN</td>\n",
       "      <td>16 November 2001 (India)</td>\n",
       "    </tr>\n",
       "    <tr>\n",
       "      <th>1626</th>\n",
       "      <td>Sabse Bada Sukh</td>\n",
       "      <td>tt0069204</td>\n",
       "      <td>NaN</td>\n",
       "      <td>https://en.wikipedia.org/wiki/Sabse_Bada_Sukh</td>\n",
       "      <td>Sabse Bada Sukh</td>\n",
       "      <td>Sabse Bada Sukh</td>\n",
       "      <td>0</td>\n",
       "      <td>2018</td>\n",
       "      <td>\\N</td>\n",
       "      <td>Comedy|Drama</td>\n",
       "      <td>6.1</td>\n",
       "      <td>13</td>\n",
       "      <td>Village born Lalloo re-locates to Bombay  and ...</td>\n",
       "      <td>Village born Lalloo re-locates to Bombay  and ...</td>\n",
       "      <td>NaN</td>\n",
       "      <td>Vijay Arora|Asrani|Rajni Bala|Kumud Damle|Utpa...</td>\n",
       "      <td>NaN</td>\n",
       "      <td>NaN</td>\n",
       "    </tr>\n",
       "    <tr>\n",
       "      <th>1627</th>\n",
       "      <td>Daaka</td>\n",
       "      <td>tt10833860</td>\n",
       "      <td>https://upload.wikimedia.org/wikipedia/en/thum...</td>\n",
       "      <td>https://en.wikipedia.org/wiki/Daaka</td>\n",
       "      <td>Daaka</td>\n",
       "      <td>Daaka</td>\n",
       "      <td>0</td>\n",
       "      <td>2019</td>\n",
       "      <td>136</td>\n",
       "      <td>Action</td>\n",
       "      <td>7.4</td>\n",
       "      <td>38</td>\n",
       "      <td>Shinda tries robbing a bank so he can be wealt...</td>\n",
       "      <td>Shinda tries robbing a bank so he can be wealt...</td>\n",
       "      <td>NaN</td>\n",
       "      <td>Gippy Grewal|Zareen Khan|</td>\n",
       "      <td>NaN</td>\n",
       "      <td>1 November 2019 (USA)</td>\n",
       "    </tr>\n",
       "    <tr>\n",
       "      <th>1628</th>\n",
       "      <td>Humsafar</td>\n",
       "      <td>tt2403201</td>\n",
       "      <td>https://upload.wikimedia.org/wikipedia/en/thum...</td>\n",
       "      <td>https://en.wikipedia.org/wiki/Humsafar</td>\n",
       "      <td>Humsafar</td>\n",
       "      <td>Humsafar</td>\n",
       "      <td>0</td>\n",
       "      <td>2011</td>\n",
       "      <td>35</td>\n",
       "      <td>Drama|Romance</td>\n",
       "      <td>9.0</td>\n",
       "      <td>2968</td>\n",
       "      <td>Sara and Ashar are childhood friends who share...</td>\n",
       "      <td>Ashar and Khirad are forced to get married due...</td>\n",
       "      <td>NaN</td>\n",
       "      <td>Fawad Khan|</td>\n",
       "      <td>NaN</td>\n",
       "      <td>TV Series (2011–2012)</td>\n",
       "    </tr>\n",
       "  </tbody>\n",
       "</table>\n",
       "<p>1629 rows × 18 columns</p>\n",
       "</div>"
      ],
      "text/plain": [
       "                                   title_x     imdb_id  \\\n",
       "0                 Uri: The Surgical Strike   tt8291224   \n",
       "1                            Battalion 609   tt9472208   \n",
       "2     The Accidental Prime Minister (film)   tt6986710   \n",
       "3                          Why Cheat India   tt8108208   \n",
       "4                          Evening Shadows   tt6028796   \n",
       "...                                    ...         ...   \n",
       "1624                 Tera Mera Saath Rahen   tt0301250   \n",
       "1625                  Yeh Zindagi Ka Safar   tt0298607   \n",
       "1626                       Sabse Bada Sukh   tt0069204   \n",
       "1627                                 Daaka  tt10833860   \n",
       "1628                              Humsafar   tt2403201   \n",
       "\n",
       "                                            poster_path  \\\n",
       "0     https://upload.wikimedia.org/wikipedia/en/thum...   \n",
       "1                                                   NaN   \n",
       "2     https://upload.wikimedia.org/wikipedia/en/thum...   \n",
       "3     https://upload.wikimedia.org/wikipedia/en/thum...   \n",
       "4                                                   NaN   \n",
       "...                                                 ...   \n",
       "1624  https://upload.wikimedia.org/wikipedia/en/2/2b...   \n",
       "1625  https://upload.wikimedia.org/wikipedia/en/thum...   \n",
       "1626                                                NaN   \n",
       "1627  https://upload.wikimedia.org/wikipedia/en/thum...   \n",
       "1628  https://upload.wikimedia.org/wikipedia/en/thum...   \n",
       "\n",
       "                                              wiki_link  \\\n",
       "0     https://en.wikipedia.org/wiki/Uri:_The_Surgica...   \n",
       "1           https://en.wikipedia.org/wiki/Battalion_609   \n",
       "2     https://en.wikipedia.org/wiki/The_Accidental_P...   \n",
       "3         https://en.wikipedia.org/wiki/Why_Cheat_India   \n",
       "4         https://en.wikipedia.org/wiki/Evening_Shadows   \n",
       "...                                                 ...   \n",
       "1624  https://en.wikipedia.org/wiki/Tera_Mera_Saath_...   \n",
       "1625  https://en.wikipedia.org/wiki/Yeh_Zindagi_Ka_S...   \n",
       "1626      https://en.wikipedia.org/wiki/Sabse_Bada_Sukh   \n",
       "1627                https://en.wikipedia.org/wiki/Daaka   \n",
       "1628             https://en.wikipedia.org/wiki/Humsafar   \n",
       "\n",
       "                            title_y                 original_title  is_adult  \\\n",
       "0          Uri: The Surgical Strike       Uri: The Surgical Strike         0   \n",
       "1                     Battalion 609                  Battalion 609         0   \n",
       "2     The Accidental Prime Minister  The Accidental Prime Minister         0   \n",
       "3                   Why Cheat India                Why Cheat India         0   \n",
       "4                   Evening Shadows                Evening Shadows         0   \n",
       "...                             ...                            ...       ...   \n",
       "1624          Tera Mera Saath Rahen          Tera Mera Saath Rahen         0   \n",
       "1625           Yeh Zindagi Ka Safar           Yeh Zindagi Ka Safar         0   \n",
       "1626                Sabse Bada Sukh                Sabse Bada Sukh         0   \n",
       "1627                          Daaka                          Daaka         0   \n",
       "1628                       Humsafar                       Humsafar         0   \n",
       "\n",
       "      year_of_release runtime            genres  imdb_rating  imdb_votes  \\\n",
       "0                2019     138  Action|Drama|War          8.4       35112   \n",
       "1                2019     131               War          4.1          73   \n",
       "2                2019     112   Biography|Drama          6.1        5549   \n",
       "3                2019     121       Crime|Drama          6.0        1891   \n",
       "4                2018     102             Drama          7.3         280   \n",
       "...               ...     ...               ...          ...         ...   \n",
       "1624             2001     148             Drama          4.9         278   \n",
       "1625             2001     146             Drama          3.0         133   \n",
       "1626             2018      \\N      Comedy|Drama          6.1          13   \n",
       "1627             2019     136            Action          7.4          38   \n",
       "1628             2011      35     Drama|Romance          9.0        2968   \n",
       "\n",
       "                                                  story  \\\n",
       "0     Divided over five chapters  the film chronicle...   \n",
       "1     The story revolves around a cricket match betw...   \n",
       "2     Based on the memoir by Indian policy analyst S...   \n",
       "3     The movie focuses on existing malpractices in ...   \n",
       "4     While gay rights and marriage equality has bee...   \n",
       "...                                                 ...   \n",
       "1624  Raj Dixit lives with his younger brother  Rahu...   \n",
       "1625  Hindi pop-star  Sarina Devan  lives a wealthy ...   \n",
       "1626  Village born Lalloo re-locates to Bombay  and ...   \n",
       "1627  Shinda tries robbing a bank so he can be wealt...   \n",
       "1628  Sara and Ashar are childhood friends who share...   \n",
       "\n",
       "                                                summary tagline  \\\n",
       "0     Indian army special forces execute a covert op...     NaN   \n",
       "1     The story of Battalion 609 revolves around a c...     NaN   \n",
       "2     Explores Manmohan Singh's tenure as the Prime ...     NaN   \n",
       "3     The movie focuses on existing malpractices in ...     NaN   \n",
       "4     Under the 'Evening Shadows'  truth often plays...     NaN   \n",
       "...                                                 ...     ...   \n",
       "1624  A man is torn between his handicapped brother ...     NaN   \n",
       "1625  A singer finds out she was adopted when the ed...     NaN   \n",
       "1626  Village born Lalloo re-locates to Bombay  and ...     NaN   \n",
       "1627  Shinda tries robbing a bank so he can be wealt...     NaN   \n",
       "1628  Ashar and Khirad are forced to get married due...     NaN   \n",
       "\n",
       "                                                 actors  \\\n",
       "0     Vicky Kaushal|Paresh Rawal|Mohit Raina|Yami Ga...   \n",
       "1     Vicky Ahuja|Shoaib Ibrahim|Shrikant Kamat|Elen...   \n",
       "2     Anupam Kher|Akshaye Khanna|Aahana Kumra|Atul S...   \n",
       "3     Emraan Hashmi|Shreya Dhanwanthary|Snighdadeep ...   \n",
       "4     Mona Ambegaonkar|Ananth Narayan Mahadevan|Deva...   \n",
       "...                                                 ...   \n",
       "1624  Ajay Devgn|Sonali Bendre|Namrata Shirodkar|Pre...   \n",
       "1625  Ameesha Patel|Jimmy Sheirgill|Nafisa Ali|Gulsh...   \n",
       "1626  Vijay Arora|Asrani|Rajni Bala|Kumud Damle|Utpa...   \n",
       "1627                          Gippy Grewal|Zareen Khan|   \n",
       "1628                                        Fawad Khan|   \n",
       "\n",
       "            wins_nominations              release_date  \n",
       "0                     4 wins     11 January 2019 (USA)  \n",
       "1                        NaN   11 January 2019 (India)  \n",
       "2                        NaN     11 January 2019 (USA)  \n",
       "3                        NaN     18 January 2019 (USA)  \n",
       "4     17 wins & 1 nomination   11 January 2019 (India)  \n",
       "...                      ...                       ...  \n",
       "1624                     NaN   7 November 2001 (India)  \n",
       "1625                     NaN  16 November 2001 (India)  \n",
       "1626                     NaN                       NaN  \n",
       "1627                     NaN     1 November 2019 (USA)  \n",
       "1628                     NaN     TV Series (2011–2012)  \n",
       "\n",
       "[1629 rows x 18 columns]"
      ]
     },
     "execution_count": 252,
     "metadata": {},
     "output_type": "execute_result"
    }
   ],
   "source": [
    " # using read csv\n",
    "movies=pd.read_csv(\"movies.csv\")\n",
    "movies"
   ]
  },
  {
   "cell_type": "code",
   "execution_count": 201,
   "id": "7886523f-aa6a-4cf5-b7e9-4b2a7f4b929c",
   "metadata": {},
   "outputs": [],
   "source": [
    " # using read csv\n",
    "# pd.read_csv(\"/home/developer/Desktop/daily_task/python_task/pandass/batsman_runs_ipl.csv\")"
   ]
  },
  {
   "cell_type": "code",
   "execution_count": 202,
   "id": "d880aa37-fb8f-4476-94e2-f14b0e6cdf47",
   "metadata": {},
   "outputs": [],
   "source": [
    " # using read csv\n",
    "# pd.read_csv(\"/home/developer/Downloads/ipl-matches.csv\")"
   ]
  },
  {
   "cell_type": "code",
   "execution_count": 202,
   "id": "f76ae133-ee54-47be-9952-5c8b2d36293f",
   "metadata": {},
   "outputs": [],
   "source": []
  },
  {
   "cell_type": "code",
   "execution_count": null,
   "id": "4dd998a3-c36d-455f-9464-33e908bc6c63",
   "metadata": {},
   "outputs": [],
   "source": [
    "#  Attriute and method \n",
    "\n",
    "# shape\n",
    "# dtype\n",
    "# index \n",
    "# columns\n",
    "# values\n",
    "\n",
    "# function \n",
    "\n",
    "#head\n",
    "#tail\n",
    "#info  give high level information \n",
    "# decrie\n",
    "\n",
    "# is null\n",
    "# duplicate\n",
    "# rename"
   ]
  },
  {
   "cell_type": "code",
   "execution_count": 204,
   "id": "8f78b870-3f8e-4165-99d0-7e13352e802c",
   "metadata": {},
   "outputs": [
    {
     "data": {
      "text/plain": [
       "(1629, 18)"
      ]
     },
     "execution_count": 204,
     "metadata": {},
     "output_type": "execute_result"
    }
   ],
   "source": [
    "movies.shape"
   ]
  },
  {
   "cell_type": "code",
   "execution_count": 206,
   "id": "e09f64c1-afde-4046-9763-a62c6bdaf811",
   "metadata": {},
   "outputs": [
    {
     "data": {
      "text/plain": [
       "title_x              object\n",
       "imdb_id              object\n",
       "poster_path          object\n",
       "wiki_link            object\n",
       "title_y              object\n",
       "original_title       object\n",
       "is_adult              int64\n",
       "year_of_release       int64\n",
       "runtime              object\n",
       "genres               object\n",
       "imdb_rating         float64\n",
       "imdb_votes            int64\n",
       "story                object\n",
       "summary              object\n",
       "tagline              object\n",
       "actors               object\n",
       "wins_nominations     object\n",
       "release_date         object\n",
       "dtype: object"
      ]
     },
     "execution_count": 206,
     "metadata": {},
     "output_type": "execute_result"
    }
   ],
   "source": [
    "movies.dtypes"
   ]
  },
  {
   "cell_type": "code",
   "execution_count": 207,
   "id": "da2234b3-be02-4f69-bd30-7d21db3e94c5",
   "metadata": {},
   "outputs": [
    {
     "data": {
      "text/plain": [
       "RangeIndex(start=0, stop=1629, step=1)"
      ]
     },
     "execution_count": 207,
     "metadata": {},
     "output_type": "execute_result"
    }
   ],
   "source": [
    "movies.index"
   ]
  },
  {
   "cell_type": "code",
   "execution_count": 208,
   "id": "8ad07334-f009-46ad-a440-83afedd80921",
   "metadata": {},
   "outputs": [
    {
     "data": {
      "text/plain": [
       "Index(['title_x', 'imdb_id', 'poster_path', 'wiki_link', 'title_y',\n",
       "       'original_title', 'is_adult', 'year_of_release', 'runtime', 'genres',\n",
       "       'imdb_rating', 'imdb_votes', 'story', 'summary', 'tagline', 'actors',\n",
       "       'wins_nominations', 'release_date'],\n",
       "      dtype='object')"
      ]
     },
     "execution_count": 208,
     "metadata": {},
     "output_type": "execute_result"
    }
   ],
   "source": [
    "# columns\n",
    "movies.columns"
   ]
  },
  {
   "cell_type": "code",
   "execution_count": 215,
   "id": "efa99dc1-0488-4b38-8afb-070a87d88c78",
   "metadata": {},
   "outputs": [
    {
     "data": {
      "text/plain": [
       "array([[80, 50,  9],\n",
       "       [56, 40, 89],\n",
       "       [45, 67, 99],\n",
       "       [67, 77,  2]])"
      ]
     },
     "execution_count": 215,
     "metadata": {},
     "output_type": "execute_result"
    }
   ],
   "source": [
    "data.values"
   ]
  },
  {
   "cell_type": "code",
   "execution_count": 218,
   "id": "fa6cdb70-bf60-4858-accb-3713f9a5f52c",
   "metadata": {},
   "outputs": [
    {
     "data": {
      "text/html": [
       "<div>\n",
       "<style scoped>\n",
       "    .dataframe tbody tr th:only-of-type {\n",
       "        vertical-align: middle;\n",
       "    }\n",
       "\n",
       "    .dataframe tbody tr th {\n",
       "        vertical-align: top;\n",
       "    }\n",
       "\n",
       "    .dataframe thead th {\n",
       "        text-align: right;\n",
       "    }\n",
       "</style>\n",
       "<table border=\"1\" class=\"dataframe\">\n",
       "  <thead>\n",
       "    <tr style=\"text-align: right;\">\n",
       "      <th></th>\n",
       "      <th>title_x</th>\n",
       "      <th>imdb_id</th>\n",
       "      <th>poster_path</th>\n",
       "      <th>wiki_link</th>\n",
       "      <th>title_y</th>\n",
       "      <th>original_title</th>\n",
       "      <th>is_adult</th>\n",
       "      <th>year_of_release</th>\n",
       "      <th>runtime</th>\n",
       "      <th>genres</th>\n",
       "      <th>imdb_rating</th>\n",
       "      <th>imdb_votes</th>\n",
       "      <th>story</th>\n",
       "      <th>summary</th>\n",
       "      <th>tagline</th>\n",
       "      <th>actors</th>\n",
       "      <th>wins_nominations</th>\n",
       "      <th>release_date</th>\n",
       "    </tr>\n",
       "  </thead>\n",
       "  <tbody>\n",
       "    <tr>\n",
       "      <th>0</th>\n",
       "      <td>Uri: The Surgical Strike</td>\n",
       "      <td>tt8291224</td>\n",
       "      <td>https://upload.wikimedia.org/wikipedia/en/thum...</td>\n",
       "      <td>https://en.wikipedia.org/wiki/Uri:_The_Surgica...</td>\n",
       "      <td>Uri: The Surgical Strike</td>\n",
       "      <td>Uri: The Surgical Strike</td>\n",
       "      <td>0</td>\n",
       "      <td>2019</td>\n",
       "      <td>138</td>\n",
       "      <td>Action|Drama|War</td>\n",
       "      <td>8.4</td>\n",
       "      <td>35112</td>\n",
       "      <td>Divided over five chapters  the film chronicle...</td>\n",
       "      <td>Indian army special forces execute a covert op...</td>\n",
       "      <td>NaN</td>\n",
       "      <td>Vicky Kaushal|Paresh Rawal|Mohit Raina|Yami Ga...</td>\n",
       "      <td>4 wins</td>\n",
       "      <td>11 January 2019 (USA)</td>\n",
       "    </tr>\n",
       "    <tr>\n",
       "      <th>1</th>\n",
       "      <td>Battalion 609</td>\n",
       "      <td>tt9472208</td>\n",
       "      <td>NaN</td>\n",
       "      <td>https://en.wikipedia.org/wiki/Battalion_609</td>\n",
       "      <td>Battalion 609</td>\n",
       "      <td>Battalion 609</td>\n",
       "      <td>0</td>\n",
       "      <td>2019</td>\n",
       "      <td>131</td>\n",
       "      <td>War</td>\n",
       "      <td>4.1</td>\n",
       "      <td>73</td>\n",
       "      <td>The story revolves around a cricket match betw...</td>\n",
       "      <td>The story of Battalion 609 revolves around a c...</td>\n",
       "      <td>NaN</td>\n",
       "      <td>Vicky Ahuja|Shoaib Ibrahim|Shrikant Kamat|Elen...</td>\n",
       "      <td>NaN</td>\n",
       "      <td>11 January 2019 (India)</td>\n",
       "    </tr>\n",
       "    <tr>\n",
       "      <th>2</th>\n",
       "      <td>The Accidental Prime Minister (film)</td>\n",
       "      <td>tt6986710</td>\n",
       "      <td>https://upload.wikimedia.org/wikipedia/en/thum...</td>\n",
       "      <td>https://en.wikipedia.org/wiki/The_Accidental_P...</td>\n",
       "      <td>The Accidental Prime Minister</td>\n",
       "      <td>The Accidental Prime Minister</td>\n",
       "      <td>0</td>\n",
       "      <td>2019</td>\n",
       "      <td>112</td>\n",
       "      <td>Biography|Drama</td>\n",
       "      <td>6.1</td>\n",
       "      <td>5549</td>\n",
       "      <td>Based on the memoir by Indian policy analyst S...</td>\n",
       "      <td>Explores Manmohan Singh's tenure as the Prime ...</td>\n",
       "      <td>NaN</td>\n",
       "      <td>Anupam Kher|Akshaye Khanna|Aahana Kumra|Atul S...</td>\n",
       "      <td>NaN</td>\n",
       "      <td>11 January 2019 (USA)</td>\n",
       "    </tr>\n",
       "    <tr>\n",
       "      <th>3</th>\n",
       "      <td>Why Cheat India</td>\n",
       "      <td>tt8108208</td>\n",
       "      <td>https://upload.wikimedia.org/wikipedia/en/thum...</td>\n",
       "      <td>https://en.wikipedia.org/wiki/Why_Cheat_India</td>\n",
       "      <td>Why Cheat India</td>\n",
       "      <td>Why Cheat India</td>\n",
       "      <td>0</td>\n",
       "      <td>2019</td>\n",
       "      <td>121</td>\n",
       "      <td>Crime|Drama</td>\n",
       "      <td>6.0</td>\n",
       "      <td>1891</td>\n",
       "      <td>The movie focuses on existing malpractices in ...</td>\n",
       "      <td>The movie focuses on existing malpractices in ...</td>\n",
       "      <td>NaN</td>\n",
       "      <td>Emraan Hashmi|Shreya Dhanwanthary|Snighdadeep ...</td>\n",
       "      <td>NaN</td>\n",
       "      <td>18 January 2019 (USA)</td>\n",
       "    </tr>\n",
       "    <tr>\n",
       "      <th>4</th>\n",
       "      <td>Evening Shadows</td>\n",
       "      <td>tt6028796</td>\n",
       "      <td>NaN</td>\n",
       "      <td>https://en.wikipedia.org/wiki/Evening_Shadows</td>\n",
       "      <td>Evening Shadows</td>\n",
       "      <td>Evening Shadows</td>\n",
       "      <td>0</td>\n",
       "      <td>2018</td>\n",
       "      <td>102</td>\n",
       "      <td>Drama</td>\n",
       "      <td>7.3</td>\n",
       "      <td>280</td>\n",
       "      <td>While gay rights and marriage equality has bee...</td>\n",
       "      <td>Under the 'Evening Shadows'  truth often plays...</td>\n",
       "      <td>NaN</td>\n",
       "      <td>Mona Ambegaonkar|Ananth Narayan Mahadevan|Deva...</td>\n",
       "      <td>17 wins &amp; 1 nomination</td>\n",
       "      <td>11 January 2019 (India)</td>\n",
       "    </tr>\n",
       "  </tbody>\n",
       "</table>\n",
       "</div>"
      ],
      "text/plain": [
       "                                title_x    imdb_id  \\\n",
       "0              Uri: The Surgical Strike  tt8291224   \n",
       "1                         Battalion 609  tt9472208   \n",
       "2  The Accidental Prime Minister (film)  tt6986710   \n",
       "3                       Why Cheat India  tt8108208   \n",
       "4                       Evening Shadows  tt6028796   \n",
       "\n",
       "                                         poster_path  \\\n",
       "0  https://upload.wikimedia.org/wikipedia/en/thum...   \n",
       "1                                                NaN   \n",
       "2  https://upload.wikimedia.org/wikipedia/en/thum...   \n",
       "3  https://upload.wikimedia.org/wikipedia/en/thum...   \n",
       "4                                                NaN   \n",
       "\n",
       "                                           wiki_link  \\\n",
       "0  https://en.wikipedia.org/wiki/Uri:_The_Surgica...   \n",
       "1        https://en.wikipedia.org/wiki/Battalion_609   \n",
       "2  https://en.wikipedia.org/wiki/The_Accidental_P...   \n",
       "3      https://en.wikipedia.org/wiki/Why_Cheat_India   \n",
       "4      https://en.wikipedia.org/wiki/Evening_Shadows   \n",
       "\n",
       "                         title_y                 original_title  is_adult  \\\n",
       "0       Uri: The Surgical Strike       Uri: The Surgical Strike         0   \n",
       "1                  Battalion 609                  Battalion 609         0   \n",
       "2  The Accidental Prime Minister  The Accidental Prime Minister         0   \n",
       "3                Why Cheat India                Why Cheat India         0   \n",
       "4                Evening Shadows                Evening Shadows         0   \n",
       "\n",
       "   year_of_release runtime            genres  imdb_rating  imdb_votes  \\\n",
       "0             2019     138  Action|Drama|War          8.4       35112   \n",
       "1             2019     131               War          4.1          73   \n",
       "2             2019     112   Biography|Drama          6.1        5549   \n",
       "3             2019     121       Crime|Drama          6.0        1891   \n",
       "4             2018     102             Drama          7.3         280   \n",
       "\n",
       "                                               story  \\\n",
       "0  Divided over five chapters  the film chronicle...   \n",
       "1  The story revolves around a cricket match betw...   \n",
       "2  Based on the memoir by Indian policy analyst S...   \n",
       "3  The movie focuses on existing malpractices in ...   \n",
       "4  While gay rights and marriage equality has bee...   \n",
       "\n",
       "                                             summary tagline  \\\n",
       "0  Indian army special forces execute a covert op...     NaN   \n",
       "1  The story of Battalion 609 revolves around a c...     NaN   \n",
       "2  Explores Manmohan Singh's tenure as the Prime ...     NaN   \n",
       "3  The movie focuses on existing malpractices in ...     NaN   \n",
       "4  Under the 'Evening Shadows'  truth often plays...     NaN   \n",
       "\n",
       "                                              actors        wins_nominations  \\\n",
       "0  Vicky Kaushal|Paresh Rawal|Mohit Raina|Yami Ga...                  4 wins   \n",
       "1  Vicky Ahuja|Shoaib Ibrahim|Shrikant Kamat|Elen...                     NaN   \n",
       "2  Anupam Kher|Akshaye Khanna|Aahana Kumra|Atul S...                     NaN   \n",
       "3  Emraan Hashmi|Shreya Dhanwanthary|Snighdadeep ...                     NaN   \n",
       "4  Mona Ambegaonkar|Ananth Narayan Mahadevan|Deva...  17 wins & 1 nomination   \n",
       "\n",
       "              release_date  \n",
       "0    11 January 2019 (USA)  \n",
       "1  11 January 2019 (India)  \n",
       "2    11 January 2019 (USA)  \n",
       "3    18 January 2019 (USA)  \n",
       "4  11 January 2019 (India)  "
      ]
     },
     "execution_count": 218,
     "metadata": {},
     "output_type": "execute_result"
    }
   ],
   "source": [
    "movies.head()"
   ]
  },
  {
   "cell_type": "code",
   "execution_count": 220,
   "id": "faf80f44-58f7-4db7-bf40-c93c0aa06d65",
   "metadata": {},
   "outputs": [
    {
     "name": "stdout",
     "output_type": "stream",
     "text": [
      "<class 'pandas.core.frame.DataFrame'>\n",
      "RangeIndex: 1629 entries, 0 to 1628\n",
      "Data columns (total 18 columns):\n",
      " #   Column            Non-Null Count  Dtype  \n",
      "---  ------            --------------  -----  \n",
      " 0   title_x           1629 non-null   object \n",
      " 1   imdb_id           1629 non-null   object \n",
      " 2   poster_path       1526 non-null   object \n",
      " 3   wiki_link         1629 non-null   object \n",
      " 4   title_y           1629 non-null   object \n",
      " 5   original_title    1629 non-null   object \n",
      " 6   is_adult          1629 non-null   int64  \n",
      " 7   year_of_release   1629 non-null   int64  \n",
      " 8   runtime           1629 non-null   object \n",
      " 9   genres            1629 non-null   object \n",
      " 10  imdb_rating       1629 non-null   float64\n",
      " 11  imdb_votes        1629 non-null   int64  \n",
      " 12  story             1609 non-null   object \n",
      " 13  summary           1629 non-null   object \n",
      " 14  tagline           557 non-null    object \n",
      " 15  actors            1624 non-null   object \n",
      " 16  wins_nominations  707 non-null    object \n",
      " 17  release_date      1522 non-null   object \n",
      "dtypes: float64(1), int64(3), object(14)\n",
      "memory usage: 229.2+ KB\n"
     ]
    }
   ],
   "source": [
    "movies.info()"
   ]
  },
  {
   "cell_type": "code",
   "execution_count": 221,
   "id": "990a94f0-6ddb-45dd-8ede-e46084feb6eb",
   "metadata": {},
   "outputs": [
    {
     "data": {
      "text/html": [
       "<div>\n",
       "<style scoped>\n",
       "    .dataframe tbody tr th:only-of-type {\n",
       "        vertical-align: middle;\n",
       "    }\n",
       "\n",
       "    .dataframe tbody tr th {\n",
       "        vertical-align: top;\n",
       "    }\n",
       "\n",
       "    .dataframe thead th {\n",
       "        text-align: right;\n",
       "    }\n",
       "</style>\n",
       "<table border=\"1\" class=\"dataframe\">\n",
       "  <thead>\n",
       "    <tr style=\"text-align: right;\">\n",
       "      <th></th>\n",
       "      <th>is_adult</th>\n",
       "      <th>year_of_release</th>\n",
       "      <th>imdb_rating</th>\n",
       "      <th>imdb_votes</th>\n",
       "    </tr>\n",
       "  </thead>\n",
       "  <tbody>\n",
       "    <tr>\n",
       "      <th>count</th>\n",
       "      <td>1629.0</td>\n",
       "      <td>1629.000000</td>\n",
       "      <td>1629.000000</td>\n",
       "      <td>1629.000000</td>\n",
       "    </tr>\n",
       "    <tr>\n",
       "      <th>mean</th>\n",
       "      <td>0.0</td>\n",
       "      <td>2010.263966</td>\n",
       "      <td>5.557459</td>\n",
       "      <td>5384.263352</td>\n",
       "    </tr>\n",
       "    <tr>\n",
       "      <th>std</th>\n",
       "      <td>0.0</td>\n",
       "      <td>5.381542</td>\n",
       "      <td>1.567609</td>\n",
       "      <td>14552.103231</td>\n",
       "    </tr>\n",
       "    <tr>\n",
       "      <th>min</th>\n",
       "      <td>0.0</td>\n",
       "      <td>2001.000000</td>\n",
       "      <td>0.000000</td>\n",
       "      <td>0.000000</td>\n",
       "    </tr>\n",
       "    <tr>\n",
       "      <th>25%</th>\n",
       "      <td>0.0</td>\n",
       "      <td>2005.000000</td>\n",
       "      <td>4.400000</td>\n",
       "      <td>233.000000</td>\n",
       "    </tr>\n",
       "    <tr>\n",
       "      <th>50%</th>\n",
       "      <td>0.0</td>\n",
       "      <td>2011.000000</td>\n",
       "      <td>5.600000</td>\n",
       "      <td>1000.000000</td>\n",
       "    </tr>\n",
       "    <tr>\n",
       "      <th>75%</th>\n",
       "      <td>0.0</td>\n",
       "      <td>2015.000000</td>\n",
       "      <td>6.800000</td>\n",
       "      <td>4287.000000</td>\n",
       "    </tr>\n",
       "    <tr>\n",
       "      <th>max</th>\n",
       "      <td>0.0</td>\n",
       "      <td>2019.000000</td>\n",
       "      <td>9.400000</td>\n",
       "      <td>310481.000000</td>\n",
       "    </tr>\n",
       "  </tbody>\n",
       "</table>\n",
       "</div>"
      ],
      "text/plain": [
       "       is_adult  year_of_release  imdb_rating     imdb_votes\n",
       "count    1629.0      1629.000000  1629.000000    1629.000000\n",
       "mean        0.0      2010.263966     5.557459    5384.263352\n",
       "std         0.0         5.381542     1.567609   14552.103231\n",
       "min         0.0      2001.000000     0.000000       0.000000\n",
       "25%         0.0      2005.000000     4.400000     233.000000\n",
       "50%         0.0      2011.000000     5.600000    1000.000000\n",
       "75%         0.0      2015.000000     6.800000    4287.000000\n",
       "max         0.0      2019.000000     9.400000  310481.000000"
      ]
     },
     "execution_count": 221,
     "metadata": {},
     "output_type": "execute_result"
    }
   ],
   "source": [
    "movies.describe()"
   ]
  },
  {
   "cell_type": "code",
   "execution_count": 224,
   "id": "519242ba-80d5-4b14-8284-9383cc56b06d",
   "metadata": {},
   "outputs": [
    {
     "data": {
      "text/plain": [
       "title_x                0\n",
       "imdb_id                0\n",
       "poster_path          103\n",
       "wiki_link              0\n",
       "title_y                0\n",
       "original_title         0\n",
       "is_adult               0\n",
       "year_of_release        0\n",
       "runtime                0\n",
       "genres                 0\n",
       "imdb_rating            0\n",
       "imdb_votes             0\n",
       "story                 20\n",
       "summary                0\n",
       "tagline             1072\n",
       "actors                 5\n",
       "wins_nominations     922\n",
       "release_date         107\n",
       "dtype: int64"
      ]
     },
     "execution_count": 224,
     "metadata": {},
     "output_type": "execute_result"
    }
   ],
   "source": [
    "movies.isnull().sum()"
   ]
  },
  {
   "cell_type": "code",
   "execution_count": 227,
   "id": "cdfb49f8-d7ef-4b20-9bb3-92b72aaba92d",
   "metadata": {},
   "outputs": [
    {
     "data": {
      "text/plain": [
       "0"
      ]
     },
     "execution_count": 227,
     "metadata": {},
     "output_type": "execute_result"
    }
   ],
   "source": [
    "movies.duplicated().sum()"
   ]
  },
  {
   "cell_type": "code",
   "execution_count": 230,
   "id": "71abda26-1b07-4af8-ad72-fbd916bd332a",
   "metadata": {},
   "outputs": [
    {
     "data": {
      "text/plain": [
       "0"
      ]
     },
     "execution_count": 230,
     "metadata": {},
     "output_type": "execute_result"
    }
   ],
   "source": [
    "data.duplicated().sum()"
   ]
  },
  {
   "cell_type": "code",
   "execution_count": 232,
   "id": "2ab28ea9-5f6d-4013-9200-347c96d9ea9b",
   "metadata": {},
   "outputs": [
    {
     "data": {
      "text/html": [
       "<div>\n",
       "<style scoped>\n",
       "    .dataframe tbody tr th:only-of-type {\n",
       "        vertical-align: middle;\n",
       "    }\n",
       "\n",
       "    .dataframe tbody tr th {\n",
       "        vertical-align: top;\n",
       "    }\n",
       "\n",
       "    .dataframe thead th {\n",
       "        text-align: right;\n",
       "    }\n",
       "</style>\n",
       "<table border=\"1\" class=\"dataframe\">\n",
       "  <thead>\n",
       "    <tr style=\"text-align: right;\">\n",
       "      <th></th>\n",
       "      <th>parcentage</th>\n",
       "      <th>marks</th>\n",
       "      <th>package</th>\n",
       "    </tr>\n",
       "  </thead>\n",
       "  <tbody>\n",
       "    <tr>\n",
       "      <th>0</th>\n",
       "      <td>80</td>\n",
       "      <td>50</td>\n",
       "      <td>9</td>\n",
       "    </tr>\n",
       "    <tr>\n",
       "      <th>1</th>\n",
       "      <td>56</td>\n",
       "      <td>40</td>\n",
       "      <td>89</td>\n",
       "    </tr>\n",
       "    <tr>\n",
       "      <th>2</th>\n",
       "      <td>45</td>\n",
       "      <td>67</td>\n",
       "      <td>99</td>\n",
       "    </tr>\n",
       "    <tr>\n",
       "      <th>3</th>\n",
       "      <td>67</td>\n",
       "      <td>77</td>\n",
       "      <td>2</td>\n",
       "    </tr>\n",
       "  </tbody>\n",
       "</table>\n",
       "</div>"
      ],
      "text/plain": [
       "   parcentage  marks  package\n",
       "0          80     50        9\n",
       "1          56     40       89\n",
       "2          45     67       99\n",
       "3          67     77        2"
      ]
     },
     "execution_count": 232,
     "metadata": {},
     "output_type": "execute_result"
    }
   ],
   "source": [
    "data.rename(columns={\"iQ\":\"parcentage\"})"
   ]
  },
  {
   "cell_type": "code",
   "execution_count": 235,
   "id": "e00b0508-59ca-4ac2-9fa0-a3e7e3446efa",
   "metadata": {},
   "outputs": [
    {
     "data": {
      "text/plain": [
       "iQ         248\n",
       "marks      234\n",
       "package    199\n",
       "dtype: int64"
      ]
     },
     "execution_count": 235,
     "metadata": {},
     "output_type": "execute_result"
    }
   ],
   "source": [
    "# mathmatical function\n",
    "\n",
    "data.sum()"
   ]
  },
  {
   "cell_type": "code",
   "execution_count": 236,
   "id": "7ecea42a-0a07-450f-a0d9-3efe9218623f",
   "metadata": {},
   "outputs": [
    {
     "data": {
      "text/plain": [
       "0    139\n",
       "1    185\n",
       "2    211\n",
       "3    146\n",
       "dtype: int64"
      ]
     },
     "execution_count": 236,
     "metadata": {},
     "output_type": "execute_result"
    }
   ],
   "source": [
    "data.sum(axis=1)"
   ]
  },
  {
   "cell_type": "code",
   "execution_count": 237,
   "id": "401a5677-3cae-478f-afd2-1bbf81934687",
   "metadata": {},
   "outputs": [
    {
     "data": {
      "text/plain": [
       "0    46.333333\n",
       "1    61.666667\n",
       "2    70.333333\n",
       "3    48.666667\n",
       "dtype: float64"
      ]
     },
     "execution_count": 237,
     "metadata": {},
     "output_type": "execute_result"
    }
   ],
   "source": [
    "data.mean(axis=1)"
   ]
  },
  {
   "cell_type": "code",
   "execution_count": 238,
   "id": "10a9793e-d068-4bfc-a260-9224804fc10f",
   "metadata": {},
   "outputs": [
    {
     "data": {
      "text/plain": [
       "0                   Uri: The Surgical Strike\n",
       "1                              Battalion 609\n",
       "2       The Accidental Prime Minister (film)\n",
       "3                            Why Cheat India\n",
       "4                            Evening Shadows\n",
       "                        ...                 \n",
       "1624                   Tera Mera Saath Rahen\n",
       "1625                    Yeh Zindagi Ka Safar\n",
       "1626                         Sabse Bada Sukh\n",
       "1627                                   Daaka\n",
       "1628                                Humsafar\n",
       "Name: title_x, Length: 1629, dtype: object"
      ]
     },
     "execution_count": 238,
     "metadata": {},
     "output_type": "execute_result"
    }
   ],
   "source": [
    "# fetch single columns\n",
    "movies[\"title_x\"]"
   ]
  },
  {
   "cell_type": "code",
   "execution_count": 239,
   "id": "ab705464-e9fb-4d13-9444-9f3f057bd625",
   "metadata": {},
   "outputs": [
    {
     "data": {
      "text/html": [
       "<div>\n",
       "<style scoped>\n",
       "    .dataframe tbody tr th:only-of-type {\n",
       "        vertical-align: middle;\n",
       "    }\n",
       "\n",
       "    .dataframe tbody tr th {\n",
       "        vertical-align: top;\n",
       "    }\n",
       "\n",
       "    .dataframe thead th {\n",
       "        text-align: right;\n",
       "    }\n",
       "</style>\n",
       "<table border=\"1\" class=\"dataframe\">\n",
       "  <thead>\n",
       "    <tr style=\"text-align: right;\">\n",
       "      <th></th>\n",
       "      <th>title_x</th>\n",
       "      <th>story</th>\n",
       "    </tr>\n",
       "  </thead>\n",
       "  <tbody>\n",
       "    <tr>\n",
       "      <th>0</th>\n",
       "      <td>Uri: The Surgical Strike</td>\n",
       "      <td>Divided over five chapters  the film chronicle...</td>\n",
       "    </tr>\n",
       "    <tr>\n",
       "      <th>1</th>\n",
       "      <td>Battalion 609</td>\n",
       "      <td>The story revolves around a cricket match betw...</td>\n",
       "    </tr>\n",
       "    <tr>\n",
       "      <th>2</th>\n",
       "      <td>The Accidental Prime Minister (film)</td>\n",
       "      <td>Based on the memoir by Indian policy analyst S...</td>\n",
       "    </tr>\n",
       "    <tr>\n",
       "      <th>3</th>\n",
       "      <td>Why Cheat India</td>\n",
       "      <td>The movie focuses on existing malpractices in ...</td>\n",
       "    </tr>\n",
       "    <tr>\n",
       "      <th>4</th>\n",
       "      <td>Evening Shadows</td>\n",
       "      <td>While gay rights and marriage equality has bee...</td>\n",
       "    </tr>\n",
       "    <tr>\n",
       "      <th>...</th>\n",
       "      <td>...</td>\n",
       "      <td>...</td>\n",
       "    </tr>\n",
       "    <tr>\n",
       "      <th>1624</th>\n",
       "      <td>Tera Mera Saath Rahen</td>\n",
       "      <td>Raj Dixit lives with his younger brother  Rahu...</td>\n",
       "    </tr>\n",
       "    <tr>\n",
       "      <th>1625</th>\n",
       "      <td>Yeh Zindagi Ka Safar</td>\n",
       "      <td>Hindi pop-star  Sarina Devan  lives a wealthy ...</td>\n",
       "    </tr>\n",
       "    <tr>\n",
       "      <th>1626</th>\n",
       "      <td>Sabse Bada Sukh</td>\n",
       "      <td>Village born Lalloo re-locates to Bombay  and ...</td>\n",
       "    </tr>\n",
       "    <tr>\n",
       "      <th>1627</th>\n",
       "      <td>Daaka</td>\n",
       "      <td>Shinda tries robbing a bank so he can be wealt...</td>\n",
       "    </tr>\n",
       "    <tr>\n",
       "      <th>1628</th>\n",
       "      <td>Humsafar</td>\n",
       "      <td>Sara and Ashar are childhood friends who share...</td>\n",
       "    </tr>\n",
       "  </tbody>\n",
       "</table>\n",
       "<p>1629 rows × 2 columns</p>\n",
       "</div>"
      ],
      "text/plain": [
       "                                   title_x  \\\n",
       "0                 Uri: The Surgical Strike   \n",
       "1                            Battalion 609   \n",
       "2     The Accidental Prime Minister (film)   \n",
       "3                          Why Cheat India   \n",
       "4                          Evening Shadows   \n",
       "...                                    ...   \n",
       "1624                 Tera Mera Saath Rahen   \n",
       "1625                  Yeh Zindagi Ka Safar   \n",
       "1626                       Sabse Bada Sukh   \n",
       "1627                                 Daaka   \n",
       "1628                              Humsafar   \n",
       "\n",
       "                                                  story  \n",
       "0     Divided over five chapters  the film chronicle...  \n",
       "1     The story revolves around a cricket match betw...  \n",
       "2     Based on the memoir by Indian policy analyst S...  \n",
       "3     The movie focuses on existing malpractices in ...  \n",
       "4     While gay rights and marriage equality has bee...  \n",
       "...                                                 ...  \n",
       "1624  Raj Dixit lives with his younger brother  Rahu...  \n",
       "1625  Hindi pop-star  Sarina Devan  lives a wealthy ...  \n",
       "1626  Village born Lalloo re-locates to Bombay  and ...  \n",
       "1627  Shinda tries robbing a bank so he can be wealt...  \n",
       "1628  Sara and Ashar are childhood friends who share...  \n",
       "\n",
       "[1629 rows x 2 columns]"
      ]
     },
     "execution_count": 239,
     "metadata": {},
     "output_type": "execute_result"
    }
   ],
   "source": [
    "# fetch multiple columns\n",
    "movies[[\"title_x\",\"story\"]]"
   ]
  },
  {
   "cell_type": "code",
   "execution_count": 254,
   "id": "0170e982-496e-4bd1-8cab-8f2e1fb9f983",
   "metadata": {},
   "outputs": [
    {
     "data": {
      "text/html": [
       "<div>\n",
       "<style scoped>\n",
       "    .dataframe tbody tr th:only-of-type {\n",
       "        vertical-align: middle;\n",
       "    }\n",
       "\n",
       "    .dataframe tbody tr th {\n",
       "        vertical-align: top;\n",
       "    }\n",
       "\n",
       "    .dataframe thead th {\n",
       "        text-align: right;\n",
       "    }\n",
       "</style>\n",
       "<table border=\"1\" class=\"dataframe\">\n",
       "  <thead>\n",
       "    <tr style=\"text-align: right;\">\n",
       "      <th></th>\n",
       "      <th>id</th>\n",
       "      <th>marks</th>\n",
       "      <th>package</th>\n",
       "    </tr>\n",
       "    <tr>\n",
       "      <th>name</th>\n",
       "      <th></th>\n",
       "      <th></th>\n",
       "      <th></th>\n",
       "    </tr>\n",
       "  </thead>\n",
       "  <tbody>\n",
       "    <tr>\n",
       "      <th>na</th>\n",
       "      <td>100</td>\n",
       "      <td>99</td>\n",
       "      <td>3</td>\n",
       "    </tr>\n",
       "    <tr>\n",
       "      <th>li</th>\n",
       "      <td>101</td>\n",
       "      <td>56</td>\n",
       "      <td>5</td>\n",
       "    </tr>\n",
       "    <tr>\n",
       "      <th>kok</th>\n",
       "      <td>102</td>\n",
       "      <td>78</td>\n",
       "      <td>8</td>\n",
       "    </tr>\n",
       "  </tbody>\n",
       "</table>\n",
       "</div>"
      ],
      "text/plain": [
       "       id  marks  package\n",
       "name                     \n",
       "na    100     99        3\n",
       "li    101     56        5\n",
       "kok   102     78        8"
      ]
     },
     "execution_count": 254,
     "metadata": {},
     "output_type": "execute_result"
    }
   ],
   "source": [
    "d.set_index(\"name\")"
   ]
  },
  {
   "cell_type": "code",
   "execution_count": 257,
   "id": "274a99b8-d2ff-4fb3-9844-768206a493fd",
   "metadata": {},
   "outputs": [
    {
     "data": {
      "text/html": [
       "<div>\n",
       "<style scoped>\n",
       "    .dataframe tbody tr th:only-of-type {\n",
       "        vertical-align: middle;\n",
       "    }\n",
       "\n",
       "    .dataframe tbody tr th {\n",
       "        vertical-align: top;\n",
       "    }\n",
       "\n",
       "    .dataframe thead th {\n",
       "        text-align: right;\n",
       "    }\n",
       "</style>\n",
       "<table border=\"1\" class=\"dataframe\">\n",
       "  <thead>\n",
       "    <tr style=\"text-align: right;\">\n",
       "      <th></th>\n",
       "      <th>title_x</th>\n",
       "      <th>imdb_id</th>\n",
       "      <th>poster_path</th>\n",
       "      <th>wiki_link</th>\n",
       "      <th>title_y</th>\n",
       "      <th>original_title</th>\n",
       "      <th>is_adult</th>\n",
       "      <th>year_of_release</th>\n",
       "      <th>runtime</th>\n",
       "      <th>genres</th>\n",
       "      <th>imdb_rating</th>\n",
       "      <th>imdb_votes</th>\n",
       "      <th>story</th>\n",
       "      <th>summary</th>\n",
       "      <th>tagline</th>\n",
       "      <th>actors</th>\n",
       "      <th>wins_nominations</th>\n",
       "      <th>release_date</th>\n",
       "    </tr>\n",
       "  </thead>\n",
       "  <tbody>\n",
       "    <tr>\n",
       "      <th>0</th>\n",
       "      <td>Uri: The Surgical Strike</td>\n",
       "      <td>tt8291224</td>\n",
       "      <td>https://upload.wikimedia.org/wikipedia/en/thum...</td>\n",
       "      <td>https://en.wikipedia.org/wiki/Uri:_The_Surgica...</td>\n",
       "      <td>Uri: The Surgical Strike</td>\n",
       "      <td>Uri: The Surgical Strike</td>\n",
       "      <td>0</td>\n",
       "      <td>2019</td>\n",
       "      <td>138</td>\n",
       "      <td>Action|Drama|War</td>\n",
       "      <td>8.4</td>\n",
       "      <td>35112</td>\n",
       "      <td>Divided over five chapters  the film chronicle...</td>\n",
       "      <td>Indian army special forces execute a covert op...</td>\n",
       "      <td>NaN</td>\n",
       "      <td>Vicky Kaushal|Paresh Rawal|Mohit Raina|Yami Ga...</td>\n",
       "      <td>4 wins</td>\n",
       "      <td>11 January 2019 (USA)</td>\n",
       "    </tr>\n",
       "    <tr>\n",
       "      <th>1</th>\n",
       "      <td>Battalion 609</td>\n",
       "      <td>tt9472208</td>\n",
       "      <td>NaN</td>\n",
       "      <td>https://en.wikipedia.org/wiki/Battalion_609</td>\n",
       "      <td>Battalion 609</td>\n",
       "      <td>Battalion 609</td>\n",
       "      <td>0</td>\n",
       "      <td>2019</td>\n",
       "      <td>131</td>\n",
       "      <td>War</td>\n",
       "      <td>4.1</td>\n",
       "      <td>73</td>\n",
       "      <td>The story revolves around a cricket match betw...</td>\n",
       "      <td>The story of Battalion 609 revolves around a c...</td>\n",
       "      <td>NaN</td>\n",
       "      <td>Vicky Ahuja|Shoaib Ibrahim|Shrikant Kamat|Elen...</td>\n",
       "      <td>NaN</td>\n",
       "      <td>11 January 2019 (India)</td>\n",
       "    </tr>\n",
       "    <tr>\n",
       "      <th>2</th>\n",
       "      <td>The Accidental Prime Minister (film)</td>\n",
       "      <td>tt6986710</td>\n",
       "      <td>https://upload.wikimedia.org/wikipedia/en/thum...</td>\n",
       "      <td>https://en.wikipedia.org/wiki/The_Accidental_P...</td>\n",
       "      <td>The Accidental Prime Minister</td>\n",
       "      <td>The Accidental Prime Minister</td>\n",
       "      <td>0</td>\n",
       "      <td>2019</td>\n",
       "      <td>112</td>\n",
       "      <td>Biography|Drama</td>\n",
       "      <td>6.1</td>\n",
       "      <td>5549</td>\n",
       "      <td>Based on the memoir by Indian policy analyst S...</td>\n",
       "      <td>Explores Manmohan Singh's tenure as the Prime ...</td>\n",
       "      <td>NaN</td>\n",
       "      <td>Anupam Kher|Akshaye Khanna|Aahana Kumra|Atul S...</td>\n",
       "      <td>NaN</td>\n",
       "      <td>11 January 2019 (USA)</td>\n",
       "    </tr>\n",
       "    <tr>\n",
       "      <th>3</th>\n",
       "      <td>Why Cheat India</td>\n",
       "      <td>tt8108208</td>\n",
       "      <td>https://upload.wikimedia.org/wikipedia/en/thum...</td>\n",
       "      <td>https://en.wikipedia.org/wiki/Why_Cheat_India</td>\n",
       "      <td>Why Cheat India</td>\n",
       "      <td>Why Cheat India</td>\n",
       "      <td>0</td>\n",
       "      <td>2019</td>\n",
       "      <td>121</td>\n",
       "      <td>Crime|Drama</td>\n",
       "      <td>6.0</td>\n",
       "      <td>1891</td>\n",
       "      <td>The movie focuses on existing malpractices in ...</td>\n",
       "      <td>The movie focuses on existing malpractices in ...</td>\n",
       "      <td>NaN</td>\n",
       "      <td>Emraan Hashmi|Shreya Dhanwanthary|Snighdadeep ...</td>\n",
       "      <td>NaN</td>\n",
       "      <td>18 January 2019 (USA)</td>\n",
       "    </tr>\n",
       "    <tr>\n",
       "      <th>4</th>\n",
       "      <td>Evening Shadows</td>\n",
       "      <td>tt6028796</td>\n",
       "      <td>NaN</td>\n",
       "      <td>https://en.wikipedia.org/wiki/Evening_Shadows</td>\n",
       "      <td>Evening Shadows</td>\n",
       "      <td>Evening Shadows</td>\n",
       "      <td>0</td>\n",
       "      <td>2018</td>\n",
       "      <td>102</td>\n",
       "      <td>Drama</td>\n",
       "      <td>7.3</td>\n",
       "      <td>280</td>\n",
       "      <td>While gay rights and marriage equality has bee...</td>\n",
       "      <td>Under the 'Evening Shadows'  truth often plays...</td>\n",
       "      <td>NaN</td>\n",
       "      <td>Mona Ambegaonkar|Ananth Narayan Mahadevan|Deva...</td>\n",
       "      <td>17 wins &amp; 1 nomination</td>\n",
       "      <td>11 January 2019 (India)</td>\n",
       "    </tr>\n",
       "    <tr>\n",
       "      <th>5</th>\n",
       "      <td>Soni (film)</td>\n",
       "      <td>tt6078866</td>\n",
       "      <td>https://upload.wikimedia.org/wikipedia/en/thum...</td>\n",
       "      <td>https://en.wikipedia.org/wiki/Soni_(film)</td>\n",
       "      <td>Soni</td>\n",
       "      <td>Soni</td>\n",
       "      <td>0</td>\n",
       "      <td>2018</td>\n",
       "      <td>97</td>\n",
       "      <td>Drama</td>\n",
       "      <td>7.2</td>\n",
       "      <td>1595</td>\n",
       "      <td>Soni  a young policewoman in Delhi  and her su...</td>\n",
       "      <td>While fighting crimes against women in Delhi  ...</td>\n",
       "      <td>NaN</td>\n",
       "      <td>Geetika Vidya Ohlyan|Saloni Batra|Vikas Shukla...</td>\n",
       "      <td>3 wins &amp; 5 nominations</td>\n",
       "      <td>18 January 2019 (USA)</td>\n",
       "    </tr>\n",
       "  </tbody>\n",
       "</table>\n",
       "</div>"
      ],
      "text/plain": [
       "                                title_x    imdb_id  \\\n",
       "0              Uri: The Surgical Strike  tt8291224   \n",
       "1                         Battalion 609  tt9472208   \n",
       "2  The Accidental Prime Minister (film)  tt6986710   \n",
       "3                       Why Cheat India  tt8108208   \n",
       "4                       Evening Shadows  tt6028796   \n",
       "5                           Soni (film)  tt6078866   \n",
       "\n",
       "                                         poster_path  \\\n",
       "0  https://upload.wikimedia.org/wikipedia/en/thum...   \n",
       "1                                                NaN   \n",
       "2  https://upload.wikimedia.org/wikipedia/en/thum...   \n",
       "3  https://upload.wikimedia.org/wikipedia/en/thum...   \n",
       "4                                                NaN   \n",
       "5  https://upload.wikimedia.org/wikipedia/en/thum...   \n",
       "\n",
       "                                           wiki_link  \\\n",
       "0  https://en.wikipedia.org/wiki/Uri:_The_Surgica...   \n",
       "1        https://en.wikipedia.org/wiki/Battalion_609   \n",
       "2  https://en.wikipedia.org/wiki/The_Accidental_P...   \n",
       "3      https://en.wikipedia.org/wiki/Why_Cheat_India   \n",
       "4      https://en.wikipedia.org/wiki/Evening_Shadows   \n",
       "5          https://en.wikipedia.org/wiki/Soni_(film)   \n",
       "\n",
       "                         title_y                 original_title  is_adult  \\\n",
       "0       Uri: The Surgical Strike       Uri: The Surgical Strike         0   \n",
       "1                  Battalion 609                  Battalion 609         0   \n",
       "2  The Accidental Prime Minister  The Accidental Prime Minister         0   \n",
       "3                Why Cheat India                Why Cheat India         0   \n",
       "4                Evening Shadows                Evening Shadows         0   \n",
       "5                           Soni                           Soni         0   \n",
       "\n",
       "   year_of_release runtime            genres  imdb_rating  imdb_votes  \\\n",
       "0             2019     138  Action|Drama|War          8.4       35112   \n",
       "1             2019     131               War          4.1          73   \n",
       "2             2019     112   Biography|Drama          6.1        5549   \n",
       "3             2019     121       Crime|Drama          6.0        1891   \n",
       "4             2018     102             Drama          7.3         280   \n",
       "5             2018      97             Drama          7.2        1595   \n",
       "\n",
       "                                               story  \\\n",
       "0  Divided over five chapters  the film chronicle...   \n",
       "1  The story revolves around a cricket match betw...   \n",
       "2  Based on the memoir by Indian policy analyst S...   \n",
       "3  The movie focuses on existing malpractices in ...   \n",
       "4  While gay rights and marriage equality has bee...   \n",
       "5  Soni  a young policewoman in Delhi  and her su...   \n",
       "\n",
       "                                             summary tagline  \\\n",
       "0  Indian army special forces execute a covert op...     NaN   \n",
       "1  The story of Battalion 609 revolves around a c...     NaN   \n",
       "2  Explores Manmohan Singh's tenure as the Prime ...     NaN   \n",
       "3  The movie focuses on existing malpractices in ...     NaN   \n",
       "4  Under the 'Evening Shadows'  truth often plays...     NaN   \n",
       "5  While fighting crimes against women in Delhi  ...     NaN   \n",
       "\n",
       "                                              actors        wins_nominations  \\\n",
       "0  Vicky Kaushal|Paresh Rawal|Mohit Raina|Yami Ga...                  4 wins   \n",
       "1  Vicky Ahuja|Shoaib Ibrahim|Shrikant Kamat|Elen...                     NaN   \n",
       "2  Anupam Kher|Akshaye Khanna|Aahana Kumra|Atul S...                     NaN   \n",
       "3  Emraan Hashmi|Shreya Dhanwanthary|Snighdadeep ...                     NaN   \n",
       "4  Mona Ambegaonkar|Ananth Narayan Mahadevan|Deva...  17 wins & 1 nomination   \n",
       "5  Geetika Vidya Ohlyan|Saloni Batra|Vikas Shukla...  3 wins & 5 nominations   \n",
       "\n",
       "              release_date  \n",
       "0    11 January 2019 (USA)  \n",
       "1  11 January 2019 (India)  \n",
       "2    11 January 2019 (USA)  \n",
       "3    18 January 2019 (USA)  \n",
       "4  11 January 2019 (India)  \n",
       "5    18 January 2019 (USA)  "
      ]
     },
     "execution_count": 257,
     "metadata": {},
     "output_type": "execute_result"
    }
   ],
   "source": [
    "movies.iloc[0]\n",
    "movies.iloc[0:6]"
   ]
  },
  {
   "cell_type": "code",
   "execution_count": 258,
   "id": "b33e9f67-b7ab-4f01-8dda-f83729e73d15",
   "metadata": {},
   "outputs": [
    {
     "data": {
      "text/html": [
       "<div>\n",
       "<style scoped>\n",
       "    .dataframe tbody tr th:only-of-type {\n",
       "        vertical-align: middle;\n",
       "    }\n",
       "\n",
       "    .dataframe tbody tr th {\n",
       "        vertical-align: top;\n",
       "    }\n",
       "\n",
       "    .dataframe thead th {\n",
       "        text-align: right;\n",
       "    }\n",
       "</style>\n",
       "<table border=\"1\" class=\"dataframe\">\n",
       "  <thead>\n",
       "    <tr style=\"text-align: right;\">\n",
       "      <th></th>\n",
       "      <th>title_x</th>\n",
       "      <th>imdb_id</th>\n",
       "      <th>poster_path</th>\n",
       "      <th>wiki_link</th>\n",
       "      <th>title_y</th>\n",
       "      <th>original_title</th>\n",
       "      <th>is_adult</th>\n",
       "      <th>year_of_release</th>\n",
       "      <th>runtime</th>\n",
       "      <th>genres</th>\n",
       "      <th>imdb_rating</th>\n",
       "      <th>imdb_votes</th>\n",
       "      <th>story</th>\n",
       "      <th>summary</th>\n",
       "      <th>tagline</th>\n",
       "      <th>actors</th>\n",
       "      <th>wins_nominations</th>\n",
       "      <th>release_date</th>\n",
       "    </tr>\n",
       "  </thead>\n",
       "  <tbody>\n",
       "    <tr>\n",
       "      <th>0</th>\n",
       "      <td>Uri: The Surgical Strike</td>\n",
       "      <td>tt8291224</td>\n",
       "      <td>https://upload.wikimedia.org/wikipedia/en/thum...</td>\n",
       "      <td>https://en.wikipedia.org/wiki/Uri:_The_Surgica...</td>\n",
       "      <td>Uri: The Surgical Strike</td>\n",
       "      <td>Uri: The Surgical Strike</td>\n",
       "      <td>0</td>\n",
       "      <td>2019</td>\n",
       "      <td>138</td>\n",
       "      <td>Action|Drama|War</td>\n",
       "      <td>8.4</td>\n",
       "      <td>35112</td>\n",
       "      <td>Divided over five chapters  the film chronicle...</td>\n",
       "      <td>Indian army special forces execute a covert op...</td>\n",
       "      <td>NaN</td>\n",
       "      <td>Vicky Kaushal|Paresh Rawal|Mohit Raina|Yami Ga...</td>\n",
       "      <td>4 wins</td>\n",
       "      <td>11 January 2019 (USA)</td>\n",
       "    </tr>\n",
       "    <tr>\n",
       "      <th>4</th>\n",
       "      <td>Evening Shadows</td>\n",
       "      <td>tt6028796</td>\n",
       "      <td>NaN</td>\n",
       "      <td>https://en.wikipedia.org/wiki/Evening_Shadows</td>\n",
       "      <td>Evening Shadows</td>\n",
       "      <td>Evening Shadows</td>\n",
       "      <td>0</td>\n",
       "      <td>2018</td>\n",
       "      <td>102</td>\n",
       "      <td>Drama</td>\n",
       "      <td>7.3</td>\n",
       "      <td>280</td>\n",
       "      <td>While gay rights and marriage equality has bee...</td>\n",
       "      <td>Under the 'Evening Shadows'  truth often plays...</td>\n",
       "      <td>NaN</td>\n",
       "      <td>Mona Ambegaonkar|Ananth Narayan Mahadevan|Deva...</td>\n",
       "      <td>17 wins &amp; 1 nomination</td>\n",
       "      <td>11 January 2019 (India)</td>\n",
       "    </tr>\n",
       "    <tr>\n",
       "      <th>5</th>\n",
       "      <td>Soni (film)</td>\n",
       "      <td>tt6078866</td>\n",
       "      <td>https://upload.wikimedia.org/wikipedia/en/thum...</td>\n",
       "      <td>https://en.wikipedia.org/wiki/Soni_(film)</td>\n",
       "      <td>Soni</td>\n",
       "      <td>Soni</td>\n",
       "      <td>0</td>\n",
       "      <td>2018</td>\n",
       "      <td>97</td>\n",
       "      <td>Drama</td>\n",
       "      <td>7.2</td>\n",
       "      <td>1595</td>\n",
       "      <td>Soni  a young policewoman in Delhi  and her su...</td>\n",
       "      <td>While fighting crimes against women in Delhi  ...</td>\n",
       "      <td>NaN</td>\n",
       "      <td>Geetika Vidya Ohlyan|Saloni Batra|Vikas Shukla...</td>\n",
       "      <td>3 wins &amp; 5 nominations</td>\n",
       "      <td>18 January 2019 (USA)</td>\n",
       "    </tr>\n",
       "  </tbody>\n",
       "</table>\n",
       "</div>"
      ],
      "text/plain": [
       "                    title_x    imdb_id  \\\n",
       "0  Uri: The Surgical Strike  tt8291224   \n",
       "4           Evening Shadows  tt6028796   \n",
       "5               Soni (film)  tt6078866   \n",
       "\n",
       "                                         poster_path  \\\n",
       "0  https://upload.wikimedia.org/wikipedia/en/thum...   \n",
       "4                                                NaN   \n",
       "5  https://upload.wikimedia.org/wikipedia/en/thum...   \n",
       "\n",
       "                                           wiki_link  \\\n",
       "0  https://en.wikipedia.org/wiki/Uri:_The_Surgica...   \n",
       "4      https://en.wikipedia.org/wiki/Evening_Shadows   \n",
       "5          https://en.wikipedia.org/wiki/Soni_(film)   \n",
       "\n",
       "                    title_y            original_title  is_adult  \\\n",
       "0  Uri: The Surgical Strike  Uri: The Surgical Strike         0   \n",
       "4           Evening Shadows           Evening Shadows         0   \n",
       "5                      Soni                      Soni         0   \n",
       "\n",
       "   year_of_release runtime            genres  imdb_rating  imdb_votes  \\\n",
       "0             2019     138  Action|Drama|War          8.4       35112   \n",
       "4             2018     102             Drama          7.3         280   \n",
       "5             2018      97             Drama          7.2        1595   \n",
       "\n",
       "                                               story  \\\n",
       "0  Divided over five chapters  the film chronicle...   \n",
       "4  While gay rights and marriage equality has bee...   \n",
       "5  Soni  a young policewoman in Delhi  and her su...   \n",
       "\n",
       "                                             summary tagline  \\\n",
       "0  Indian army special forces execute a covert op...     NaN   \n",
       "4  Under the 'Evening Shadows'  truth often plays...     NaN   \n",
       "5  While fighting crimes against women in Delhi  ...     NaN   \n",
       "\n",
       "                                              actors        wins_nominations  \\\n",
       "0  Vicky Kaushal|Paresh Rawal|Mohit Raina|Yami Ga...                  4 wins   \n",
       "4  Mona Ambegaonkar|Ananth Narayan Mahadevan|Deva...  17 wins & 1 nomination   \n",
       "5  Geetika Vidya Ohlyan|Saloni Batra|Vikas Shukla...  3 wins & 5 nominations   \n",
       "\n",
       "              release_date  \n",
       "0    11 January 2019 (USA)  \n",
       "4  11 January 2019 (India)  \n",
       "5    18 January 2019 (USA)  "
      ]
     },
     "execution_count": 258,
     "metadata": {},
     "output_type": "execute_result"
    }
   ],
   "source": [
    "# fency indexing \n",
    "movies.iloc[[0,4,5]]"
   ]
  },
  {
   "cell_type": "code",
   "execution_count": null,
   "id": "8df7e9ca-f928-4fdc-bbfd-aad04693d081",
   "metadata": {},
   "outputs": [],
   "source": []
  }
 ],
 "metadata": {
  "kernelspec": {
   "display_name": "Python 3 (ipykernel)",
   "language": "python",
   "name": "python3"
  },
  "language_info": {
   "codemirror_mode": {
    "name": "ipython",
    "version": 3
   },
   "file_extension": ".py",
   "mimetype": "text/x-python",
   "name": "python",
   "nbconvert_exporter": "python",
   "pygments_lexer": "ipython3",
   "version": "3.8.10"
  }
 },
 "nbformat": 4,
 "nbformat_minor": 5
}
