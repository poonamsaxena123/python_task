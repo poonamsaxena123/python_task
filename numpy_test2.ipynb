{
 "cells": [
  {
   "cell_type": "code",
   "execution_count": 1,
   "id": "a8e3fb5a-55fe-43da-be96-92469cec5b96",
   "metadata": {},
   "outputs": [],
   "source": [
    "import numpy as np\n",
    "\n",
    "arr= np.array([3,4,10,8,67,54,2,1])\n",
    "np.sort(arr)\n",
    "c = np.array([5, 6, 7, 8])"
   ]
  },
  {
   "cell_type": "code",
   "execution_count": 2,
   "id": "63f7aef7-8175-406e-9b41-80dec9fede8d",
   "metadata": {},
   "outputs": [
    {
     "data": {
      "text/plain": [
       "array([ 3,  4, 10,  8, 67, 54,  2,  1,  5,  6,  7,  8])"
      ]
     },
     "execution_count": 2,
     "metadata": {},
     "output_type": "execute_result"
    }
   ],
   "source": [
    "np.concatenate((arr,c))"
   ]
  },
  {
   "cell_type": "code",
   "execution_count": 3,
   "id": "519d74d3-a19c-4642-ab88-e3bae85fd918",
   "metadata": {},
   "outputs": [
    {
     "name": "stdout",
     "output_type": "stream",
     "text": [
      "Indices of the sorted array: [1 2 0]\n",
      "Sorted array using indices: [1 2 3]\n"
     ]
    }
   ],
   "source": [
    "import numpy as np\n",
    "\n",
    "# Create a 1D array\n",
    "arr = np.array([3, 1, 2])\n",
    "\n",
    "# Get the indices that would sort the array\n",
    "sorted_indices = np.argsort(arr)\n",
    "print(\"Indices of the sorted array:\", sorted_indices)\n",
    "\n",
    "# Use the indices to get the sorted array\n",
    "sorted_arr = arr[sorted_indices]\n",
    "print(\"Sorted array using indices:\", sorted_arr)\n"
   ]
  },
  {
   "cell_type": "code",
   "execution_count": 4,
   "id": "ea67cf46-55f6-4b34-b63c-94932001a55a",
   "metadata": {},
   "outputs": [
    {
     "name": "stdout",
     "output_type": "stream",
     "text": [
      "Sorted array along the last axis:\n",
      " [[1 2 3]\n",
      " [4 5 6]]\n",
      "Sorted array along the first axis:\n",
      " [[3 2 1]\n",
      " [6 5 4]]\n"
     ]
    }
   ],
   "source": [
    "import numpy as np\n",
    "\n",
    "# Create a 2D array\n",
    "arr = np.array([[3, 2, 1], [6, 5, 4]])\n",
    "\n",
    "# Sort the array along the last axis (axis=-1)\n",
    "sorted_arr = np.sort(arr, axis=-1)\n",
    "print(\"Sorted array along the last axis:\\n\", sorted_arr)\n",
    "\n",
    "# Sort the array along the first axis (axis=0)\n",
    "sorted_arr = np.sort(arr, axis=0)\n",
    "print(\"Sorted array along the first axis:\\n\", sorted_arr)\n"
   ]
  },
  {
   "cell_type": "code",
   "execution_count": 5,
   "id": "5b8e015e-472e-4052-9262-050c3789f03d",
   "metadata": {},
   "outputs": [
    {
     "name": "stdout",
     "output_type": "stream",
     "text": [
      "[(1, 'cim') (2, 'nilam') (4, 'ahi') (6, 'pushpa')]\n"
     ]
    }
   ],
   "source": [
    "import numpy as np\n",
    "\n",
    "arr2=np.array([(6,\"pushpa\"),(2,\"nilam\"),(4,\"ahi\"),(1,\"cim\")], dtype=[('id',int),('name',\"U10\")])  \n",
    "# ar=np.sort(arr2 ,order='name')\n",
    "sorted_arr = np.sort(arr2, order=['id', 'name'])\n",
    "print(sorted_arr)"
   ]
  },
  {
   "cell_type": "code",
   "execution_count": 6,
   "id": "03a3e39d-d78e-461d-ae89-314287208ba2",
   "metadata": {},
   "outputs": [
    {
     "data": {
      "text/plain": [
       "(6,)"
      ]
     },
     "execution_count": 6,
     "metadata": {},
     "output_type": "execute_result"
    }
   ],
   "source": [
    "ar=np.array([3,410,10,78,43,2])\n",
    "ar.shape"
   ]
  },
  {
   "cell_type": "code",
   "execution_count": 7,
   "id": "046fc9ed-16d0-483f-9a1b-bd9ff2aa1a87",
   "metadata": {},
   "outputs": [
    {
     "data": {
      "text/plain": [
       "(1, 6)"
      ]
     },
     "execution_count": 7,
     "metadata": {},
     "output_type": "execute_result"
    }
   ],
   "source": [
    "ar[np.newaxis, 2:]\n",
    "a2 = ar[np.newaxis, :]\n",
    "a2.shape\n",
    "a2.shape\n",
    "a2\n",
    "a2.shape\n"
   ]
  },
  {
   "cell_type": "code",
   "execution_count": 8,
   "id": "e68bb80c-500a-4bcf-94f4-244e05bc4a35",
   "metadata": {},
   "outputs": [
    {
     "data": {
      "text/plain": [
       "array([[3],\n",
       "       [1],\n",
       "       [2]])"
      ]
     },
     "execution_count": 8,
     "metadata": {},
     "output_type": "execute_result"
    }
   ],
   "source": [
    "arr = np.array([3, 1, 2])\n",
    "a3=arr[: , np.newaxis]\n",
    "a3.shape\n",
    "a3.ndim\n",
    "a3.shape\n",
    "a3"
   ]
  },
  {
   "cell_type": "code",
   "execution_count": 9,
   "id": "c426873b-4309-4f46-99ca-da4ff6a1c88d",
   "metadata": {},
   "outputs": [
    {
     "name": "stdout",
     "output_type": "stream",
     "text": [
      "Original array: [1 2 3 4 5 6]\n",
      "Shape of the original array: (6,)\n",
      "Array with new axis added: [[1 2 3 4 5 6]]\n",
      "Shape after adding new axis: (1, 6)\n",
      "Array with new axis added (transpose): [[1]\n",
      " [2]\n",
      " [3]\n",
      " [4]\n",
      " [5]\n",
      " [6]]\n",
      "Shape after adding new axis (transpose): (6, 1)\n"
     ]
    }
   ],
   "source": [
    "import numpy as np\n",
    "\n",
    "# 1D array\n",
    "a = np.array([1, 2, 3, 4, 5, 6])\n",
    "print(\"Original array:\", a)\n",
    "print(\"Shape of the original array:\", a.shape)\n",
    "\n",
    "# Adding a new axis using np.newaxis\n",
    "a2 = a[np.newaxis, :]\n",
    "print(\"Array with new axis added:\", a2)\n",
    "print(\"Shape after adding new axis:\", a2.shape)\n",
    "\n",
    "# Alternatively, add a new axis along the other dimension\n",
    "a2_transpose = a[:, np.newaxis]\n",
    "print(\"Array with new axis added (transpose):\", a2_transpose)\n",
    "print(\"Shape after adding new axis (transpose):\", a2_transpose.shape)\n"
   ]
  },
  {
   "cell_type": "code",
   "execution_count": 10,
   "id": "6baa0b17-376f-44b3-b259-c84ef5a861b2",
   "metadata": {},
   "outputs": [
    {
     "data": {
      "text/plain": [
       "(1, 6)"
      ]
     },
     "execution_count": 10,
     "metadata": {},
     "output_type": "execute_result"
    }
   ],
   "source": [
    "c=np.expand_dims(a,axis=0)\n",
    "a.shape\n",
    "a.ndim\n",
    "c.shape\n",
    "c.ndim\n",
    "c.shape"
   ]
  },
  {
   "cell_type": "code",
   "execution_count": 11,
   "id": "1ac84e5c-2478-45c0-906a-e77ed66ee1fd",
   "metadata": {},
   "outputs": [
    {
     "data": {
      "text/plain": [
       "(6, 1)"
      ]
     },
     "execution_count": 11,
     "metadata": {},
     "output_type": "execute_result"
    }
   ],
   "source": [
    "c=np.expand_dims(a,axis=1)\n",
    "a.shape\n",
    "a.ndim\n",
    "c.shape\n",
    "c.ndim\n",
    "c.shape"
   ]
  },
  {
   "cell_type": "code",
   "execution_count": 12,
   "id": "2721b2ae-8539-48b6-a61c-1ef96dd08d36",
   "metadata": {},
   "outputs": [
    {
     "name": "stdout",
     "output_type": "stream",
     "text": [
      "Original 2D array:\n",
      " [[1 2 3]\n",
      " [4 5 6]\n",
      " [7 8 9]]\n",
      "Last row:\n",
      " [7 8 9]\n",
      "Last column:\n",
      " [3 6 9]\n",
      "Subarray with negative indices:\n",
      " [[5 6]\n",
      " [8 9]]\n"
     ]
    }
   ],
   "source": [
    "import numpy as np\n",
    "\n",
    "# Create a 2D array\n",
    "a = np.array([[1, 2, 3], [4, 5, 6], [7, 8, 9]])\n",
    "print(\"Original 2D array:\\n\", a)\n",
    "\n",
    "# Access the last row\n",
    "print(\"Last row:\\n\", a[-1, :])\n",
    "\n",
    "# Access the last column\n",
    "print(\"Last column:\\n\", a[:, -1])\n",
    "\n",
    "# Access a subarray with negative indices\n",
    "print(\"Subarray with negative indices:\\n\", a[-2:, -2:])\n"
   ]
  },
  {
   "cell_type": "code",
   "execution_count": 13,
   "id": "8aadef3d-1637-4549-bf9d-cc2e0fe3e5af",
   "metadata": {},
   "outputs": [
    {
     "name": "stdout",
     "output_type": "stream",
     "text": [
      "Original array: [1 2 3 4 5 6]\n",
      "Every second element from the end: [6 4 2]\n",
      "Elements from index -5 to -2: [2 3 4]\n"
     ]
    }
   ],
   "source": [
    "import numpy as np\n",
    "\n",
    "# Create a 1D array\n",
    "a = np.array([1, 2, 3, 4, 5, 6])\n",
    "print(\"Original array:\", a)\n",
    "\n",
    "# Access every second element from the end\n",
    "print(\"Every second element from the end:\", a[::-2])\n",
    "\n",
    "# Access elements from index -5 to -2\n",
    "print(\"Elements from index -5 to -2:\", a[-5:-2])\n"
   ]
  },
  {
   "cell_type": "code",
   "execution_count": 14,
   "id": "751abd94-3cb5-4006-8fc0-b2b97a6a364e",
   "metadata": {},
   "outputs": [
    {
     "data": {
      "text/plain": [
       "array([1, 2, 3, 4, 5, 6])"
      ]
     },
     "execution_count": 14,
     "metadata": {},
     "output_type": "execute_result"
    }
   ],
   "source": [
    "a = np.array([1, 2, 3, 4, 5, 6])\n",
    "c = np.array([11,34,56,2,3,8,6])\n",
    "d=a[(a>2) |(a<7)]\n",
    "d"
   ]
  },
  {
   "cell_type": "code",
   "execution_count": 15,
   "id": "11e95d1a-7a6f-4eb9-a809-727c44d99887",
   "metadata": {},
   "outputs": [
    {
     "data": {
      "text/plain": [
       "array([2, 4, 6])"
      ]
     },
     "execution_count": 15,
     "metadata": {},
     "output_type": "execute_result"
    }
   ],
   "source": [
    "a = np.array([1, 2, 3, 4, 5, 6])\n",
    "c = np.array([11,34,56,2,3,8,6])\n",
    "d=a[a%2==0]\n",
    "d"
   ]
  },
  {
   "cell_type": "code",
   "execution_count": 16,
   "id": "f03cb3d8-6b69-453d-a52e-a7a84316fab1",
   "metadata": {},
   "outputs": [
    {
     "name": "stdout",
     "output_type": "stream",
     "text": [
      "[False False  True  True  True  True]\n"
     ]
    }
   ],
   "source": [
    "a = np.array([1, 2, 3, 4, 5, 6])\n",
    "c = np.array([11,34,56,2,3,8,6])\n",
    "d=(a>2) | (a==5)\n",
    "print(d)"
   ]
  },
  {
   "cell_type": "code",
   "execution_count": 17,
   "id": "a2c47f44-62c3-4d5a-b045-7c72c4c762d4",
   "metadata": {},
   "outputs": [
    {
     "data": {
      "text/plain": [
       "array([[1, 1, 3, 3],\n",
       "       [2, 2, 4, 4]])"
      ]
     },
     "execution_count": 17,
     "metadata": {},
     "output_type": "execute_result"
    }
   ],
   "source": [
    "a1 = np.array([[1, 1],\n",
    "               [2, 2]])\n",
    "\n",
    "a2 = np.array([[3, 3],\n",
    "               [4, 4]])\n",
    "np.hstack((a1,a2))"
   ]
  },
  {
   "cell_type": "code",
   "execution_count": 18,
   "id": "53257195-d91e-40a7-8f11-dd3a0da991f1",
   "metadata": {},
   "outputs": [
    {
     "data": {
      "text/plain": [
       "array([[1, 1],\n",
       "       [2, 2],\n",
       "       [3, 3],\n",
       "       [4, 4]])"
      ]
     },
     "execution_count": 18,
     "metadata": {},
     "output_type": "execute_result"
    }
   ],
   "source": [
    "a1 = np.array([[1, 1],\n",
    "               [2, 2]])\n",
    "\n",
    "a2 = np.array([[3, 3],\n",
    "               [4, 4]])\n",
    "np.vstack((a1,a2))"
   ]
  },
  {
   "cell_type": "code",
   "execution_count": 19,
   "id": "afc3663f-322e-4169-9329-57d5cd112863",
   "metadata": {},
   "outputs": [],
   "source": [
    "a2=np.arange(1,25).reshape(2,12)"
   ]
  },
  {
   "cell_type": "code",
   "execution_count": 20,
   "id": "3db1c11d-052c-40dd-bb0c-59ccdbfe9269",
   "metadata": {},
   "outputs": [
    {
     "data": {
      "text/plain": [
       "array([[ 1,  2,  3,  4,  5,  6,  7,  8,  9, 10, 11, 12],\n",
       "       [13, 14, 15, 16, 17, 18, 19, 20, 21, 22, 23, 24]])"
      ]
     },
     "execution_count": 20,
     "metadata": {},
     "output_type": "execute_result"
    }
   ],
   "source": [
    "a2"
   ]
  },
  {
   "cell_type": "code",
   "execution_count": 21,
   "id": "b7767694-175c-4a9c-b114-7e45d9dd3670",
   "metadata": {},
   "outputs": [
    {
     "data": {
      "text/plain": [
       "[array([[ 1,  2,  3,  4,  5,  6,  7,  8,  9, 10, 11, 12],\n",
       "        [13, 14, 15, 16, 17, 18, 19, 20, 21, 22, 23, 24]])]"
      ]
     },
     "execution_count": 21,
     "metadata": {},
     "output_type": "execute_result"
    }
   ],
   "source": [
    "np.vsplit(a2,1)"
   ]
  },
  {
   "cell_type": "code",
   "execution_count": 22,
   "id": "ca364d37-a74d-4ab1-9744-0b2d16710614",
   "metadata": {},
   "outputs": [
    {
     "data": {
      "text/plain": [
       "array([[99,  1],\n",
       "       [ 2,  2]])"
      ]
     },
     "execution_count": 22,
     "metadata": {},
     "output_type": "execute_result"
    }
   ],
   "source": [
    "a1 = np.array([[1, 1],\n",
    "               [2, 2]])\n",
    "c=a1[0, :]\n",
    "c[0]=99\n",
    "c\n",
    "a1"
   ]
  },
  {
   "cell_type": "code",
   "execution_count": 23,
   "id": "8615adf9-4aa3-49c5-aaca-912a377607e7",
   "metadata": {},
   "outputs": [],
   "source": [
    "a2=a1\n",
    "a2[0]=10"
   ]
  },
  {
   "cell_type": "code",
   "execution_count": 24,
   "id": "cd140fbc-7ab5-42fa-87a6-44e407327053",
   "metadata": {},
   "outputs": [
    {
     "data": {
      "text/plain": [
       "array([[10, 10],\n",
       "       [ 2,  2]])"
      ]
     },
     "execution_count": 24,
     "metadata": {},
     "output_type": "execute_result"
    }
   ],
   "source": [
    "a1"
   ]
  },
  {
   "cell_type": "code",
   "execution_count": 25,
   "id": "ba793121-330d-49cd-8ffe-4f9a02e481f2",
   "metadata": {},
   "outputs": [
    {
     "data": {
      "text/plain": [
       "False"
      ]
     },
     "execution_count": 25,
     "metadata": {},
     "output_type": "execute_result"
    }
   ],
   "source": [
    "c = np.array([11,34,56,2,3,8])\n",
    "vr=c.copy()\n",
    "vr is c \n",
    "vr.reshape(2,3)\n",
    "vr[0]=100\n",
    "vr\n",
    "c\n",
    "\n",
    "vr.base is c"
   ]
  },
  {
   "cell_type": "code",
   "execution_count": 26,
   "id": "4841fd62-211d-4029-8757-3c3363377215",
   "metadata": {},
   "outputs": [
    {
     "data": {
      "text/plain": [
       "array([ 3,  4, 11, 41])"
      ]
     },
     "execution_count": 26,
     "metadata": {},
     "output_type": "execute_result"
    }
   ],
   "source": [
    "import numpy as np\n",
    "a1=np.array([2,3,10,40])\n",
    "a2=np.ones(4, dtype=int)\n",
    "a1 + a2 "
   ]
  },
  {
   "cell_type": "code",
   "execution_count": 27,
   "id": "77de9e84-b612-4404-85c6-d252d0a5436d",
   "metadata": {},
   "outputs": [
    {
     "data": {
      "text/plain": [
       "array([0, 0, 0, 0])"
      ]
     },
     "execution_count": 27,
     "metadata": {},
     "output_type": "execute_result"
    }
   ],
   "source": [
    "import numpy as np\n",
    "a1=np.array([2,3,10,40])\n",
    "a2=np.ones(4, dtype=int)\n",
    "a1 % a2"
   ]
  },
  {
   "cell_type": "code",
   "execution_count": 28,
   "id": "24d31dc7-34b4-49c4-9135-7cc6b7cacb5f",
   "metadata": {},
   "outputs": [
    {
     "data": {
      "text/plain": [
       "55"
      ]
     },
     "execution_count": 28,
     "metadata": {},
     "output_type": "execute_result"
    }
   ],
   "source": [
    "import numpy as np\n",
    "a1=np.array([2,3,10,40])\n",
    "a2=np.ones(4, dtype=int)\n",
    "a1.sum()"
   ]
  },
  {
   "cell_type": "code",
   "execution_count": 29,
   "id": "e8bfc11b-db69-4684-900d-1656076a13a0",
   "metadata": {},
   "outputs": [
    {
     "data": {
      "text/plain": [
       "array([[6, 7, 8],\n",
       "       [2, 3, 1]])"
      ]
     },
     "execution_count": 29,
     "metadata": {},
     "output_type": "execute_result"
    }
   ],
   "source": [
    "a3=np.array([[6,7,8],[2,3,1]])\n",
    "a3.sum(axis=0)\n",
    "a3"
   ]
  },
  {
   "cell_type": "code",
   "execution_count": 30,
   "id": "91788014-da27-4195-9bec-e56d02947e89",
   "metadata": {},
   "outputs": [
    {
     "data": {
      "text/plain": [
       "array([21,  6])"
      ]
     },
     "execution_count": 30,
     "metadata": {},
     "output_type": "execute_result"
    }
   ],
   "source": [
    "a3=np.array([[6,7,8],[2,3,1]])\n",
    "a3.sum(axis=1)\n"
   ]
  },
  {
   "cell_type": "code",
   "execution_count": 31,
   "id": "09a2eb0e-ba13-4a6d-a4d5-f2ea3f830605",
   "metadata": {},
   "outputs": [
    {
     "data": {
      "text/plain": [
       "0.05093587"
      ]
     },
     "execution_count": 31,
     "metadata": {},
     "output_type": "execute_result"
    }
   ],
   "source": [
    "a = np.array([[0.45053314, 0.17296777, 0.34376245, 0.5510652],\n",
    "              [0.54627315, 0.05093587, 0.40067661, 0.55645993],\n",
    "              [0.12697628, 0.82485143, 0.26590556, 0.56917101]])\n",
    "a.min()"
   ]
  },
  {
   "cell_type": "code",
   "execution_count": 32,
   "id": "87e275a4-4233-4d9a-8a7f-783a007600f6",
   "metadata": {},
   "outputs": [
    {
     "data": {
      "text/plain": [
       "0.82485143"
      ]
     },
     "execution_count": 32,
     "metadata": {},
     "output_type": "execute_result"
    }
   ],
   "source": [
    "a.max()"
   ]
  },
  {
   "cell_type": "code",
   "execution_count": 33,
   "id": "3ada1be3-a265-49ec-91cd-420b78dc4952",
   "metadata": {},
   "outputs": [
    {
     "data": {
      "text/plain": [
       "0.4049648666666667"
      ]
     },
     "execution_count": 33,
     "metadata": {},
     "output_type": "execute_result"
    }
   ],
   "source": [
    "a.mean()"
   ]
  },
  {
   "cell_type": "code",
   "execution_count": 34,
   "id": "b0c51b52-b441-455f-9a50-dc3e9ca72249",
   "metadata": {},
   "outputs": [
    {
     "data": {
      "text/plain": [
       "4.8595784"
      ]
     },
     "execution_count": 34,
     "metadata": {},
     "output_type": "execute_result"
    }
   ],
   "source": [
    "a.sum()"
   ]
  },
  {
   "cell_type": "code",
   "execution_count": 35,
   "id": "7f8784a1-f790-4450-8f3b-0855dccaaaa8",
   "metadata": {},
   "outputs": [
    {
     "data": {
      "text/plain": [
       "array([3, 1])"
      ]
     },
     "execution_count": 35,
     "metadata": {},
     "output_type": "execute_result"
    }
   ],
   "source": [
    "al=np.array([[3,4,5],[1,2,8],[11,22,10]])\n",
    "al[0:2,0]"
   ]
  },
  {
   "cell_type": "code",
   "execution_count": 36,
   "id": "2b3ec226-27de-4c2b-a8dd-3da9630bfc95",
   "metadata": {},
   "outputs": [
    {
     "data": {
      "text/plain": [
       "3"
      ]
     },
     "execution_count": 36,
     "metadata": {},
     "output_type": "execute_result"
    }
   ],
   "source": [
    "aa=np.ones((4, 3, 2))\n",
    "aa.ndim"
   ]
  },
  {
   "cell_type": "code",
   "execution_count": 37,
   "id": "09a9831f-12cb-4c08-bcd3-ecb06f920dc6",
   "metadata": {},
   "outputs": [
    {
     "data": {
      "text/plain": [
       "3"
      ]
     },
     "execution_count": 37,
     "metadata": {},
     "output_type": "execute_result"
    }
   ],
   "source": [
    "aa.ndim"
   ]
  },
  {
   "cell_type": "code",
   "execution_count": 38,
   "id": "1c91285f-cb25-4dab-99bf-7d05427fcb9c",
   "metadata": {},
   "outputs": [
    {
     "data": {
      "text/plain": [
       "array([[0.85147652, 0.42081037],\n",
       "       [0.69392719, 0.24854731],\n",
       "       [0.41144853, 0.14595449]])"
      ]
     },
     "execution_count": 38,
     "metadata": {},
     "output_type": "execute_result"
    }
   ],
   "source": [
    "rng=np.random.default_rng()\n",
    "rng.random((3,2))"
   ]
  },
  {
   "cell_type": "code",
   "execution_count": 39,
   "id": "13015c02-d77b-4196-a2b9-3b5122471ae3",
   "metadata": {},
   "outputs": [
    {
     "data": {
      "text/plain": [
       "array([7, 5, 7, 1, 4])"
      ]
     },
     "execution_count": 39,
     "metadata": {},
     "output_type": "execute_result"
    }
   ],
   "source": [
    "rng.integers(low=1,high=10,size=5,endpoint=True)"
   ]
  },
  {
   "cell_type": "code",
   "execution_count": 40,
   "id": "fcd436bf-f7f3-4a1e-89b5-4575682c4e3d",
   "metadata": {},
   "outputs": [
    {
     "data": {
      "text/plain": [
       "array([0, 1, 2, 3])"
      ]
     },
     "execution_count": 40,
     "metadata": {},
     "output_type": "execute_result"
    }
   ],
   "source": [
    "a4=rng.integers(5, size=(2, 4),endpoint=True) \n",
    "np.unique(a4)"
   ]
  },
  {
   "cell_type": "code",
   "execution_count": 41,
   "id": "32925816-1e7a-4edc-8f91-1f39601f6151",
   "metadata": {},
   "outputs": [
    {
     "data": {
      "text/plain": [
       "array([[ 3,  8,  4,  5],\n",
       "       [ 1,  2, 11,  8],\n",
       "       [11, 22,  2, 10]])"
      ]
     },
     "execution_count": 41,
     "metadata": {},
     "output_type": "execute_result"
    }
   ],
   "source": [
    "al=np.array([[3,8,4,5],[1,2,11,8],[11,22,2,10]])\n",
    "np.unique(al)\n",
    "al"
   ]
  },
  {
   "cell_type": "code",
   "execution_count": 42,
   "id": "96ea2bcc-12db-42c8-bde1-184a57f80dd4",
   "metadata": {},
   "outputs": [
    {
     "data": {
      "text/plain": [
       "(array([ 2,  3, 10, 40]), array([2, 1, 1, 1]))"
      ]
     },
     "execution_count": 42,
     "metadata": {},
     "output_type": "execute_result"
    }
   ],
   "source": [
    "a1=np.array([2,2,3,10,40])\n",
    "np.unique(a1,return_counts=True)"
   ]
  },
  {
   "cell_type": "code",
   "execution_count": 43,
   "id": "fb96148c-2542-42b3-aebc-ed51f7b5ec8e",
   "metadata": {},
   "outputs": [
    {
     "data": {
      "text/plain": [
       "array([1, 3, 4, 6, 8, 0, 2])"
      ]
     },
     "execution_count": 43,
     "metadata": {},
     "output_type": "execute_result"
    }
   ],
   "source": [
    "arr=np.array([2,0,8,6,4,3,1])\n",
    "np.flip(arr)"
   ]
  },
  {
   "cell_type": "code",
   "execution_count": 44,
   "id": "85fdd96d-4c48-4762-be43-8433d59f9d9a",
   "metadata": {},
   "outputs": [
    {
     "data": {
      "text/plain": [
       "array([22,  2,  8])"
      ]
     },
     "execution_count": 44,
     "metadata": {},
     "output_type": "execute_result"
    }
   ],
   "source": [
    "np.flip(al[:,1])"
   ]
  },
  {
   "cell_type": "code",
   "execution_count": 45,
   "id": "075aec63-c8d0-4aa0-938f-3a793d0c7b0c",
   "metadata": {},
   "outputs": [
    {
     "data": {
      "text/plain": [
       "\u001b[0;31mType:\u001b[0m        ndarray\n",
       "\u001b[0;31mString form:\u001b[0m\n",
       "[[ 1  2  3  4]\n",
       " [ 5  6  7  8]\n",
       " [ 9 10 11 12]]\n",
       "\u001b[0;31mLength:\u001b[0m      3\n",
       "\u001b[0;31mFile:\u001b[0m        ~/.local/lib/python3.8/site-packages/numpy/__init__.py\n",
       "\u001b[0;31mDocstring:\u001b[0m  \n",
       "ndarray(shape, dtype=float, buffer=None, offset=0,\n",
       "        strides=None, order=None)\n",
       "\n",
       "An array object represents a multidimensional, homogeneous array\n",
       "of fixed-size items.  An associated data-type object describes the\n",
       "format of each element in the array (its byte-order, how many bytes it\n",
       "occupies in memory, whether it is an integer, a floating point number,\n",
       "or something else, etc.)\n",
       "\n",
       "Arrays should be constructed using `array`, `zeros` or `empty` (refer\n",
       "to the See Also section below).  The parameters given here refer to\n",
       "a low-level method (`ndarray(...)`) for instantiating an array.\n",
       "\n",
       "For more information, refer to the `numpy` module and examine the\n",
       "methods and attributes of an array.\n",
       "\n",
       "Parameters\n",
       "----------\n",
       "(for the __new__ method; see Notes below)\n",
       "\n",
       "shape : tuple of ints\n",
       "    Shape of created array.\n",
       "dtype : data-type, optional\n",
       "    Any object that can be interpreted as a numpy data type.\n",
       "buffer : object exposing buffer interface, optional\n",
       "    Used to fill the array with data.\n",
       "offset : int, optional\n",
       "    Offset of array data in buffer.\n",
       "strides : tuple of ints, optional\n",
       "    Strides of data in memory.\n",
       "order : {'C', 'F'}, optional\n",
       "    Row-major (C-style) or column-major (Fortran-style) order.\n",
       "\n",
       "Attributes\n",
       "----------\n",
       "T : ndarray\n",
       "    Transpose of the array.\n",
       "data : buffer\n",
       "    The array's elements, in memory.\n",
       "dtype : dtype object\n",
       "    Describes the format of the elements in the array.\n",
       "flags : dict\n",
       "    Dictionary containing information related to memory use, e.g.,\n",
       "    'C_CONTIGUOUS', 'OWNDATA', 'WRITEABLE', etc.\n",
       "flat : numpy.flatiter object\n",
       "    Flattened version of the array as an iterator.  The iterator\n",
       "    allows assignments, e.g., ``x.flat = 3`` (See `ndarray.flat` for\n",
       "    assignment examples; TODO).\n",
       "imag : ndarray\n",
       "    Imaginary part of the array.\n",
       "real : ndarray\n",
       "    Real part of the array.\n",
       "size : int\n",
       "    Number of elements in the array.\n",
       "itemsize : int\n",
       "    The memory use of each array element in bytes.\n",
       "nbytes : int\n",
       "    The total number of bytes required to store the array data,\n",
       "    i.e., ``itemsize * size``.\n",
       "ndim : int\n",
       "    The array's number of dimensions.\n",
       "shape : tuple of ints\n",
       "    Shape of the array.\n",
       "strides : tuple of ints\n",
       "    The step-size required to move from one element to the next in\n",
       "    memory. For example, a contiguous ``(3, 4)`` array of type\n",
       "    ``int16`` in C-order has strides ``(8, 2)``.  This implies that\n",
       "    to move from element to element in memory requires jumps of 2 bytes.\n",
       "    To move from row-to-row, one needs to jump 8 bytes at a time\n",
       "    (``2 * 4``).\n",
       "ctypes : ctypes object\n",
       "    Class containing properties of the array needed for interaction\n",
       "    with ctypes.\n",
       "base : ndarray\n",
       "    If the array is a view into another array, that array is its `base`\n",
       "    (unless that array is also a view).  The `base` array is where the\n",
       "    array data is actually stored.\n",
       "\n",
       "See Also\n",
       "--------\n",
       "array : Construct an array.\n",
       "zeros : Create an array, each element of which is zero.\n",
       "empty : Create an array, but leave its allocated memory unchanged (i.e.,\n",
       "        it contains \"garbage\").\n",
       "dtype : Create a data-type.\n",
       "numpy.typing.NDArray : An ndarray alias :term:`generic <generic type>`\n",
       "                       w.r.t. its `dtype.type <numpy.dtype.type>`.\n",
       "\n",
       "Notes\n",
       "-----\n",
       "There are two modes of creating an array using ``__new__``:\n",
       "\n",
       "1. If `buffer` is None, then only `shape`, `dtype`, and `order`\n",
       "   are used.\n",
       "2. If `buffer` is an object exposing the buffer interface, then\n",
       "   all keywords are interpreted.\n",
       "\n",
       "No ``__init__`` method is needed because the array is fully initialized\n",
       "after the ``__new__`` method.\n",
       "\n",
       "Examples\n",
       "--------\n",
       "These examples illustrate the low-level `ndarray` constructor.  Refer\n",
       "to the `See Also` section above for easier ways of constructing an\n",
       "ndarray.\n",
       "\n",
       "First mode, `buffer` is None:\n",
       "\n",
       ">>> np.ndarray(shape=(2,2), dtype=float, order='F')\n",
       "array([[0.0e+000, 0.0e+000], # random\n",
       "       [     nan, 2.5e-323]])\n",
       "\n",
       "Second mode:\n",
       "\n",
       ">>> np.ndarray((2,), buffer=np.array([1,2,3]),\n",
       "...            offset=np.int_().itemsize,\n",
       "...            dtype=int) # offset = 1*itemsize, i.e. skip first element\n",
       "array([2, 3])"
      ]
     },
     "metadata": {},
     "output_type": "display_data"
    }
   ],
   "source": [
    "x = np.array([[1 , 2, 3, 4], [5, 6, 7, 8], [9, 10, 11, 12]])\n",
    "\n",
    "y=x.flatten()\n",
    "y[0]=99\n",
    "y\n",
    "x??"
   ]
  },
  {
   "cell_type": "code",
   "execution_count": 46,
   "id": "09e182db-be8d-4cbf-bd8b-0aab1fea0d48",
   "metadata": {},
   "outputs": [],
   "source": [
    "a = np.array([1, 2, 3, 4, 5, 6])  # save file using save function\n",
    "np.save(\"savefile.npy\",a)"
   ]
  },
  {
   "cell_type": "code",
   "execution_count": 47,
   "id": "c1337505-ad5e-44b5-b89b-734d4b6c0289",
   "metadata": {},
   "outputs": [],
   "source": [
    "c =np.load(\"savefile.npy\")"
   ]
  },
  {
   "cell_type": "code",
   "execution_count": 48,
   "id": "5dd086b5-843a-4099-a04f-ac2e9cd28f73",
   "metadata": {},
   "outputs": [
    {
     "data": {
      "text/plain": [
       "array([1, 2, 3, 4, 5, 6])"
      ]
     },
     "execution_count": 48,
     "metadata": {},
     "output_type": "execute_result"
    }
   ],
   "source": [
    "c"
   ]
  },
  {
   "cell_type": "code",
   "execution_count": 49,
   "id": "e17a515b-b384-4cb4-a449-0331046d2774",
   "metadata": {},
   "outputs": [
    {
     "data": {
      "text/plain": [
       "array([1., 2., 3., 4., 5., 6., 7., 8.])"
      ]
     },
     "execution_count": 49,
     "metadata": {},
     "output_type": "execute_result"
    }
   ],
   "source": [
    "csv_arr = np.array([1, 2, 3, 4, 5, 6, 7, 8])\n",
    "p=np.savetxt('new_file.csv', csv_arr)\n",
    "p=np.loadtxt(\"new_file.csv\")\n",
    "p"
   ]
  },
  {
   "cell_type": "code",
   "execution_count": 51,
   "id": "f714bacc-75ad-4cb3-a11c-bf20e7085472",
   "metadata": {},
   "outputs": [
    {
     "data": {
      "text/plain": [
       "[<matplotlib.lines.Line2D at 0x7f2ea62ff6d0>]"
      ]
     },
     "execution_count": 51,
     "metadata": {},
     "output_type": "execute_result"
    },
    {
     "data": {
      "image/png": "[encoded data removed]",
      "text/plain": [
       "<Figure size 640x480 with 1 Axes>"
      ]
     },
     "metadata": {},
     "output_type": "display_data"
    }
   ],
   "source": [
    "import numpy as np\n",
    "import matplotlib.pyplot as plt\n",
    "x = np.linspace(0, 5, 20)\n",
    "y = np.linspace(0, 10, 20)\n",
    "plt.plot(x, y, 'purple') # line\n",
    "plt.plot(x, y, 'o')"
   ]
  },
  {
   "cell_type": "code",
   "execution_count": 1,
   "id": "ef9cbaa8-5232-43af-9eb6-e82354b0ef70",
   "metadata": {},
   "outputs": [
    {
     "data": {
      "image/png": "[encoded data removed]",
      "text/plain": [
       "<Figure size 640x480 with 1 Axes>"
      ]
     },
     "metadata": {},
     "output_type": "display_data"
    }
   ],
   "source": [
    "import numpy as np\n",
    "a = np.array([2, 1, 5, 7, 4, 6, 8, 14, 10, 9, 18, 20, 22])\n",
    "import matplotlib.pyplot as plt\n",
    "plt.plot(a)\n",
    "plt.show()"
   ]
  },
  {
   "cell_type": "code",
   "execution_count": 12,
   "id": "5cd7b0b4-760d-4dd9-870c-c712e891ee8b",
   "metadata": {},
   "outputs": [
    {
     "data": {
      "text/plain": [
       "array([ 0.        ,  0.71428571,  1.42857143,  2.14285714,  2.85714286,\n",
       "        3.57142857,  4.28571429,  5.        ,  5.71428571,  6.42857143,\n",
       "        7.14285714,  7.85714286,  8.57142857,  9.28571429, 10.        ])"
      ]
     },
     "execution_count": 12,
     "metadata": {},
     "output_type": "execute_result"
    }
   ],
   "source": [
    "import matplotlib.pyplot as plt\n",
    "\n",
    "a=np.linspace(0,10,15)  \n",
    "a\n",
    "# y=np.sin(a)\n",
    "# plt.plot(a,y)\n",
    "\n",
    "# plt.plot(a, y)\n",
    "# plt.title('Sine Wave')\n",
    "# plt.xlabel('x-axis')\n",
    "# plt.ylabel('y-axis')\n",
    "# plt.show()"
   ]
  },
  {
   "cell_type": "code",
   "execution_count": null,
   "id": "9c5e9d6a-8493-4836-9e63-f992b5315ecc",
   "metadata": {},
   "outputs": [],
   "source": []
  },
  {
   "cell_type": "code",
   "execution_count": null,
   "id": "2019d06c-bb43-47a3-8aa9-eac2bd639010",
   "metadata": {},
   "outputs": [],
   "source": []
  }
 ],
 "metadata": {
  "kernelspec": {
   "display_name": "Python 3 (ipykernel)",
   "language": "python",
   "name": "python3"
  },
  "language_info": {
   "codemirror_mode": {
    "name": "ipython",
    "version": 3
   },
   "file_extension": ".py",
   "mimetype": "text/x-python",
   "name": "python",
   "nbconvert_exporter": "python",
   "pygments_lexer": "ipython3",
   "version": "3.8.10"
  }
 },
 "nbformat": 4,
 "nbformat_minor": 5
}
